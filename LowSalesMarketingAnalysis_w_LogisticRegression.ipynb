{
  "nbformat": 4,
  "nbformat_minor": 0,
  "metadata": {
    "colab": {
      "name": "LowSalesMarketingAnalysis w/ LogisticRegression ",
      "provenance": [],
      "collapsed_sections": [
        "M--Ruvo9trNv",
        "404WrzKNyYE5"
      ],
      "authorship_tag": "ABX9TyPbDAE8GJTbwCRF7i/OxpOb",
      "include_colab_link": true
    },
    "kernelspec": {
      "name": "python3",
      "display_name": "Python 3"
    },
    "language_info": {
      "name": "python"
    }
  },
  "cells": [
    {
      "cell_type": "markdown",
      "metadata": {
        "id": "view-in-github",
        "colab_type": "text"
      },
      "source": [
        "<a href=\"https://colab.research.google.com/github/metaperson1/metaperson1/blob/main/LowSalesMarketingAnalysis_w_LogisticRegression.ipynb\" target=\"_parent\"><img src=\"https://colab.research.google.com/assets/colab-badge.svg\" alt=\"Open In Colab\"/></a>"
      ]
    },
    {
      "cell_type": "markdown",
      "source": [
        ""
      ],
      "metadata": {
        "id": "QSZBbSMvQ8v-"
      }
    },
    {
      "cell_type": "markdown",
      "source": [
        "You work as an analyst in the marketing department of a company that provides various medical insurance in Nigeria. Your manager is unhappy with the low sales volume of a specific kind of insurance. The data engineer provides you with a sample dataset for those that visit the company website for medical insurance.\n",
        "The dataset contains the following columns:\n",
        "- User ID\n",
        "- Gender\n",
        "- Age\n",
        "- Salary\n",
        "- Purchase: An indicator of whether the users purchased (1/Positive Class) or not-purchased (0/Negative Class) a particular product.\n",
        "As we must have guessed, this is a binary classification problem, with the positive class being \"Purchased\" and the negative class being \"Not purchased\".\n"
      ],
      "metadata": {
        "id": "q9ltPgJMm2jP"
      }
    },
    {
      "cell_type": "code",
      "execution_count": 1,
      "metadata": {
        "colab": {
          "base_uri": "https://localhost:8080/"
        },
        "id": "vrD12iRnP5N4",
        "outputId": "ab628f69-a3a4-4670-9465-0424504823af"
      },
      "outputs": [
        {
          "output_type": "stream",
          "name": "stdout",
          "text": [
            "Requirement already satisfied: pandas==0.25.3 in /usr/local/lib/python3.7/dist-packages (0.25.3)\n",
            "Requirement already satisfied: pytz>=2017.2 in /usr/local/lib/python3.7/dist-packages (from pandas==0.25.3) (2018.9)\n",
            "Requirement already satisfied: python-dateutil>=2.6.1 in /usr/local/lib/python3.7/dist-packages (from pandas==0.25.3) (2.8.2)\n",
            "Requirement already satisfied: numpy>=1.13.3 in /usr/local/lib/python3.7/dist-packages (from pandas==0.25.3) (1.16.5)\n",
            "Requirement already satisfied: six>=1.5 in /usr/local/lib/python3.7/dist-packages (from python-dateutil>=2.6.1->pandas==0.25.3) (1.15.0)\n",
            "Requirement already satisfied: numpy==1.16.5 in /usr/local/lib/python3.7/dist-packages (1.16.5)\n"
          ]
        }
      ],
      "source": [
        "# For running pandas_profiling\n",
        "# ! pip install pandas==0.25.3\n",
        "# ! pip install numpy==1.16.5\n",
        "\n",
        "import numpy as np\n",
        "import pandas as pd\n",
        "import matplotlib.pyplot as plt\n",
        "%matplotlib inline\n",
        "import seaborn as sns\n",
        "from pandas_profiling import ProfileReport"
      ]
    },
    {
      "cell_type": "code",
      "source": [
        "url = 'https://drive.google.com/file/d/1DmJA2zbp_GRhiXO8JWI0j1x30KN9WPdz/view?usp=sharing'\n",
        "url= 'https://drive.google.com/uc?id=' + url.split('/')[-2]\n",
        "insurance = pd.read_csv(url)\n",
        "insurance.head()"
      ],
      "metadata": {
        "colab": {
          "base_uri": "https://localhost:8080/",
          "height": 206
        },
        "id": "vprxuk1oRCGc",
        "outputId": "a3e660be-e299-424b-eebc-2ca11366a3e2"
      },
      "execution_count": 2,
      "outputs": [
        {
          "output_type": "execute_result",
          "data": {
            "text/plain": [
              "    User ID  Gender  Age  EstimatedSalary      Purchased\n",
              "0  15624510    Male   19            19000  not-purchased\n",
              "1  15810944    Male   35            20000  not-purchased\n",
              "2  15668575  Female   26            43000  not-purchased\n",
              "3  15603246  Female   27            57000  not-purchased\n",
              "4  15804002    Male   19            76000  not-purchased"
            ],
            "text/html": [
              "\n",
              "  <div id=\"df-c10d589f-96d0-4a11-9b86-bf5a5550f300\">\n",
              "    <div class=\"colab-df-container\">\n",
              "      <div>\n",
              "<style scoped>\n",
              "    .dataframe tbody tr th:only-of-type {\n",
              "        vertical-align: middle;\n",
              "    }\n",
              "\n",
              "    .dataframe tbody tr th {\n",
              "        vertical-align: top;\n",
              "    }\n",
              "\n",
              "    .dataframe thead th {\n",
              "        text-align: right;\n",
              "    }\n",
              "</style>\n",
              "<table border=\"1\" class=\"dataframe\">\n",
              "  <thead>\n",
              "    <tr style=\"text-align: right;\">\n",
              "      <th></th>\n",
              "      <th>User ID</th>\n",
              "      <th>Gender</th>\n",
              "      <th>Age</th>\n",
              "      <th>EstimatedSalary</th>\n",
              "      <th>Purchased</th>\n",
              "    </tr>\n",
              "  </thead>\n",
              "  <tbody>\n",
              "    <tr>\n",
              "      <th>0</th>\n",
              "      <td>15624510</td>\n",
              "      <td>Male</td>\n",
              "      <td>19</td>\n",
              "      <td>19000</td>\n",
              "      <td>not-purchased</td>\n",
              "    </tr>\n",
              "    <tr>\n",
              "      <th>1</th>\n",
              "      <td>15810944</td>\n",
              "      <td>Male</td>\n",
              "      <td>35</td>\n",
              "      <td>20000</td>\n",
              "      <td>not-purchased</td>\n",
              "    </tr>\n",
              "    <tr>\n",
              "      <th>2</th>\n",
              "      <td>15668575</td>\n",
              "      <td>Female</td>\n",
              "      <td>26</td>\n",
              "      <td>43000</td>\n",
              "      <td>not-purchased</td>\n",
              "    </tr>\n",
              "    <tr>\n",
              "      <th>3</th>\n",
              "      <td>15603246</td>\n",
              "      <td>Female</td>\n",
              "      <td>27</td>\n",
              "      <td>57000</td>\n",
              "      <td>not-purchased</td>\n",
              "    </tr>\n",
              "    <tr>\n",
              "      <th>4</th>\n",
              "      <td>15804002</td>\n",
              "      <td>Male</td>\n",
              "      <td>19</td>\n",
              "      <td>76000</td>\n",
              "      <td>not-purchased</td>\n",
              "    </tr>\n",
              "  </tbody>\n",
              "</table>\n",
              "</div>\n",
              "      <button class=\"colab-df-convert\" onclick=\"convertToInteractive('df-c10d589f-96d0-4a11-9b86-bf5a5550f300')\"\n",
              "              title=\"Convert this dataframe to an interactive table.\"\n",
              "              style=\"display:none;\">\n",
              "        \n",
              "  <svg xmlns=\"http://www.w3.org/2000/svg\" height=\"24px\"viewBox=\"0 0 24 24\"\n",
              "       width=\"24px\">\n",
              "    <path d=\"M0 0h24v24H0V0z\" fill=\"none\"/>\n",
              "    <path d=\"M18.56 5.44l.94 2.06.94-2.06 2.06-.94-2.06-.94-.94-2.06-.94 2.06-2.06.94zm-11 1L8.5 8.5l.94-2.06 2.06-.94-2.06-.94L8.5 2.5l-.94 2.06-2.06.94zm10 10l.94 2.06.94-2.06 2.06-.94-2.06-.94-.94-2.06-.94 2.06-2.06.94z\"/><path d=\"M17.41 7.96l-1.37-1.37c-.4-.4-.92-.59-1.43-.59-.52 0-1.04.2-1.43.59L10.3 9.45l-7.72 7.72c-.78.78-.78 2.05 0 2.83L4 21.41c.39.39.9.59 1.41.59.51 0 1.02-.2 1.41-.59l7.78-7.78 2.81-2.81c.8-.78.8-2.07 0-2.86zM5.41 20L4 18.59l7.72-7.72 1.47 1.35L5.41 20z\"/>\n",
              "  </svg>\n",
              "      </button>\n",
              "      \n",
              "  <style>\n",
              "    .colab-df-container {\n",
              "      display:flex;\n",
              "      flex-wrap:wrap;\n",
              "      gap: 12px;\n",
              "    }\n",
              "\n",
              "    .colab-df-convert {\n",
              "      background-color: #E8F0FE;\n",
              "      border: none;\n",
              "      border-radius: 50%;\n",
              "      cursor: pointer;\n",
              "      display: none;\n",
              "      fill: #1967D2;\n",
              "      height: 32px;\n",
              "      padding: 0 0 0 0;\n",
              "      width: 32px;\n",
              "    }\n",
              "\n",
              "    .colab-df-convert:hover {\n",
              "      background-color: #E2EBFA;\n",
              "      box-shadow: 0px 1px 2px rgba(60, 64, 67, 0.3), 0px 1px 3px 1px rgba(60, 64, 67, 0.15);\n",
              "      fill: #174EA6;\n",
              "    }\n",
              "\n",
              "    [theme=dark] .colab-df-convert {\n",
              "      background-color: #3B4455;\n",
              "      fill: #D2E3FC;\n",
              "    }\n",
              "\n",
              "    [theme=dark] .colab-df-convert:hover {\n",
              "      background-color: #434B5C;\n",
              "      box-shadow: 0px 1px 3px 1px rgba(0, 0, 0, 0.15);\n",
              "      filter: drop-shadow(0px 1px 2px rgba(0, 0, 0, 0.3));\n",
              "      fill: #FFFFFF;\n",
              "    }\n",
              "  </style>\n",
              "\n",
              "      <script>\n",
              "        const buttonEl =\n",
              "          document.querySelector('#df-c10d589f-96d0-4a11-9b86-bf5a5550f300 button.colab-df-convert');\n",
              "        buttonEl.style.display =\n",
              "          google.colab.kernel.accessAllowed ? 'block' : 'none';\n",
              "\n",
              "        async function convertToInteractive(key) {\n",
              "          const element = document.querySelector('#df-c10d589f-96d0-4a11-9b86-bf5a5550f300');\n",
              "          const dataTable =\n",
              "            await google.colab.kernel.invokeFunction('convertToInteractive',\n",
              "                                                     [key], {});\n",
              "          if (!dataTable) return;\n",
              "\n",
              "          const docLinkHtml = 'Like what you see? Visit the ' +\n",
              "            '<a target=\"_blank\" href=https://colab.research.google.com/notebooks/data_table.ipynb>data table notebook</a>'\n",
              "            + ' to learn more about interactive tables.';\n",
              "          element.innerHTML = '';\n",
              "          dataTable['output_type'] = 'display_data';\n",
              "          await google.colab.output.renderOutput(dataTable, element);\n",
              "          const docLink = document.createElement('div');\n",
              "          docLink.innerHTML = docLinkHtml;\n",
              "          element.appendChild(docLink);\n",
              "        }\n",
              "      </script>\n",
              "    </div>\n",
              "  </div>\n",
              "  "
            ]
          },
          "metadata": {},
          "execution_count": 2
        }
      ]
    },
    {
      "cell_type": "code",
      "source": [
        "#Dropping User ID column \n",
        "insurance.drop( [\"User ID\"], axis= \"columns\", inplace=True)"
      ],
      "metadata": {
        "id": "nJrerXuiRPH9"
      },
      "execution_count": 3,
      "outputs": []
    },
    {
      "cell_type": "code",
      "source": [
        "insurance"
      ],
      "metadata": {
        "colab": {
          "base_uri": "https://localhost:8080/",
          "height": 424
        },
        "id": "pQgvPvOJRQQ9",
        "outputId": "18a9a3f6-fb02-447c-900e-6c5055c23bc4"
      },
      "execution_count": 4,
      "outputs": [
        {
          "output_type": "execute_result",
          "data": {
            "text/plain": [
              "     Gender  Age  EstimatedSalary      Purchased\n",
              "0      Male   19            19000  not-purchased\n",
              "1      Male   35            20000  not-purchased\n",
              "2    Female   26            43000  not-purchased\n",
              "3    Female   27            57000  not-purchased\n",
              "4      Male   19            76000  not-purchased\n",
              "..      ...  ...              ...            ...\n",
              "395  Female   46            41000      purchased\n",
              "396    Male   51            23000      purchased\n",
              "397  Female   50            20000      purchased\n",
              "398    Male   36            33000  not-purchased\n",
              "399  Female   49            36000      purchased\n",
              "\n",
              "[400 rows x 4 columns]"
            ],
            "text/html": [
              "\n",
              "  <div id=\"df-13a1e0a0-570a-45c1-a8b5-6e1a43d31600\">\n",
              "    <div class=\"colab-df-container\">\n",
              "      <div>\n",
              "<style scoped>\n",
              "    .dataframe tbody tr th:only-of-type {\n",
              "        vertical-align: middle;\n",
              "    }\n",
              "\n",
              "    .dataframe tbody tr th {\n",
              "        vertical-align: top;\n",
              "    }\n",
              "\n",
              "    .dataframe thead th {\n",
              "        text-align: right;\n",
              "    }\n",
              "</style>\n",
              "<table border=\"1\" class=\"dataframe\">\n",
              "  <thead>\n",
              "    <tr style=\"text-align: right;\">\n",
              "      <th></th>\n",
              "      <th>Gender</th>\n",
              "      <th>Age</th>\n",
              "      <th>EstimatedSalary</th>\n",
              "      <th>Purchased</th>\n",
              "    </tr>\n",
              "  </thead>\n",
              "  <tbody>\n",
              "    <tr>\n",
              "      <th>0</th>\n",
              "      <td>Male</td>\n",
              "      <td>19</td>\n",
              "      <td>19000</td>\n",
              "      <td>not-purchased</td>\n",
              "    </tr>\n",
              "    <tr>\n",
              "      <th>1</th>\n",
              "      <td>Male</td>\n",
              "      <td>35</td>\n",
              "      <td>20000</td>\n",
              "      <td>not-purchased</td>\n",
              "    </tr>\n",
              "    <tr>\n",
              "      <th>2</th>\n",
              "      <td>Female</td>\n",
              "      <td>26</td>\n",
              "      <td>43000</td>\n",
              "      <td>not-purchased</td>\n",
              "    </tr>\n",
              "    <tr>\n",
              "      <th>3</th>\n",
              "      <td>Female</td>\n",
              "      <td>27</td>\n",
              "      <td>57000</td>\n",
              "      <td>not-purchased</td>\n",
              "    </tr>\n",
              "    <tr>\n",
              "      <th>4</th>\n",
              "      <td>Male</td>\n",
              "      <td>19</td>\n",
              "      <td>76000</td>\n",
              "      <td>not-purchased</td>\n",
              "    </tr>\n",
              "    <tr>\n",
              "      <th>...</th>\n",
              "      <td>...</td>\n",
              "      <td>...</td>\n",
              "      <td>...</td>\n",
              "      <td>...</td>\n",
              "    </tr>\n",
              "    <tr>\n",
              "      <th>395</th>\n",
              "      <td>Female</td>\n",
              "      <td>46</td>\n",
              "      <td>41000</td>\n",
              "      <td>purchased</td>\n",
              "    </tr>\n",
              "    <tr>\n",
              "      <th>396</th>\n",
              "      <td>Male</td>\n",
              "      <td>51</td>\n",
              "      <td>23000</td>\n",
              "      <td>purchased</td>\n",
              "    </tr>\n",
              "    <tr>\n",
              "      <th>397</th>\n",
              "      <td>Female</td>\n",
              "      <td>50</td>\n",
              "      <td>20000</td>\n",
              "      <td>purchased</td>\n",
              "    </tr>\n",
              "    <tr>\n",
              "      <th>398</th>\n",
              "      <td>Male</td>\n",
              "      <td>36</td>\n",
              "      <td>33000</td>\n",
              "      <td>not-purchased</td>\n",
              "    </tr>\n",
              "    <tr>\n",
              "      <th>399</th>\n",
              "      <td>Female</td>\n",
              "      <td>49</td>\n",
              "      <td>36000</td>\n",
              "      <td>purchased</td>\n",
              "    </tr>\n",
              "  </tbody>\n",
              "</table>\n",
              "<p>400 rows × 4 columns</p>\n",
              "</div>\n",
              "      <button class=\"colab-df-convert\" onclick=\"convertToInteractive('df-13a1e0a0-570a-45c1-a8b5-6e1a43d31600')\"\n",
              "              title=\"Convert this dataframe to an interactive table.\"\n",
              "              style=\"display:none;\">\n",
              "        \n",
              "  <svg xmlns=\"http://www.w3.org/2000/svg\" height=\"24px\"viewBox=\"0 0 24 24\"\n",
              "       width=\"24px\">\n",
              "    <path d=\"M0 0h24v24H0V0z\" fill=\"none\"/>\n",
              "    <path d=\"M18.56 5.44l.94 2.06.94-2.06 2.06-.94-2.06-.94-.94-2.06-.94 2.06-2.06.94zm-11 1L8.5 8.5l.94-2.06 2.06-.94-2.06-.94L8.5 2.5l-.94 2.06-2.06.94zm10 10l.94 2.06.94-2.06 2.06-.94-2.06-.94-.94-2.06-.94 2.06-2.06.94z\"/><path d=\"M17.41 7.96l-1.37-1.37c-.4-.4-.92-.59-1.43-.59-.52 0-1.04.2-1.43.59L10.3 9.45l-7.72 7.72c-.78.78-.78 2.05 0 2.83L4 21.41c.39.39.9.59 1.41.59.51 0 1.02-.2 1.41-.59l7.78-7.78 2.81-2.81c.8-.78.8-2.07 0-2.86zM5.41 20L4 18.59l7.72-7.72 1.47 1.35L5.41 20z\"/>\n",
              "  </svg>\n",
              "      </button>\n",
              "      \n",
              "  <style>\n",
              "    .colab-df-container {\n",
              "      display:flex;\n",
              "      flex-wrap:wrap;\n",
              "      gap: 12px;\n",
              "    }\n",
              "\n",
              "    .colab-df-convert {\n",
              "      background-color: #E8F0FE;\n",
              "      border: none;\n",
              "      border-radius: 50%;\n",
              "      cursor: pointer;\n",
              "      display: none;\n",
              "      fill: #1967D2;\n",
              "      height: 32px;\n",
              "      padding: 0 0 0 0;\n",
              "      width: 32px;\n",
              "    }\n",
              "\n",
              "    .colab-df-convert:hover {\n",
              "      background-color: #E2EBFA;\n",
              "      box-shadow: 0px 1px 2px rgba(60, 64, 67, 0.3), 0px 1px 3px 1px rgba(60, 64, 67, 0.15);\n",
              "      fill: #174EA6;\n",
              "    }\n",
              "\n",
              "    [theme=dark] .colab-df-convert {\n",
              "      background-color: #3B4455;\n",
              "      fill: #D2E3FC;\n",
              "    }\n",
              "\n",
              "    [theme=dark] .colab-df-convert:hover {\n",
              "      background-color: #434B5C;\n",
              "      box-shadow: 0px 1px 3px 1px rgba(0, 0, 0, 0.15);\n",
              "      filter: drop-shadow(0px 1px 2px rgba(0, 0, 0, 0.3));\n",
              "      fill: #FFFFFF;\n",
              "    }\n",
              "  </style>\n",
              "\n",
              "      <script>\n",
              "        const buttonEl =\n",
              "          document.querySelector('#df-13a1e0a0-570a-45c1-a8b5-6e1a43d31600 button.colab-df-convert');\n",
              "        buttonEl.style.display =\n",
              "          google.colab.kernel.accessAllowed ? 'block' : 'none';\n",
              "\n",
              "        async function convertToInteractive(key) {\n",
              "          const element = document.querySelector('#df-13a1e0a0-570a-45c1-a8b5-6e1a43d31600');\n",
              "          const dataTable =\n",
              "            await google.colab.kernel.invokeFunction('convertToInteractive',\n",
              "                                                     [key], {});\n",
              "          if (!dataTable) return;\n",
              "\n",
              "          const docLinkHtml = 'Like what you see? Visit the ' +\n",
              "            '<a target=\"_blank\" href=https://colab.research.google.com/notebooks/data_table.ipynb>data table notebook</a>'\n",
              "            + ' to learn more about interactive tables.';\n",
              "          element.innerHTML = '';\n",
              "          dataTable['output_type'] = 'display_data';\n",
              "          await google.colab.output.renderOutput(dataTable, element);\n",
              "          const docLink = document.createElement('div');\n",
              "          docLink.innerHTML = docLinkHtml;\n",
              "          element.appendChild(docLink);\n",
              "        }\n",
              "      </script>\n",
              "    </div>\n",
              "  </div>\n",
              "  "
            ]
          },
          "metadata": {},
          "execution_count": 4
        }
      ]
    },
    {
      "cell_type": "code",
      "source": [
        "#Mapping the values 1 and 0 to transform the target column\n",
        "insurance[\"Purchased\"] = insurance[ \"Purchased\"].apply(lambda x:1 if x == \"purchased\" else 0)\n",
        "\n",
        "#Reading the data again\n",
        "insurance.head (10)"
      ],
      "metadata": {
        "colab": {
          "base_uri": "https://localhost:8080/",
          "height": 363
        },
        "id": "zkeNgRogRU44",
        "outputId": "af7d7952-30af-4b9a-8f53-50137f5512ef"
      },
      "execution_count": 5,
      "outputs": [
        {
          "output_type": "execute_result",
          "data": {
            "text/plain": [
              "   Gender  Age  EstimatedSalary  Purchased\n",
              "0    Male   19            19000          0\n",
              "1    Male   35            20000          0\n",
              "2  Female   26            43000          0\n",
              "3  Female   27            57000          0\n",
              "4    Male   19            76000          0\n",
              "5    Male   27            58000          0\n",
              "6  Female   27            84000          0\n",
              "7  Female   32           150000          1\n",
              "8    Male   25            33000          0\n",
              "9  Female   35            65000          0"
            ],
            "text/html": [
              "\n",
              "  <div id=\"df-7f9bb58f-2d36-40f3-bcd2-2d88d7842bb3\">\n",
              "    <div class=\"colab-df-container\">\n",
              "      <div>\n",
              "<style scoped>\n",
              "    .dataframe tbody tr th:only-of-type {\n",
              "        vertical-align: middle;\n",
              "    }\n",
              "\n",
              "    .dataframe tbody tr th {\n",
              "        vertical-align: top;\n",
              "    }\n",
              "\n",
              "    .dataframe thead th {\n",
              "        text-align: right;\n",
              "    }\n",
              "</style>\n",
              "<table border=\"1\" class=\"dataframe\">\n",
              "  <thead>\n",
              "    <tr style=\"text-align: right;\">\n",
              "      <th></th>\n",
              "      <th>Gender</th>\n",
              "      <th>Age</th>\n",
              "      <th>EstimatedSalary</th>\n",
              "      <th>Purchased</th>\n",
              "    </tr>\n",
              "  </thead>\n",
              "  <tbody>\n",
              "    <tr>\n",
              "      <th>0</th>\n",
              "      <td>Male</td>\n",
              "      <td>19</td>\n",
              "      <td>19000</td>\n",
              "      <td>0</td>\n",
              "    </tr>\n",
              "    <tr>\n",
              "      <th>1</th>\n",
              "      <td>Male</td>\n",
              "      <td>35</td>\n",
              "      <td>20000</td>\n",
              "      <td>0</td>\n",
              "    </tr>\n",
              "    <tr>\n",
              "      <th>2</th>\n",
              "      <td>Female</td>\n",
              "      <td>26</td>\n",
              "      <td>43000</td>\n",
              "      <td>0</td>\n",
              "    </tr>\n",
              "    <tr>\n",
              "      <th>3</th>\n",
              "      <td>Female</td>\n",
              "      <td>27</td>\n",
              "      <td>57000</td>\n",
              "      <td>0</td>\n",
              "    </tr>\n",
              "    <tr>\n",
              "      <th>4</th>\n",
              "      <td>Male</td>\n",
              "      <td>19</td>\n",
              "      <td>76000</td>\n",
              "      <td>0</td>\n",
              "    </tr>\n",
              "    <tr>\n",
              "      <th>5</th>\n",
              "      <td>Male</td>\n",
              "      <td>27</td>\n",
              "      <td>58000</td>\n",
              "      <td>0</td>\n",
              "    </tr>\n",
              "    <tr>\n",
              "      <th>6</th>\n",
              "      <td>Female</td>\n",
              "      <td>27</td>\n",
              "      <td>84000</td>\n",
              "      <td>0</td>\n",
              "    </tr>\n",
              "    <tr>\n",
              "      <th>7</th>\n",
              "      <td>Female</td>\n",
              "      <td>32</td>\n",
              "      <td>150000</td>\n",
              "      <td>1</td>\n",
              "    </tr>\n",
              "    <tr>\n",
              "      <th>8</th>\n",
              "      <td>Male</td>\n",
              "      <td>25</td>\n",
              "      <td>33000</td>\n",
              "      <td>0</td>\n",
              "    </tr>\n",
              "    <tr>\n",
              "      <th>9</th>\n",
              "      <td>Female</td>\n",
              "      <td>35</td>\n",
              "      <td>65000</td>\n",
              "      <td>0</td>\n",
              "    </tr>\n",
              "  </tbody>\n",
              "</table>\n",
              "</div>\n",
              "      <button class=\"colab-df-convert\" onclick=\"convertToInteractive('df-7f9bb58f-2d36-40f3-bcd2-2d88d7842bb3')\"\n",
              "              title=\"Convert this dataframe to an interactive table.\"\n",
              "              style=\"display:none;\">\n",
              "        \n",
              "  <svg xmlns=\"http://www.w3.org/2000/svg\" height=\"24px\"viewBox=\"0 0 24 24\"\n",
              "       width=\"24px\">\n",
              "    <path d=\"M0 0h24v24H0V0z\" fill=\"none\"/>\n",
              "    <path d=\"M18.56 5.44l.94 2.06.94-2.06 2.06-.94-2.06-.94-.94-2.06-.94 2.06-2.06.94zm-11 1L8.5 8.5l.94-2.06 2.06-.94-2.06-.94L8.5 2.5l-.94 2.06-2.06.94zm10 10l.94 2.06.94-2.06 2.06-.94-2.06-.94-.94-2.06-.94 2.06-2.06.94z\"/><path d=\"M17.41 7.96l-1.37-1.37c-.4-.4-.92-.59-1.43-.59-.52 0-1.04.2-1.43.59L10.3 9.45l-7.72 7.72c-.78.78-.78 2.05 0 2.83L4 21.41c.39.39.9.59 1.41.59.51 0 1.02-.2 1.41-.59l7.78-7.78 2.81-2.81c.8-.78.8-2.07 0-2.86zM5.41 20L4 18.59l7.72-7.72 1.47 1.35L5.41 20z\"/>\n",
              "  </svg>\n",
              "      </button>\n",
              "      \n",
              "  <style>\n",
              "    .colab-df-container {\n",
              "      display:flex;\n",
              "      flex-wrap:wrap;\n",
              "      gap: 12px;\n",
              "    }\n",
              "\n",
              "    .colab-df-convert {\n",
              "      background-color: #E8F0FE;\n",
              "      border: none;\n",
              "      border-radius: 50%;\n",
              "      cursor: pointer;\n",
              "      display: none;\n",
              "      fill: #1967D2;\n",
              "      height: 32px;\n",
              "      padding: 0 0 0 0;\n",
              "      width: 32px;\n",
              "    }\n",
              "\n",
              "    .colab-df-convert:hover {\n",
              "      background-color: #E2EBFA;\n",
              "      box-shadow: 0px 1px 2px rgba(60, 64, 67, 0.3), 0px 1px 3px 1px rgba(60, 64, 67, 0.15);\n",
              "      fill: #174EA6;\n",
              "    }\n",
              "\n",
              "    [theme=dark] .colab-df-convert {\n",
              "      background-color: #3B4455;\n",
              "      fill: #D2E3FC;\n",
              "    }\n",
              "\n",
              "    [theme=dark] .colab-df-convert:hover {\n",
              "      background-color: #434B5C;\n",
              "      box-shadow: 0px 1px 3px 1px rgba(0, 0, 0, 0.15);\n",
              "      filter: drop-shadow(0px 1px 2px rgba(0, 0, 0, 0.3));\n",
              "      fill: #FFFFFF;\n",
              "    }\n",
              "  </style>\n",
              "\n",
              "      <script>\n",
              "        const buttonEl =\n",
              "          document.querySelector('#df-7f9bb58f-2d36-40f3-bcd2-2d88d7842bb3 button.colab-df-convert');\n",
              "        buttonEl.style.display =\n",
              "          google.colab.kernel.accessAllowed ? 'block' : 'none';\n",
              "\n",
              "        async function convertToInteractive(key) {\n",
              "          const element = document.querySelector('#df-7f9bb58f-2d36-40f3-bcd2-2d88d7842bb3');\n",
              "          const dataTable =\n",
              "            await google.colab.kernel.invokeFunction('convertToInteractive',\n",
              "                                                     [key], {});\n",
              "          if (!dataTable) return;\n",
              "\n",
              "          const docLinkHtml = 'Like what you see? Visit the ' +\n",
              "            '<a target=\"_blank\" href=https://colab.research.google.com/notebooks/data_table.ipynb>data table notebook</a>'\n",
              "            + ' to learn more about interactive tables.';\n",
              "          element.innerHTML = '';\n",
              "          dataTable['output_type'] = 'display_data';\n",
              "          await google.colab.output.renderOutput(dataTable, element);\n",
              "          const docLink = document.createElement('div');\n",
              "          docLink.innerHTML = docLinkHtml;\n",
              "          element.appendChild(docLink);\n",
              "        }\n",
              "      </script>\n",
              "    </div>\n",
              "  </div>\n",
              "  "
            ]
          },
          "metadata": {},
          "execution_count": 5
        }
      ]
    },
    {
      "cell_type": "code",
      "source": [
        "insurance.info()"
      ],
      "metadata": {
        "colab": {
          "base_uri": "https://localhost:8080/"
        },
        "id": "JNrajLnaRa_i",
        "outputId": "e3038849-96bb-4534-9e19-b8805d684a56"
      },
      "execution_count": 6,
      "outputs": [
        {
          "output_type": "stream",
          "name": "stdout",
          "text": [
            "<class 'pandas.core.frame.DataFrame'>\n",
            "RangeIndex: 400 entries, 0 to 399\n",
            "Data columns (total 4 columns):\n",
            "Gender             400 non-null object\n",
            "Age                400 non-null int64\n",
            "EstimatedSalary    400 non-null int64\n",
            "Purchased          400 non-null int64\n",
            "dtypes: int64(3), object(1)\n",
            "memory usage: 12.6+ KB\n"
          ]
        }
      ]
    },
    {
      "cell_type": "code",
      "source": [
        "ProfileReport(insurance)"
      ],
      "metadata": {
        "colab": {
          "base_uri": "https://localhost:8080/",
          "height": 1000
        },
        "id": "mhb2lqYaRdw-",
        "outputId": "0ed90eb9-fd56-41f6-c7d3-1dd09e47e974"
      },
      "execution_count": 7,
      "outputs": [
        {
          "output_type": "stream",
          "name": "stderr",
          "text": [
            "/usr/local/lib/python3.7/dist-packages/pandas_profiling/describe.py:392: FutureWarning: The join_axes-keyword is deprecated. Use .reindex or .reindex_like on the result to achieve the same functionality.\n",
            "  variable_stats = pd.concat(ldesc, join_axes=pd.Index([names]), axis=1)\n"
          ]
        },
        {
          "output_type": "execute_result",
          "data": {
            "text/plain": [
              "<pandas_profiling.ProfileReport at 0x7f3d14731890>"
            ],
            "text/html": [
              "<meta charset=\"UTF-8\">\n",
              "\n",
              "<style>\n",
              "\n",
              "        .variablerow {\n",
              "            border: 1px solid #e1e1e8;\n",
              "            border-top: hidden;\n",
              "            padding-top: 2em;\n",
              "            padding-bottom: 2em;\n",
              "            padding-left: 1em;\n",
              "            padding-right: 1em;\n",
              "        }\n",
              "\n",
              "        .headerrow {\n",
              "            border: 1px solid #e1e1e8;\n",
              "            background-color: #f5f5f5;\n",
              "            padding: 2em;\n",
              "        }\n",
              "        .namecol {\n",
              "            margin-top: -1em;\n",
              "            overflow-x: auto;\n",
              "        }\n",
              "\n",
              "        .dl-horizontal dt {\n",
              "            text-align: left;\n",
              "            padding-right: 1em;\n",
              "            white-space: normal;\n",
              "        }\n",
              "\n",
              "        .dl-horizontal dd {\n",
              "            margin-left: 0;\n",
              "        }\n",
              "\n",
              "        .ignore {\n",
              "            opacity: 0.4;\n",
              "        }\n",
              "\n",
              "        .container.pandas-profiling {\n",
              "            max-width:975px;\n",
              "        }\n",
              "\n",
              "        .col-md-12 {\n",
              "            padding-left: 2em;\n",
              "        }\n",
              "\n",
              "        .indent {\n",
              "            margin-left: 1em;\n",
              "        }\n",
              "\n",
              "        .center-img {\n",
              "            margin-left: auto !important;\n",
              "            margin-right: auto !important;\n",
              "            display: block;\n",
              "        }\n",
              "\n",
              "        /* Table example_values */\n",
              "            table.example_values {\n",
              "                border: 0;\n",
              "            }\n",
              "\n",
              "            .example_values th {\n",
              "                border: 0;\n",
              "                padding: 0 ;\n",
              "                color: #555;\n",
              "                font-weight: 600;\n",
              "            }\n",
              "\n",
              "            .example_values tr, .example_values td{\n",
              "                border: 0;\n",
              "                padding: 0;\n",
              "                color: #555;\n",
              "            }\n",
              "\n",
              "        /* STATS */\n",
              "            table.stats {\n",
              "                border: 0;\n",
              "            }\n",
              "\n",
              "            .stats th {\n",
              "                border: 0;\n",
              "                padding: 0 2em 0 0;\n",
              "                color: #555;\n",
              "                font-weight: 600;\n",
              "            }\n",
              "\n",
              "            .stats tr {\n",
              "                border: 0;\n",
              "            }\n",
              "\n",
              "            .stats td{\n",
              "                color: #555;\n",
              "                padding: 1px;\n",
              "                border: 0;\n",
              "            }\n",
              "\n",
              "\n",
              "        /* Sample table */\n",
              "            table.sample {\n",
              "                border: 0;\n",
              "                margin-bottom: 2em;\n",
              "                margin-left:1em;\n",
              "            }\n",
              "            .sample tr {\n",
              "                border:0;\n",
              "            }\n",
              "            .sample td, .sample th{\n",
              "                padding: 0.5em;\n",
              "                white-space: nowrap;\n",
              "                border: none;\n",
              "\n",
              "            }\n",
              "\n",
              "            .sample thead {\n",
              "                border-top: 0;\n",
              "                border-bottom: 2px solid #ddd;\n",
              "            }\n",
              "\n",
              "            .sample td {\n",
              "                width:100%;\n",
              "            }\n",
              "\n",
              "\n",
              "        /* There is no good solution available to make the divs equal height and then center ... */\n",
              "            .histogram {\n",
              "                margin-top: 3em;\n",
              "            }\n",
              "        /* Freq table */\n",
              "\n",
              "            table.freq {\n",
              "                margin-bottom: 2em;\n",
              "                border: 0;\n",
              "            }\n",
              "            table.freq th, table.freq tr, table.freq td {\n",
              "                border: 0;\n",
              "                padding: 0;\n",
              "            }\n",
              "\n",
              "            .freq thead {\n",
              "                font-weight: 600;\n",
              "                white-space: nowrap;\n",
              "                overflow: hidden;\n",
              "                text-overflow: ellipsis;\n",
              "\n",
              "            }\n",
              "\n",
              "            td.fillremaining{\n",
              "                width:auto;\n",
              "                max-width: none;\n",
              "            }\n",
              "\n",
              "            td.number, th.number {\n",
              "                text-align:right ;\n",
              "            }\n",
              "\n",
              "        /* Freq mini */\n",
              "            .freq.mini td{\n",
              "                width: 50%;\n",
              "                padding: 1px;\n",
              "                font-size: 12px;\n",
              "\n",
              "            }\n",
              "            table.freq.mini {\n",
              "                 width:100%;\n",
              "            }\n",
              "            .freq.mini th {\n",
              "                overflow: hidden;\n",
              "                text-overflow: ellipsis;\n",
              "                white-space: nowrap;\n",
              "                max-width: 5em;\n",
              "                font-weight: 400;\n",
              "                text-align:right;\n",
              "                padding-right: 0.5em;\n",
              "            }\n",
              "\n",
              "            .missing {\n",
              "                color: #a94442;\n",
              "            }\n",
              "            .alert, .alert > th, .alert > td {\n",
              "                color: #a94442;\n",
              "            }\n",
              "\n",
              "\n",
              "        /* Bars in tables */\n",
              "            .freq .bar{\n",
              "                float: left;\n",
              "                width: 0;\n",
              "                height: 100%;\n",
              "                line-height: 20px;\n",
              "                color: #fff;\n",
              "                text-align: center;\n",
              "                background-color: #337ab7;\n",
              "                border-radius: 3px;\n",
              "                margin-right: 4px;\n",
              "            }\n",
              "            .other .bar {\n",
              "                background-color: #999;\n",
              "            }\n",
              "            .missing .bar{\n",
              "                background-color: #a94442;\n",
              "            }\n",
              "            .tooltip-inner {\n",
              "                width: 100%;\n",
              "                white-space: nowrap;\n",
              "                text-align:left;\n",
              "            }\n",
              "\n",
              "            .extrapadding{\n",
              "                padding: 2em;\n",
              "            }\n",
              "\n",
              "            .pp-anchor{\n",
              "\n",
              "            }\n",
              "\n",
              "</style>\n",
              "\n",
              "<div class=\"container pandas-profiling\">\n",
              "    <div class=\"row headerrow highlight\">\n",
              "        <h1>Overview</h1>\n",
              "    </div>\n",
              "    <div class=\"row variablerow\">\n",
              "    <div class=\"col-md-6 namecol\">\n",
              "        <p class=\"h4\">Dataset info</p>\n",
              "        <table class=\"stats\" style=\"margin-left: 1em;\">\n",
              "            <tbody>\n",
              "            <tr>\n",
              "                <th>Number of variables</th>\n",
              "                <td>4 </td>\n",
              "            </tr>\n",
              "            <tr>\n",
              "                <th>Number of observations</th>\n",
              "                <td>400 </td>\n",
              "            </tr>\n",
              "            <tr>\n",
              "                <th>Total Missing (%)</th>\n",
              "                <td>0.0% </td>\n",
              "            </tr>\n",
              "            <tr>\n",
              "                <th>Total size in memory</th>\n",
              "                <td>12.6 KiB </td>\n",
              "            </tr>\n",
              "            <tr>\n",
              "                <th>Average record size in memory</th>\n",
              "                <td>32.3 B </td>\n",
              "            </tr>\n",
              "            </tbody>\n",
              "        </table>\n",
              "    </div>\n",
              "    <div class=\"col-md-6 namecol\">\n",
              "        <p class=\"h4\">Variables types</p>\n",
              "        <table class=\"stats\" style=\"margin-left: 1em;\">\n",
              "            <tbody>\n",
              "            <tr>\n",
              "                <th>Numeric</th>\n",
              "                <td>2 </td>\n",
              "            </tr>\n",
              "            <tr>\n",
              "                <th>Categorical</th>\n",
              "                <td>1 </td>\n",
              "            </tr>\n",
              "            <tr>\n",
              "                <th>Boolean</th>\n",
              "                <td>1 </td>\n",
              "            </tr>\n",
              "            <tr>\n",
              "                <th>Date</th>\n",
              "                <td>0 </td>\n",
              "            </tr>\n",
              "            <tr>\n",
              "                <th>Text (Unique)</th>\n",
              "                <td>0 </td>\n",
              "            </tr>\n",
              "            <tr>\n",
              "                <th>Rejected</th>\n",
              "                <td>0 </td>\n",
              "            </tr>\n",
              "            <tr>\n",
              "                <th>Unsupported</th>\n",
              "                <td>0 </td>\n",
              "            </tr>\n",
              "            </tbody>\n",
              "        </table>\n",
              "    </div>\n",
              "    <div class=\"col-md-12\" style=\"padding-left: 1em;\">\n",
              "        \n",
              "        <p class=\"h4\">Warnings</p>\n",
              "        <ul class=\"list-unstyled\"><li>Dataset has 20 duplicate rows <span class=\"label label-warning\">Warning</span></li> </ul>\n",
              "    </div>\n",
              "</div>\n",
              "    <div class=\"row headerrow highlight\">\n",
              "        <h1>Variables</h1>\n",
              "    </div>\n",
              "    <div class=\"row variablerow\">\n",
              "    <div class=\"col-md-3 namecol\">\n",
              "        <p class=\"h4 pp-anchor\" id=\"pp_var_Gender\">Gender<br/>\n",
              "            <small>Categorical</small>\n",
              "        </p>\n",
              "    </div><div class=\"col-md-3\">\n",
              "    <table class=\"stats \">\n",
              "        <tr class=\"\">\n",
              "            <th>Distinct count</th>\n",
              "            <td>2</td>\n",
              "        </tr>\n",
              "        <tr>\n",
              "            <th>Unique (%)</th>\n",
              "            <td>0.5%</td>\n",
              "        </tr>\n",
              "        <tr class=\"ignore\">\n",
              "            <th>Missing (%)</th>\n",
              "            <td>0.0%</td>\n",
              "        </tr>\n",
              "        <tr class=\"ignore\">\n",
              "            <th>Missing (n)</th>\n",
              "            <td>0</td>\n",
              "        </tr>\n",
              "    </table>\n",
              "</div>\n",
              "<div class=\"col-md-6 collapse in\" id=\"minifreqtable-3894440380747064238\">\n",
              "    <table class=\"mini freq\">\n",
              "        <tr class=\"\">\n",
              "    <th>Female</th>\n",
              "    <td>\n",
              "        <div class=\"bar\" style=\"width:100%\" data-toggle=\"tooltip\" data-placement=\"right\" data-html=\"true\"\n",
              "             data-delay=500 title=\"Percentage: 51.0%\">\n",
              "            204\n",
              "        </div>\n",
              "        \n",
              "    </td>\n",
              "</tr><tr class=\"\">\n",
              "    <th>Male</th>\n",
              "    <td>\n",
              "        <div class=\"bar\" style=\"width:96%\" data-toggle=\"tooltip\" data-placement=\"right\" data-html=\"true\"\n",
              "             data-delay=500 title=\"Percentage: 49.0%\">\n",
              "            196\n",
              "        </div>\n",
              "        \n",
              "    </td>\n",
              "</tr>\n",
              "    </table>\n",
              "</div>\n",
              "<div class=\"col-md-12 text-right\">\n",
              "    <a role=\"button\" data-toggle=\"collapse\" data-target=\"#freqtable-3894440380747064238, #minifreqtable-3894440380747064238\"\n",
              "       aria-expanded=\"true\" aria-controls=\"collapseExample\">\n",
              "        Toggle details\n",
              "    </a>\n",
              "</div>\n",
              "<div class=\"col-md-12 extrapadding collapse\" id=\"freqtable-3894440380747064238\">\n",
              "    \n",
              "<table class=\"freq table table-hover\">\n",
              "    <thead>\n",
              "    <tr>\n",
              "        <td class=\"fillremaining\">Value</td>\n",
              "        <td class=\"number\">Count</td>\n",
              "        <td class=\"number\">Frequency (%)</td>\n",
              "        <td style=\"min-width:200px\">&nbsp;</td>\n",
              "    </tr>\n",
              "    </thead>\n",
              "    <tr class=\"\">\n",
              "        <td class=\"fillremaining\">Female</td>\n",
              "        <td class=\"number\">204</td>\n",
              "        <td class=\"number\">51.0%</td>\n",
              "        <td>\n",
              "            <div class=\"bar\" style=\"width:100%\">&nbsp;</div>\n",
              "        </td>\n",
              "</tr><tr class=\"\">\n",
              "        <td class=\"fillremaining\">Male</td>\n",
              "        <td class=\"number\">196</td>\n",
              "        <td class=\"number\">49.0%</td>\n",
              "        <td>\n",
              "            <div class=\"bar\" style=\"width:96%\">&nbsp;</div>\n",
              "        </td>\n",
              "</tr>\n",
              "</table>\n",
              "</div>\n",
              "</div><div class=\"row variablerow\">\n",
              "    <div class=\"col-md-3 namecol\">\n",
              "        <p class=\"h4 pp-anchor\" id=\"pp_var_Age\">Age<br/>\n",
              "            <small>Numeric</small>\n",
              "        </p>\n",
              "    </div><div class=\"col-md-6\">\n",
              "    <div class=\"row\">\n",
              "        <div class=\"col-sm-6\">\n",
              "            <table class=\"stats \">\n",
              "                <tr>\n",
              "                    <th>Distinct count</th>\n",
              "                    <td>43</td>\n",
              "                </tr>\n",
              "                <tr>\n",
              "                    <th>Unique (%)</th>\n",
              "                    <td>10.8%</td>\n",
              "                </tr>\n",
              "                <tr class=\"ignore\">\n",
              "                    <th>Missing (%)</th>\n",
              "                    <td>0.0%</td>\n",
              "                </tr>\n",
              "                <tr class=\"ignore\">\n",
              "                    <th>Missing (n)</th>\n",
              "                    <td>0</td>\n",
              "                </tr>\n",
              "                <tr class=\"ignore\">\n",
              "                    <th>Infinite (%)</th>\n",
              "                    <td>0.0%</td>\n",
              "                </tr>\n",
              "                <tr class=\"ignore\">\n",
              "                    <th>Infinite (n)</th>\n",
              "                    <td>0</td>\n",
              "                </tr>\n",
              "            </table>\n",
              "\n",
              "        </div>\n",
              "        <div class=\"col-sm-6\">\n",
              "            <table class=\"stats \">\n",
              "\n",
              "                <tr>\n",
              "                    <th>Mean</th>\n",
              "                    <td>37.655</td>\n",
              "                </tr>\n",
              "                <tr>\n",
              "                    <th>Minimum</th>\n",
              "                    <td>18</td>\n",
              "                </tr>\n",
              "                <tr>\n",
              "                    <th>Maximum</th>\n",
              "                    <td>60</td>\n",
              "                </tr>\n",
              "                <tr class=\"ignore\">\n",
              "                    <th>Zeros (%)</th>\n",
              "                    <td>0.0%</td>\n",
              "                </tr>\n",
              "            </table>\n",
              "        </div>\n",
              "    </div>\n",
              "</div>\n",
              "<div class=\"col-md-3 collapse in\" id=\"minihistogram1621786907462559278\">\n",
              "    <img src=\"data:image/png;base64,iVBORw0KGgoAAAANSUhEUgAAAMgAAABLCAYAAAA1fMjoAAAABHNCSVQICAgIfAhkiAAAAAlwSFlzAAAPYQAAD2EBqD%2BnaQAAADh0RVh0U29mdHdhcmUAbWF0cGxvdGxpYiB2ZXJzaW9uMy4yLjIsIGh0dHA6Ly9tYXRwbG90bGliLm9yZy%2BWH4yJAAABK0lEQVR4nO3cwQnCQABFQSOWZBH25NmeLMKeYgPySATJss7cA7k8PpuELOu6rifgo/PRNwAjuxx9AzO73p%2B7r3k9bj%2B4E75lQSAIBIJAIAgEgkAgCASCQCB4DzIY707GYkEgCASCQCAIBIJAIAgEgkAgCASCQCAIBMLffmrikw62sCAQBAJBIBAEAmGKQ/o3B27YwoJAWGb4N68F2cfj6u0sCIQpziDs4yXpdhYEwnAL4jwxjxmWyoJAEAgEgUAQCASBQBjuKRZj%2BtenixYEgkAgCASCQCAIBIJAIAgEgkAgCASCQCBM8dMG%2BBULAkEgEAQCQSAQBAJBIBAEAkEgEAQCQSAQBAJBIBAEAkEgEAQCQSAQBAJBIBAEAkEgEAQCQSAQBAJBIBAEAuEN7/siy1GAP18AAAAASUVORK5CYII%3D\">\n",
              "\n",
              "</div>\n",
              "<div class=\"col-md-12 text-right\">\n",
              "    <a role=\"button\" data-toggle=\"collapse\" data-target=\"#descriptives1621786907462559278,#minihistogram1621786907462559278\"\n",
              "       aria-expanded=\"false\" aria-controls=\"collapseExample\">\n",
              "        Toggle details\n",
              "    </a>\n",
              "</div>\n",
              "<div class=\"row collapse col-md-12\" id=\"descriptives1621786907462559278\">\n",
              "    <ul class=\"nav nav-tabs\" role=\"tablist\">\n",
              "        <li role=\"presentation\" class=\"active\"><a href=\"#quantiles1621786907462559278\"\n",
              "                                                  aria-controls=\"quantiles1621786907462559278\" role=\"tab\"\n",
              "                                                  data-toggle=\"tab\">Statistics</a></li>\n",
              "        <li role=\"presentation\"><a href=\"#histogram1621786907462559278\" aria-controls=\"histogram1621786907462559278\"\n",
              "                                   role=\"tab\" data-toggle=\"tab\">Histogram</a></li>\n",
              "        <li role=\"presentation\"><a href=\"#common1621786907462559278\" aria-controls=\"common1621786907462559278\"\n",
              "                                   role=\"tab\" data-toggle=\"tab\">Common Values</a></li>\n",
              "        <li role=\"presentation\"><a href=\"#extreme1621786907462559278\" aria-controls=\"extreme1621786907462559278\"\n",
              "                                   role=\"tab\" data-toggle=\"tab\">Extreme Values</a></li>\n",
              "\n",
              "    </ul>\n",
              "\n",
              "    <div class=\"tab-content\">\n",
              "        <div role=\"tabpanel\" class=\"tab-pane active row\" id=\"quantiles1621786907462559278\">\n",
              "            <div class=\"col-md-4 col-md-offset-1\">\n",
              "                <p class=\"h4\">Quantile statistics</p>\n",
              "                <table class=\"stats indent\">\n",
              "                    <tr>\n",
              "                        <th>Minimum</th>\n",
              "                        <td>18</td>\n",
              "                    </tr>\n",
              "                    <tr>\n",
              "                        <th>5-th percentile</th>\n",
              "                        <td>21</td>\n",
              "                    </tr>\n",
              "                    <tr>\n",
              "                        <th>Q1</th>\n",
              "                        <td>29.75</td>\n",
              "                    </tr>\n",
              "                    <tr>\n",
              "                        <th>Median</th>\n",
              "                        <td>37</td>\n",
              "                    </tr>\n",
              "                    <tr>\n",
              "                        <th>Q3</th>\n",
              "                        <td>46</td>\n",
              "                    </tr>\n",
              "                    <tr>\n",
              "                        <th>95-th percentile</th>\n",
              "                        <td>57.05</td>\n",
              "                    </tr>\n",
              "                    <tr>\n",
              "                        <th>Maximum</th>\n",
              "                        <td>60</td>\n",
              "                    </tr>\n",
              "                    <tr>\n",
              "                        <th>Range</th>\n",
              "                        <td>42</td>\n",
              "                    </tr>\n",
              "                    <tr>\n",
              "                        <th>Interquartile range</th>\n",
              "                        <td>16.25</td>\n",
              "                    </tr>\n",
              "                </table>\n",
              "            </div>\n",
              "            <div class=\"col-md-4 col-md-offset-2\">\n",
              "                <p class=\"h4\">Descriptive statistics</p>\n",
              "                <table class=\"stats indent\">\n",
              "                    <tr>\n",
              "                        <th>Standard deviation</th>\n",
              "                        <td>10.483</td>\n",
              "                    </tr>\n",
              "                    <tr>\n",
              "                        <th>Coef of variation</th>\n",
              "                        <td>0.27839</td>\n",
              "                    </tr>\n",
              "                    <tr>\n",
              "                        <th>Kurtosis</th>\n",
              "                        <td>-0.62251</td>\n",
              "                    </tr>\n",
              "                    <tr>\n",
              "                        <th>Mean</th>\n",
              "                        <td>37.655</td>\n",
              "                    </tr>\n",
              "                    <tr>\n",
              "                        <th>MAD</th>\n",
              "                        <td>8.5077</td>\n",
              "                    </tr>\n",
              "                    <tr class=\"\">\n",
              "                        <th>Skewness</th>\n",
              "                        <td>0.23134</td>\n",
              "                    </tr>\n",
              "                    <tr>\n",
              "                        <th>Sum</th>\n",
              "                        <td>15062</td>\n",
              "                    </tr>\n",
              "                    <tr>\n",
              "                        <th>Variance</th>\n",
              "                        <td>109.89</td>\n",
              "                    </tr>\n",
              "                    <tr>\n",
              "                        <th>Memory size</th>\n",
              "                        <td>3.2 KiB</td>\n",
              "                    </tr>\n",
              "                </table>\n",
              "            </div>\n",
              "        </div>\n",
              "        <div role=\"tabpanel\" class=\"tab-pane col-md-8 col-md-offset-2\" id=\"histogram1621786907462559278\">\n",
              "            <img src=\"data:image/png;base64,iVBORw0KGgoAAAANSUhEUgAAAlgAAAGQCAYAAAByNR6YAAAABHNCSVQICAgIfAhkiAAAAAlwSFlzAAAPYQAAD2EBqD%2BnaQAAADh0RVh0U29mdHdhcmUAbWF0cGxvdGxpYiB2ZXJzaW9uMy4yLjIsIGh0dHA6Ly9tYXRwbG90bGliLm9yZy%2BWH4yJAAAgAElEQVR4nO3de3SU9Z3H8U%2BSIZEEQhIwwYI2WBZoIILcogEbjMpVUCEQdD2WFWmASAoLCnJROVCgB7JqiQdDt9BWekqMa8tFuRxLSavN9ihizQRkLZeuZMEMMGMghpDLs39Yo2OkhPJLnnlm3q9zODG/efj5Sb4zyYfnmUzCLMuyBAAAAGPC7Q4AAAAQbChYAAAAhlGwAAAADKNgAQAAGEbBAgAAMIyCBQAAYBgFCwAAwDAKFgAAgGEULAAAAMMoWAAAAIZRsAAAAAyjYAEAABhGwQIAADCMggUAAGAYBQsAAMAwChYAAIBhFCwAAADDKFgAAACGUbAAAAAMo2ABAAAYRsECAAAwjIIFAABgGAULAADAMAoWAACAYRQsAAAAwyhYAAAAhlGwAAAADKNgAQAAGEbBAgAAMIyCBQAAYBgFCwAAwDAKFgAAgGEULAAAAMMoWAAAAIZRsAAAAAyjYAEAABhGwQIAADCMggUAAGBYyBasQ4cO6ZFHHtHgwYM1bNgwLViwQOfOnZMklZaWKisrSwMHDtS4ceO0fft2m9MCAAAnCbMsy7I7RFurr6/XiBEjNHHiRD3%2B%2BOOqrq7W/Pnz1aFDBy1dulSjRo3SkiVLNH78eB04cECzZs3Sli1blJqa%2Bk//Pz2e8wY/gtYTHh6mhIQYnTtXrcbGkLtrBDRmE9iYT2BjPoGtNedz/fUdje7XUiF5Bsvj8cjj8ei%2B%2B%2B5TZGSk4uPjdc899%2Bjw4cPasWOHkpOTlZWVpaioKKWnpyszM1PFxcV2x24T4eFhCgsLU3h4mN1R8DXMJrAxn8DGfAJbMM7HZXcAOyQlJem73/2uioqK9MMf/lAXL17U3r17NWLECJWXlyslJcXv%2BJSUFO3atavF%2B1dWVsrj8fituVzRSkxMNJK/NUVEhPu9ReBgNoGN%2BQQ25hPYgnE%2BIVmwwsPDtX79ek2bNk2/%2BMUvJElDhw7V/PnzNXv2bCUlJfkdHxcXJ6/X2%2BL9i4qKVFBQ4LeWm5urvLy8aw/fRmJj29sdAZfBbAIb8wlszCewBdN8QrJgXbp0STNnztTo0aM1c%2BZMffbZZ1q%2BfLkWLFhgZP/s7GxlZmb6rblc0fJ6q43s35oiIsIVG9teVVU1amhotDsOvoLZBDbmE9iYT2BrzfnEx8cY3a%2BlQrJglZaW6uTJk/r3f/93RUREqGPHjsrLy9N9992nO%2B64Qz6fz%2B94r9erhISEFu%2BfmJjY7HKgx3Ne9fXOeVA3NDQ6Km8oYTaBjfkENuYT2IJpPsFzsfMqNDQ0qLGxUV/9AcpLly5JktLT0%2BV2u/2Od7vd6t%2B/f5tmBAAAzhWSBevWW29VdHS01q9fr5qaGnm9Xm3YsEFDhgzRfffdp4qKChUXF6u2tlYlJSUqKSnRlClT7I4NAAAcIiQLVnx8vH72s5/pvffe0/e%2B9z3de%2B%2B9uu6665Sfn6/OnTursLBQW7Zs0aBBg7Rq1SqtXbtWffr0sTs2AABwiJB8oVE7OOWFRl2ucMXHx8jrrQ6a6%2BDBgtkENuYT2JhPYGvN%2BfBCowAAAEGCggUAAGAYBQsAAMAwChYAAIBhFCwAAADDQvKV3AHYa8zzb9sd4arsmjvM7ggAHIYzWAAAAIZRsAAAAAyjYAEAABhGwQIAADCMggUAAGAYBQsAAMAwChYAAIBhFCwAAADDKFgAAACGUbAAAAAMo2ABAAAYRsECAAAwjIIFAABgGAULAADAMAoWAACAYRQsAAAAwyhYAAAAhlGwAAAADKNgAQAAGEbBAgAAMIyCBQAAYBgFCwAAwDCX3QHs8M477%2BjRRx/1W7MsS3V1dTpy5IhKS0uVn5%2BvY8eO6YYbblBOTo4mTJhgU1oAAOA0IVmwhgwZorKyMr%2B1l156SR9%2B%2BKEqKys1e/ZsLVmyROPHj9eBAwc0a9Ys9ejRQ6mpqTYlBgAATsIlQkn/93//p82bN%2BvJJ5/Ujh07lJycrKysLEVFRSk9PV2ZmZkqLi62OyYAAHAICpakF154QZMmTdK3vvUtlZeXKyUlxe/2lJQUud1um9IBAACnCclLhF918uRJ7d27V3v37pUk%2BXw%2BJSUl%2BR0TFxcnr9fb4j0rKyvl8Xj81lyuaCUmJl574FYWERHu9xaBg9nYx%2BW68uec%2BQQ25hPYgnE%2BIV%2BwfvWrX2nkyJG6/vrrje1ZVFSkgoICv7Xc3Fzl5eUZ%2B3%2B0ttjY9nZHwGUwm7YXHx/T4mOZT2BjPoEtmOYT8gVrz549WrhwYdP78fHx8vl8fsd4vV4lJCS0eM/s7GxlZmb6rblc0fJ6q68tbBuIiAhXbGx7VVXVqKGh0e44%2BApmY5%2BWPHaZT2BjPoGtNedzNf9AMimkC9bhw4dVUVGhYcOGNa2lpqbqv/7rv/yOc7vd6t%2B/f4v3TUxMbHY50OM5r/p65zyoGxoaHZU3lDCbtnc1n2/mE9iYT2ALpvkEz8XOf8KhQ4cUFxenDh06NK2NHz9eFRUVKi4uVm1trUpKSlRSUqIpU6bYmBQAADhJSBesM2fONHvuVefOnVVYWKgtW7Zo0KBBWrVqldauXas%2BffrYlBIAADhNSF8izMnJUU5OTrP1IUOGaNu2bTYkAgAAwSCkz2ABAAC0BgoWAACAYRQsAAAAwyhYAAAAhlGwAAAADKNgAQAAGEbBAgAAMIyCBQAAYBgFCwAAwDAKFgAAgGEULAAAAMMoWAAAAIZRsAAAAAyjYAEAABjmsjsAAAS6Mc%2B/bXeEq7Jr7jC7IwAhjzNYAAAAhlGwAAAADKNgAQAAGEbBAgAAMIyCBQAAYBgFCwAAwDAKFgAAgGEULAAAAMMoWAAAAIZRsAAAAAyjYAEAABhGwQIAADCMggUAAGAYBQsAAMCwkC5YGzZs0PDhwzVgwABNmzZNJ0%2BelCSVlpYqKytLAwcO1Lhx47R9%2B3abkwIAACcJ2YL1q1/9Stu3b9cvf/lLvfXWW%2BrZs6d%2B/vOfq7KyUrNnz9bUqVNVWlqqJUuWaNmyZSorK7M7MgAAcAiX3QHssmnTJi1cuFA333yzJGnp0qWSpJ/97GdKTk5WVlaWJCk9PV2ZmZkqLi5WamqqbXkBAIBzhOQZrE8%2B%2BUQnT57Up59%2BqrFjxyotLU15eXk6d%2B6cysvLlZKS4nd8SkqK3G63TWkBAIDThOQZrNOnT0uSdu/erc2bN8uyLOXl5Wnp0qW6ePGikpKS/I6Pi4uT1%2Btt8f6VlZXyeDx%2Bay5XtBITE689fCuLiAj3e4vAwWzQUi4X95Gv4/ET2IJxPiFZsCzLkiQ99thjTWVqzpw5mjFjhtLT0695/6KiIhUUFPit5ebmKi8v75r3biuxse3tjoDLYDa4kvj4GLsjBCweP4EtmOYTkgWrS5cukqTY2NimtW7dusmyLNXV1cnn8/kd7/V6lZCQ0OL9s7OzlZmZ6bfmckXL662%2BhtRtIyIiXLGx7VVVVaOGhka74%2BArmA1ayglfa9oaj5/A1przsesfHCFZsLp27aoOHTro8OHD6tu3rySpoqJC7dq1U0ZGhrZt2%2BZ3vNvtVv/%2B/Vu8f2JiYrPLgR7PedXXO%2BdB3dDQ6Ki8oYTZ4Eq4f1wej5/AFkzzCZ6LnVfB5XIpKytLL730kv72t7/p7NmzevHFFzV%2B/Hg98MADqqioUHFxsWpra1VSUqKSkhJNmTLF7tgAAMAhQvIMliTNnz9fly5d0uTJk1VXV6dRo0Zp6dKliomJUWFhoVauXKnly5erW7duWrt2rfr06WN3ZAAA4BBh1hfP%2BEar8njO2x2hRVyucMXHx8jrrQ6a07TBIphmM%2Bb5t%2B2OENR2zR1md4SAE0yPn2DUmvO5/vqORvdrqZC8RAgAANCaKFgAAACGUbAAAAAMo2ABAAAYRsECAAAwjIIFAABgGAULAADAMAoWAACAYRQsAAAAwyhYAAAAhlGwAAAADKNgAQAAGEbBAgAAMIyCBQAAYBgFCwAAwDAKFgAAgGEULAAAAMMoWAAAAIZRsAAAAAyjYAEAABhGwQIAADCMggUAAGAYBQsAAMAwChYAAIBhFCwAAADDKFgAAACGUbAAAAAMo2ABAAAYRsECAAAwzGV3ADv07t1b7dq1U1hYWNPalClTtGzZMpWWlio/P1/Hjh3TDTfcoJycHE2YMMHGtAAAwGlCsmBJ0u7du9W9e3e/tcrKSs2ePVtLlizR%2BPHjdeDAAc2aNUs9evRQamqqTUkBAIDTcInwK3bs2KHk5GRlZWUpKipK6enpyszMVHFxsd3RAACAg4TsGaz8/HwdPHhQFy5c0JgxY7Ro0SKVl5crJSXF77iUlBTt2rXrqvaurKyUx%2BPxW3O5opWYmHjNuVtbRES431sEDmaDlnK5uI98HY%2BfwBaM8wnJgjVgwAClp6frxz/%2BsT7%2B%2BGPNnTtXy5cvl8/nU1JSkt%2BxcXFx8nq9V7V/UVGRCgoK/NZyc3OVl5d3zdnbSmxse7sj4DKYDa4kPj7G7ggBi8dPYAum%2BYRkwSoqKmr67%2B985ztasGCBZs2apUGDBhnZPzs7W5mZmX5rLle0vN5qI/u3poiIcMXGtldVVY0aGhrtjoOvYDZoKSd8rWlrPH4CW2vOx65/cIRkwfq67t27q6GhQeHh4fL5fH63eb1eJSQkXNV%2BiYmJzS4HejznVV/vnAd1Q0Ojo/KGEmaDK%2BH%2BcXk8fgJbMM0neC52ttChQ4e0Zs0av7WjR48qMjJSGRkZcrvdfre53W7179%2B/LSMCAACHC7mC1blzZxUVFWnjxo26dOmSjh8/rhdeeEHZ2dm67777VFFRoeLiYtXW1qqkpEQlJSWaMmWK3bEBAICDOKpgZWZmqqCgQKdOnfqn90hKStLGjRu1b98%2BpaWlaerUqbrjjjv0xBNPqHPnziosLNSWLVs0aNAgrVq1SmvXrlWfPn0MfhQAACDYOeo5WJMmTdLrr7%2BuDRs26Pbbb9eUKVOUmZkpl%2BvqPowhQ4Zo69atl71t27ZtJuICAIAQ5agzWLm5uXrjjTf0yiuv6F/%2B5V%2B0atUqZWRkaO3atTp%2B/Ljd8QAAACQ5rGB9oW/fvlq4cKF%2B//vfa/HixXrllVc0duxYTZ8%2BXR988IHd8QAAQIhzZMGqq6vTG2%2B8oRkzZmjhwoVKSkrSU089pe9%2B97uaNm2aduzYYXdEAAAQwhz1HKyjR4/q1Vdf1W9/%2B1tVV1dr1KhR%2BsUvfuH3AqFDhgzRs88%2Bq/Hjx9uYFAAAhDJHFaxx48apR48eysnJ0f3336%2B4uLhmx2RkZOjcuXM2pAMAAPicowrWL3/5Sw0dOvSKx/3lL39pgzQAAADfzFHPwerdu7dmzpypN998s2nt5z//uWbMmNHsV9wAAADYxVEFa/Xq1Tp//rx69uzZtDZixAg1NjY2%2B/U3AAAAdnHUJcK33npLO3bsUHx8fNNacnKy1q1bp3vvvdfGZAAAAF9yVMG6ePGioqKimq2Hh4erpqbGhkQIZmOef9vuCFdl19xhdkcAAPydoy4RDhkyRGvWrNGnn37atPbJJ59o%2BfLlfi/VAAAAYCdHncFavHixHn30Ud1%2B%2B%2B3q0KGDGhsbVV1drRtvvFEvv/yy3fEAAAAkOaxg3XjjjXr99df1hz/8Qf/7v/%2Br8PBw9ejRQ8OHD1dERITd8QAAACQ5rGBJUmRkpO6%2B%2B267YwAAAFyWowrWxx9/rPz8fH300Ue6ePFis9t/97vf2ZAKAADAn6MK1uLFi1VZWanhw4crOjra7jgAAADfyFEFy%2B1263e/%2B50SEhLsjgIAAHBZjnqZhs6dO3PmCgAABDxHFaycnBwVFBTIsiy7owAAAFyWoy4R/uEPf9B7772n1157Td27d1d4uH8/3Lp1q03JAAAAvuSogtWhQwd973vfszsGAADAP%2BSogrV69Wq7IwAAAFyRo56DJUnHjh3T%2BvXr9dRTTzWtHTx40MZEAAAA/hxVsEpLSzVhwgTt3btXO3fulPT5i48%2B8sgjvMgoAAAIGI4qWM8995yeeOIJ7dixQ2FhYZI%2B//2Ea9as0YsvvmhzOgAAgM85qmD9z//8jx588EFJaipYkjR69GgdPXrUrlgAAAB%2BHFWwOnbs%2BI2/g7CyslKRkZE2JAIAAGjOUQVr4MCBWrVqlS5cuNC0dvz4cS1cuFC33367jckAAAC%2B5KiC9dRTT%2BngwYNKS0tTbW2tBg4cqLFjx8rn82nRokX/1J6rVq1S7969m94vLS1VVlaWBg4cqHHjxmn79u2m4gMAgBDhqNfB6tq1q3bu3KmSkhIdP35c1113nXr06KFhw4b5PSerpQ4fPqxt27Y1vV9ZWanZs2dryZIlGj9%2BvA4cOKBZs2apR48eSk1NNfmhAACAIOaogiVJ7dq10913333N%2BzQ2NuqZZ57RtGnT9Pzzz0uSduzYoeTkZGVlZUmS0tPTlZmZqeLiYgoWAABoMUcVrMzMzH94pupqXgtr69atioqK0vjx45sKVnl5uVJSUvyOS0lJ0a5du/65wAAAICQ5qmCNHTvWr2A1NDTo%2BPHjKisr0/e///0W73PmzBmtX79eL7/8st%2B6z%2BdTUlKS31pcXJy8Xu9V5aysrJTH4/Fbc7milZiYeFX72CEiItzvLZzD5WJm%2BBz3heb42hbYgnE%2BjipYCxYs%2BMb1PXv26M9//nOL91m9erUmTpyonj176uTJk6biNSkqKlJBQYHfWm5urvLy8oz/v1pLbGx7uyPgKsXHx9gdAQGC%2B8Ll8bUtsAXTfBxVsC7n7rvv1tNPP62nn376iseWlpbq4MGDTb9q56vi4%2BPl8/n81rxerxISEq4qT3Z2tjIzM/3WXK5oeb3VV7WPHSIiwhUb215VVTVqaGi0Ow6ughPuX2gb3Bea42tbYGvN%2Bdj1D46gKFiHDh2SZVktOnb79u06e/as7rzzTklq%2BntpaWl69NFHmxUvt9ut/v37X1WexMTEZpcDPZ7zqq93zoO6oaHRUXkh5oUm3Bcuj69tgS2Y5uOogjV16tRmazU1NTp69KhGjhzZoj0WLVqkH/7wh03vnz59WtnZ2dq2bZsaGxtVWFio4uJiTZgwQf/93/%2BtkpISFRUVGfsYAABA8HNUwUpOTm72U4RRUVHKysrS5MmTW7RHp06d1KlTp6b36%2BvrJX3%2BGluSVFhYqJUrV2r58uXq1q2b1q5dqz59%2Bhj6CAAAQChwVMFas2aN8T27d%2B%2BuI0eONL0/ZMgQvxcfBQAAuFqOKli//e1vW3zs/fff34pJAAAALs9RBWvJkiVqbGxs9oT2sLAwv7WwsDAKFgAAsI2jCtZ//ud/atOmTZo5c6Z69%2B4ty7J05MgR/fSnP9XDDz%2BstLQ0uyMCAAA4q2CtWbNGGzdu9Hu19cGDB%2BvGG2/U9OnTv/G1rQAAANqao16T/sSJE34/AfiF2NhYVVRU2JAIAACgOUcVrG7dumnNmjV%2BvxuwqqpK%2Bfn5uummm2xMBgAA8CVHXSJcvHix5s%2Bfr6KiIsXExCg8PFwXLlzQddddpxdffNHueLiCMc%2B/bXcEAADahKMK1vDhw7V//36VlJTo9OnTsixLSUlJuuOOO9SxY0e74wEAAEhyWMGSpPbt2%2Buuu%2B7S6dOndeONN9odBwAAoBlHPQfr4sWLWrhwoW699VaNGTNG0ufPwXrsscdUVVVlczoAAIDPOapgrV27VocPH9a6desUHv5l9IaGBq1bt87GZAAAAF9yVMHas2ePfvKTn2j06NFNv/Q5NjZWq1ev1t69e21OBwAA8DlHFazq6molJyc3W09ISNBnn33W9oEAAAC%2BgaOe5H7TTTfpz3/%2Bs9LS0vx%2B9%2BDu3bv1rW99y8ZkgP14GQx8wUn3hV1zh9kdAWgVjipYDz30kObMmaNJkyapsbFRmzdvltvt1p49e7RkyRK74wEAAEhyWMHKzs6Wy%2BXSli1bFBERoZdeekk9evTQunXrNHr0aLvjAQAASHJYwTp37pwmTZqkSZMm2R0FAADgshz1JPe77rrL77lXAAAAgchRBSstLU27du2yOwYAAMA/5KhLhDfccIN%2B9KMfaePGjbrpppvUrl07v9vz8/NtSgYAAPAlRxWsv/71r7r55pslSV6v1%2BY0AAAA38wRBWvevHl67rnn9PLLLzetvfjii8rNzbUxFQAAwDdzxHOw9u3b12xt48aNNiQBAAC4MkcUrG/6yUF%2BmhAAAAQqRxSsL36x85XWAAAAAoEjChYAAICTULAAAAAMc8RPEdbV1Wn%2B/PlXXON1sAAAQCBwRMEaNGiQKisrr7gGAAAQCBxRsL76%2BlemfPjhh1q9erXcbreioqI0dOhQLVmyRNdff71KS0uVn5%2BvY8eO6YYbblBOTo4mTJhgPAMAhLoxz79td4SrsmvuMLsjwCFC8jlYly5d0qOPPqqhQ4eqtLRUO3fu1NmzZ/Xss8%2BqsrJSs2fP1tSpU1VaWqolS5Zo2bJlKisrszs2AABwiJAsWDU1NZo3b55ycnIUGRmphIQE3XPPPfroo4%2B0Y8cOJScnKysrS1FRUUpPT1dmZqaKi4vtjg0AABzCEZcITevUqZMmT57c9P6xY8f0m9/8RmPGjFF5eblSUlL8jk9JSdGuXbtavH9lZaU8Ho/fmssVrcTExGsL3gYiIsL93gIAvuRy8bWxNQTj956QLFhfqKio0KhRo1RfX68pU6YoLy9PM2bMUFJSkt9xcXFxV/XLpYuKilRQUOC3lpubq7y8PCO520JsbHu7IwBAwImPj7E7QlALpu89IV2wunXrprKyMv3tb3/T008/rSeffNLIvtnZ2crMzPRbc7mi5fVWG9m/NUVEhCs2tr2qqmrU0NBodxwACChO%2BDruRK35vceuUhzSBUv6/FfuJCcna968eZo6daoyMjLk8/n8jvF6vUpISGjxnomJic0uB3o851Vf75zC0tDQ6Ki8ANAW%2BLrYuoLpe0/wXOy8CqWlpRo1apQaG78cYnj455%2BKW265RW632%2B94t9ut/v37t2lGAADgXCFZsPr166cLFy5o7dq1qqmp0blz57R%2B/XoNHjxYDz74oCoqKlRcXKza2lqVlJSopKREU6ZMsTs2AABwiJAsWB07dtSmTZvkdrt12223ady4cerYsaP%2B4z/%2BQ507d1ZhYaG2bNmiQYMGadWqVVq7dq369Oljd2wAAOAQIfscrN69e1/2FeKHDBmibdu2tXEiAAAQLELyDBYAAEBrCtkzWMHCab/HCwDQdpz0PeLdH422O4JRnMECAAAwjIIFAABgGAULAADAMAoWAACAYRQsAAAAwyhYAAAAhlGwAAAADKNgAQAAGEbBAgAAMIyCBQAAYBgFCwAAwDAKFgAAgGEULAAAAMMoWAAAAIZRsAAAAAyjYAEAABhGwQIAADCMggUAAGAYBQsAAMAwChYAAIBhFCwAAADDKFgAAACGUbAAAAAMo2ABAAAYRsECAAAwjIIFAABgWMgWrIqKCuXm5iotLU3p6elatGiRqqqqJEmHDx/Www8/rEGDBmnkyJHatGmTzWkBAICThGzBmjlzpmJjY7Vv3z699tpr%2Buijj/TjH/9YFy9eVE5Ojm677Tb98Y9/1HPPPafCwkLt3bvX7sgAAMAhQrJgVVVVqV%2B/fpo/f75iYmLUtWtXPfDAA3r33Xe1f/9%2B1dXVadasWYqOjlbfvn01efJkFRUV2R0bAAA4REgWrNjYWK1evVpdunRpWjt16pQSExNVXl6u3r17KyIioum2lJQUud1uO6ICAAAHctkdIBCUlZVpy5Yt2rBhg3bt2qXY2Fi/2%2BPi4uTz%2BdTY2Kjw8Ct30srKSnk8Hr81lytaiYmJRnMDANqWyxWS5yXaTERE8Hx%2BQ75gHThwQLNmzdL8%2BfOVnp6uXbt2feNxYWFhLd6zqKhIBQUFfmu5ubnKy8u7pqwAAHvFx8fYHSGoxca2tzuCMSFdsPbt26cnnnhCy5Yt0/333y9JSkhI0IkTJ/yO8/l8iouLa9HZK0nKzs5WZmam35rLFS2vt9pIbgCAPfg63rqqqmrU0NBodE%2B7SnHIFqz33ntPCxcu1AsvvKDhw4c3rffr10%2B//vWvVV9fL5fr809PWVmZ%2Bvfv3%2BK9ExMTm10O9HjOq77e7J0GANC2%2BDreuhoaGoPmcxw8FzuvQn19vZYuXaoFCxb4lStJysjIUIcOHbRhwwbV1NToL3/5i1599VU9%2BOCDNqUFAABOE5IF6/3339fRo0e1cuVKpaam%2Bv3xeDx66aWX9Kc//UlDhw7V3LlzNW/ePI0YMcLu2AAAwCFC8hLh4MGDdeTIkX94zK9//es2SgMAAIJNSJ7BAgAAaE0ULAAAAMNC8hIhAAD/jDHPv213BDgEZ7AAAAAMo2ABAAAYRsECAAAwjIIFAABgGAULAADAMAoWAACAYRQsAAAAwyhYAAAAhlGwAAAADKNgAQAAGEbBAgAAMIyCBQAAYBgFCwAAwDAKFgAAgGEULAAAAMMoWAAAAIZRsAAAAAyjYAEAABhGwQIAADCMggUAAGAYBQsAAMAwChYAAIBhFCwAAADDKFgAAACGUbAAAAAMo2ABAAAYFrIF649//KPS09M1b968Zre98cYbGj9%2BvG699VZNnDhRb731lg0JAQCAU7nsDmCHn/70p3r11Vf17W9/u9lthw8f1sKFC1VQUKDbbrtNe/bs0eOPP67du3era9euNqQFAABOE5JnsKKioi5bsIqLi5WRkaGMjAxFRUVpwoQJ6tWrl7Zv325DUgAA4EQheQbrkUceuext5eXlysjI8FtLSUlRWVlZi/evrKyUx%2BPxW3O5opWYmHh1QQEACCEREcFz3ickC9Y/4vP51KlTJ7%2B1Tp066a9//WuL9ygqKlJBQYHfWm5urvLy8oxkBAAgGMXGtrc7gjEUrG9gWdY1/f3s7GxlZmb6rblc0fJ6q69pXwAAgllVVY0aGhqN7hkfH2N0v5aiYH1NfHy8fD6f35rP51NCQkKL90hMTGx2OdDjOa/6eg9BoZ4AAAmrSURBVLN3GgAAgklDQ2PQfK8MnoudhvTr109ut9tvraysTP3797cpEQAAcBoK1tdMmTJFf/rTn7R//37V1tbq1Vdf1YkTJzRhwgS7owEAAIcIyUuEqampkqT6%2BnpJ0ptvvinp8zNVvXr10rp167R69WpVVFSoZ8%2BeKiws1PXXX29bXgAA4CwhWbCu9JILI0eO1MiRI9soDQAACDZcIgQAADCMggUAAGAYBQsAAMAwChYAAIBhFCwAAADDKFgAAACGUbAAAAAMo2ABAAAYRsECAAAwjIIFAABgGAULAADAMAoWAACAYRQsAAAAwyhYAAAAhlGwAAAADKNgAQAAGEbBAgAAMIyCBQAAYBgFCwAAwDAKFgAAgGEULAAAAMMoWAAAAIZRsAAAAAyjYAEAABhGwQIAADCMggUAAGAYBQsAAMAwChYAAIBhFCwAAADDKFjfoKKiQj/4wQ%2BUlpamO%2B%2B8U2vXrlVjY6PdsQAAgEO47A4QiObMmaO%2BffvqzTff1NmzZ5WTk6MuXbro3/7t3%2ByOBgAAHIAzWF9TVlamDz/8UAsWLFDHjh2VnJysadOmqaioyO5oAADAITiD9TXl5eXq1q2bOnXq1LTWt29fHT9%2BXBcuXFCHDh2uuEdlZaU8Ho/fmssVrcTERON5AQAIFhERwXPeh4L1NT6fT7GxsX5rX5Qtr9fbooJVVFSkgoICv7XHH39cc%2BbMMRf079790Wij%2B1VWVqqoqEjZ2dkUwgDDbAIb8wlszCewVVZWav369UE1n%2BCpigZZlnVNfz87O1uvvfaa35/s7GxD6VqXx%2BNRQUFBszNwsB%2BzCWzMJ7Axn8AWjPPhDNbXJCQkyOfz%2Ba35fD6FhYUpISGhRXskJiYGTQMHAABXjzNYX9OvXz%2BdOnVK586da1orKytTz549FRMTY2MyAADgFBSsr0lJSVFqaqry8/N14cIFHT16VJs3b9aDDz5odzQAAOAQEc8%2B%2B%2ByzdocINHfccYd27typFStW6PXXX1dWVpamT5%2BusLAwu6O1iZiYGA0dOpQzdgGI2QQ25hPYmE9gC7b5hFnX%2BoxuAAAA%2BOESIQAAgGEULAAAAMMoWAAAAIZRsAAAAAyjYAEAABhGwQIAADCMggUAAGAYBQsAAMAwChYAAIBhFKwQVlFRodzcXKWlpSk9PV2LFi1SVVWVJOnw4cN6%2BOGHNWjQII0cOVKbNm2yOW1o%2BfDDD/X9739fgwYNUnp6uubOnSuPxyNJKi0tVVZWlgYOHKhx48Zp%2B/btNqcNbatWrVLv3r2b3mc%2B9uvdu7f69eun1NTUpj8rVqyQxHwCxYYNGzR8%2BHANGDBA06ZN08mTJyUF2XwshKx7773XWrRokXXhwgXr1KlT1sSJE63FixdbNTU11h133GGtX7/eqq6uttxutzV06FBrz549dkcOCbW1tdbtt99uFRQUWLW1tdbZs2ethx9%2B2Jo9e7b1ySefWAMGDLCKi4utixcvWm%2B//bZ1yy23WB988IHdsUPSoUOHrKFDh1q9evWyLMtiPgGiV69e1scff9xsnfkEhi1btlijR4%2B2jh49ap0/f95asWKFtWLFiqCbD2ewQlRVVZX69eun%2BfPnKyYmRl27dtUDDzygd999V/v371ddXZ1mzZql6Oho9e3bV5MnT1ZRUZHdsUNCTU2N5s2bp5ycHEVGRiohIUH33HOPPvroI%2B3YsUPJycnKyspSVFSU0tPTlZmZqeLiYrtjh5zGxkY988wzmjZtWtMa8wlszCcwbNq0SfPmzdPNN9%2BsDh06aOnSpVq6dGnQzYeCFaJiY2O1evVqdenSpWnt1KlTSkxMVHl5uXr37q2IiIim21JSUuR2u%2B2IGnI6deqkyZMny%2BVySZKOHTum3/zmNxozZozKy8uVkpLidzyzscfWrVsVFRWl8ePHN60xn8CRn5%2BvESNGaPDgwVq2bJmqq6uZTwD45JNPdPLkSX366acaO3as0tLSlJeXp3PnzgXdfChYkCSVlZVpy5YtmjVrlnw%2Bn2JjY/1uj4uLk8/nU2Njo00JQ09FRYX69eunsWPHKjU1VXl5eZedjdfrtSllaDpz5ozWr1%2BvZ555xm%2Bd%2BQSGAQMGKD09XXv37lVRUZHef/99LV%2B%2BnPkEgNOnT0uSdu/erc2bN2vbtm06ffq0li5dGnTzoWBBBw4c0PTp0zV//nylp6df9riwsLA2TIVu3bqprKxMu3fv1okTJ/Tkk0/aHQl/t3r1ak2cOFE9e/a0Owq%2BQVFRkSZPnqzIyEh95zvf0YIFC7Rz507V1dXZHS3kWZYlSXrssceUlJSkrl27as6cOdq3b5/NycyjYIW4ffv26Qc/%2BIEWL16sRx55RJKUkJDQ7F8MPp9PcXFxCg/nLtOWwsLClJycrHnz5mnnzp1yuVzy%2BXx%2Bx3i9XiUkJNiUMPSUlpbq4MGDys3NbXZbfHw88wlA3bt3V0NDg8LDw5mPzb54WspXz1R169ZNlmWprq4uqObDd8sQ9t5772nhwoV64YUXdP/99zet9%2BvXT0eOHFF9fX3TWllZmfr3729HzJBTWlqqUaNG%2BV2O/aLY3nLLLc2ej%2BB2u5lNG9q%2BfbvOnj2rO%2B%2B8U2lpaZo4caIkKS0tTb169WI%2BNjt06JDWrFnjt3b06FFFRkYqIyOD%2Bdisa9eu6tChgw4fPty0VlFRoXbt2gXffOz%2BMUbYo66uzhozZoy1devWZrfV1tZad955p/WTn/zE%2Buyzz6z333/fGjx4sPX73/%2B%2B7YOGoKqqKis9Pd1as2aN9dlnn1lnz561pk%2Bfbj300EPWmTNnrFtvvdV65ZVXrIsXL1r79%2B%2B3brnlFuvw4cN2xw4ZPp/POnXqVNOfgwcPWr169bJOnTplVVRUMB%2BbnT592howYIBVWFho1dbWWseOHbPGjh1rrVixgsdPgFi1apV11113WSdOnLDOnDljZWdnW4sWLQq6%2BYRZ1t8viCKkvPvuu/rXf/1XRUZGNrtt9%2B7dqq6u1jPPPCO3260uXbpoxowZeuihh2xIGpqOHDmilStX6oMPPlB0dLRuu%2B02LVq0SElJSXrnnXe0cuVKHT16VN26ddP8%2BfM1cuRIuyOHrJMnT%2Bquu%2B7SkSNHJIn5BIB33nlH%2Bfn5OnLkiCIjI/XAAw9o3rx5ioqKYj4B4NKlS1q9erVef/111dXVadSoUVq2bJliYmKCaj4ULAAAAMN4DhYAAIBhFCwAAADDKFgAAACGUbAAAAAMo2ABAAAYRsECAAAwjIIFAABgGAULAADAMAoWAACAYRQsAAAAwyhYAAAAhlGwAAAADKNgAQAAGPb/%2BbwFEd6zsOsAAAAASUVORK5CYII%3D\"/>\n",
              "        </div>\n",
              "        <div role=\"tabpanel\" class=\"tab-pane col-md-12\" id=\"common1621786907462559278\">\n",
              "            \n",
              "<table class=\"freq table table-hover\">\n",
              "    <thead>\n",
              "    <tr>\n",
              "        <td class=\"fillremaining\">Value</td>\n",
              "        <td class=\"number\">Count</td>\n",
              "        <td class=\"number\">Frequency (%)</td>\n",
              "        <td style=\"min-width:200px\">&nbsp;</td>\n",
              "    </tr>\n",
              "    </thead>\n",
              "    <tr class=\"\">\n",
              "        <td class=\"fillremaining\">35</td>\n",
              "        <td class=\"number\">32</td>\n",
              "        <td class=\"number\">8.0%</td>\n",
              "        <td>\n",
              "            <div class=\"bar\" style=\"width:14%\">&nbsp;</div>\n",
              "        </td>\n",
              "</tr><tr class=\"\">\n",
              "        <td class=\"fillremaining\">37</td>\n",
              "        <td class=\"number\">20</td>\n",
              "        <td class=\"number\">5.0%</td>\n",
              "        <td>\n",
              "            <div class=\"bar\" style=\"width:9%\">&nbsp;</div>\n",
              "        </td>\n",
              "</tr><tr class=\"\">\n",
              "        <td class=\"fillremaining\">41</td>\n",
              "        <td class=\"number\">16</td>\n",
              "        <td class=\"number\">4.0%</td>\n",
              "        <td>\n",
              "            <div class=\"bar\" style=\"width:7%\">&nbsp;</div>\n",
              "        </td>\n",
              "</tr><tr class=\"\">\n",
              "        <td class=\"fillremaining\">42</td>\n",
              "        <td class=\"number\">16</td>\n",
              "        <td class=\"number\">4.0%</td>\n",
              "        <td>\n",
              "            <div class=\"bar\" style=\"width:7%\">&nbsp;</div>\n",
              "        </td>\n",
              "</tr><tr class=\"\">\n",
              "        <td class=\"fillremaining\">26</td>\n",
              "        <td class=\"number\">16</td>\n",
              "        <td class=\"number\">4.0%</td>\n",
              "        <td>\n",
              "            <div class=\"bar\" style=\"width:7%\">&nbsp;</div>\n",
              "        </td>\n",
              "</tr><tr class=\"\">\n",
              "        <td class=\"fillremaining\">39</td>\n",
              "        <td class=\"number\">15</td>\n",
              "        <td class=\"number\">3.8%</td>\n",
              "        <td>\n",
              "            <div class=\"bar\" style=\"width:7%\">&nbsp;</div>\n",
              "        </td>\n",
              "</tr><tr class=\"\">\n",
              "        <td class=\"fillremaining\">40</td>\n",
              "        <td class=\"number\">15</td>\n",
              "        <td class=\"number\">3.8%</td>\n",
              "        <td>\n",
              "            <div class=\"bar\" style=\"width:7%\">&nbsp;</div>\n",
              "        </td>\n",
              "</tr><tr class=\"\">\n",
              "        <td class=\"fillremaining\">47</td>\n",
              "        <td class=\"number\">14</td>\n",
              "        <td class=\"number\">3.5%</td>\n",
              "        <td>\n",
              "            <div class=\"bar\" style=\"width:7%\">&nbsp;</div>\n",
              "        </td>\n",
              "</tr><tr class=\"\">\n",
              "        <td class=\"fillremaining\">48</td>\n",
              "        <td class=\"number\">14</td>\n",
              "        <td class=\"number\">3.5%</td>\n",
              "        <td>\n",
              "            <div class=\"bar\" style=\"width:7%\">&nbsp;</div>\n",
              "        </td>\n",
              "</tr><tr class=\"\">\n",
              "        <td class=\"fillremaining\">38</td>\n",
              "        <td class=\"number\">13</td>\n",
              "        <td class=\"number\">3.2%</td>\n",
              "        <td>\n",
              "            <div class=\"bar\" style=\"width:6%\">&nbsp;</div>\n",
              "        </td>\n",
              "</tr><tr class=\"other\">\n",
              "        <td class=\"fillremaining\">Other values (33)</td>\n",
              "        <td class=\"number\">229</td>\n",
              "        <td class=\"number\">57.2%</td>\n",
              "        <td>\n",
              "            <div class=\"bar\" style=\"width:100%\">&nbsp;</div>\n",
              "        </td>\n",
              "</tr>\n",
              "</table>\n",
              "        </div>\n",
              "        <div role=\"tabpanel\" class=\"tab-pane col-md-12\"  id=\"extreme1621786907462559278\">\n",
              "            <p class=\"h4\">Minimum 5 values</p>\n",
              "            \n",
              "<table class=\"freq table table-hover\">\n",
              "    <thead>\n",
              "    <tr>\n",
              "        <td class=\"fillremaining\">Value</td>\n",
              "        <td class=\"number\">Count</td>\n",
              "        <td class=\"number\">Frequency (%)</td>\n",
              "        <td style=\"min-width:200px\">&nbsp;</td>\n",
              "    </tr>\n",
              "    </thead>\n",
              "    <tr class=\"\">\n",
              "        <td class=\"fillremaining\">18</td>\n",
              "        <td class=\"number\">5</td>\n",
              "        <td class=\"number\">1.2%</td>\n",
              "        <td>\n",
              "            <div class=\"bar\" style=\"width:71%\">&nbsp;</div>\n",
              "        </td>\n",
              "</tr><tr class=\"\">\n",
              "        <td class=\"fillremaining\">19</td>\n",
              "        <td class=\"number\">7</td>\n",
              "        <td class=\"number\">1.8%</td>\n",
              "        <td>\n",
              "            <div class=\"bar\" style=\"width:100%\">&nbsp;</div>\n",
              "        </td>\n",
              "</tr><tr class=\"\">\n",
              "        <td class=\"fillremaining\">20</td>\n",
              "        <td class=\"number\">7</td>\n",
              "        <td class=\"number\">1.8%</td>\n",
              "        <td>\n",
              "            <div class=\"bar\" style=\"width:100%\">&nbsp;</div>\n",
              "        </td>\n",
              "</tr><tr class=\"\">\n",
              "        <td class=\"fillremaining\">21</td>\n",
              "        <td class=\"number\">4</td>\n",
              "        <td class=\"number\">1.0%</td>\n",
              "        <td>\n",
              "            <div class=\"bar\" style=\"width:57%\">&nbsp;</div>\n",
              "        </td>\n",
              "</tr><tr class=\"\">\n",
              "        <td class=\"fillremaining\">22</td>\n",
              "        <td class=\"number\">5</td>\n",
              "        <td class=\"number\">1.2%</td>\n",
              "        <td>\n",
              "            <div class=\"bar\" style=\"width:71%\">&nbsp;</div>\n",
              "        </td>\n",
              "</tr>\n",
              "</table>\n",
              "            <p class=\"h4\">Maximum 5 values</p>\n",
              "            \n",
              "<table class=\"freq table table-hover\">\n",
              "    <thead>\n",
              "    <tr>\n",
              "        <td class=\"fillremaining\">Value</td>\n",
              "        <td class=\"number\">Count</td>\n",
              "        <td class=\"number\">Frequency (%)</td>\n",
              "        <td style=\"min-width:200px\">&nbsp;</td>\n",
              "    </tr>\n",
              "    </thead>\n",
              "    <tr class=\"\">\n",
              "        <td class=\"fillremaining\">56</td>\n",
              "        <td class=\"number\">3</td>\n",
              "        <td class=\"number\">0.8%</td>\n",
              "        <td>\n",
              "            <div class=\"bar\" style=\"width:43%\">&nbsp;</div>\n",
              "        </td>\n",
              "</tr><tr class=\"\">\n",
              "        <td class=\"fillremaining\">57</td>\n",
              "        <td class=\"number\">5</td>\n",
              "        <td class=\"number\">1.2%</td>\n",
              "        <td>\n",
              "            <div class=\"bar\" style=\"width:71%\">&nbsp;</div>\n",
              "        </td>\n",
              "</tr><tr class=\"\">\n",
              "        <td class=\"fillremaining\">58</td>\n",
              "        <td class=\"number\">6</td>\n",
              "        <td class=\"number\">1.5%</td>\n",
              "        <td>\n",
              "            <div class=\"bar\" style=\"width:85%\">&nbsp;</div>\n",
              "        </td>\n",
              "</tr><tr class=\"\">\n",
              "        <td class=\"fillremaining\">59</td>\n",
              "        <td class=\"number\">7</td>\n",
              "        <td class=\"number\">1.8%</td>\n",
              "        <td>\n",
              "            <div class=\"bar\" style=\"width:100%\">&nbsp;</div>\n",
              "        </td>\n",
              "</tr><tr class=\"\">\n",
              "        <td class=\"fillremaining\">60</td>\n",
              "        <td class=\"number\">7</td>\n",
              "        <td class=\"number\">1.8%</td>\n",
              "        <td>\n",
              "            <div class=\"bar\" style=\"width:100%\">&nbsp;</div>\n",
              "        </td>\n",
              "</tr>\n",
              "</table>\n",
              "        </div>\n",
              "    </div>\n",
              "</div>\n",
              "</div><div class=\"row variablerow\">\n",
              "    <div class=\"col-md-3 namecol\">\n",
              "        <p class=\"h4 pp-anchor\" id=\"pp_var_EstimatedSalary\">EstimatedSalary<br/>\n",
              "            <small>Numeric</small>\n",
              "        </p>\n",
              "    </div><div class=\"col-md-6\">\n",
              "    <div class=\"row\">\n",
              "        <div class=\"col-sm-6\">\n",
              "            <table class=\"stats \">\n",
              "                <tr>\n",
              "                    <th>Distinct count</th>\n",
              "                    <td>117</td>\n",
              "                </tr>\n",
              "                <tr>\n",
              "                    <th>Unique (%)</th>\n",
              "                    <td>29.2%</td>\n",
              "                </tr>\n",
              "                <tr class=\"ignore\">\n",
              "                    <th>Missing (%)</th>\n",
              "                    <td>0.0%</td>\n",
              "                </tr>\n",
              "                <tr class=\"ignore\">\n",
              "                    <th>Missing (n)</th>\n",
              "                    <td>0</td>\n",
              "                </tr>\n",
              "                <tr class=\"ignore\">\n",
              "                    <th>Infinite (%)</th>\n",
              "                    <td>0.0%</td>\n",
              "                </tr>\n",
              "                <tr class=\"ignore\">\n",
              "                    <th>Infinite (n)</th>\n",
              "                    <td>0</td>\n",
              "                </tr>\n",
              "            </table>\n",
              "\n",
              "        </div>\n",
              "        <div class=\"col-sm-6\">\n",
              "            <table class=\"stats \">\n",
              "\n",
              "                <tr>\n",
              "                    <th>Mean</th>\n",
              "                    <td>69742</td>\n",
              "                </tr>\n",
              "                <tr>\n",
              "                    <th>Minimum</th>\n",
              "                    <td>15000</td>\n",
              "                </tr>\n",
              "                <tr>\n",
              "                    <th>Maximum</th>\n",
              "                    <td>150000</td>\n",
              "                </tr>\n",
              "                <tr class=\"ignore\">\n",
              "                    <th>Zeros (%)</th>\n",
              "                    <td>0.0%</td>\n",
              "                </tr>\n",
              "            </table>\n",
              "        </div>\n",
              "    </div>\n",
              "</div>\n",
              "<div class=\"col-md-3 collapse in\" id=\"minihistogram3162173206927336917\">\n",
              "    <img src=\"data:image/png;base64,iVBORw0KGgoAAAANSUhEUgAAAMgAAABLCAYAAAA1fMjoAAAABHNCSVQICAgIfAhkiAAAAAlwSFlzAAAPYQAAD2EBqD%2BnaQAAADh0RVh0U29mdHdhcmUAbWF0cGxvdGxpYiB2ZXJzaW9uMy4yLjIsIGh0dHA6Ly9tYXRwbG90bGliLm9yZy%2BWH4yJAAABNElEQVR4nO3b0W2DMBRA0VJlpAzRnfqdnTpEdnIXqK6SSBQHn/OP5J/LA2O2Mcb4AP70efQCYGaXoxdwZtfvn6evud%2B%2BdlgJrzJBIAgEgkAgCASCQCAIBIJAIAgEgkAgCASCQCAIBIJAICx7mtdJWx5hgkAQCASBQJjuHWTmd4NX1sZ7M0EgCASCQCAIBIJAIEy3i7W6mXfxVnSKQGy/shePWBAEAkEgEAQCQSAQBAJBIBAEAuEUHwpX9%2ByH0pn/n5ntVIAJAsEEWdAZ7uz/RSA8ZNXzbh6xIAgEgkAgCASCQCAIBIJAIAgEgkAgbGOMcfQiYFYmCASBQBAIBIFAEAgEgUAQCASBQBAIBIFAEAgEgUAQCASBQBAIBIFAEAgEgUAQCASBQBAIBIFAEAgEgUAQCIRfJDUh0rCP%2BOoAAAAASUVORK5CYII%3D\">\n",
              "\n",
              "</div>\n",
              "<div class=\"col-md-12 text-right\">\n",
              "    <a role=\"button\" data-toggle=\"collapse\" data-target=\"#descriptives3162173206927336917,#minihistogram3162173206927336917\"\n",
              "       aria-expanded=\"false\" aria-controls=\"collapseExample\">\n",
              "        Toggle details\n",
              "    </a>\n",
              "</div>\n",
              "<div class=\"row collapse col-md-12\" id=\"descriptives3162173206927336917\">\n",
              "    <ul class=\"nav nav-tabs\" role=\"tablist\">\n",
              "        <li role=\"presentation\" class=\"active\"><a href=\"#quantiles3162173206927336917\"\n",
              "                                                  aria-controls=\"quantiles3162173206927336917\" role=\"tab\"\n",
              "                                                  data-toggle=\"tab\">Statistics</a></li>\n",
              "        <li role=\"presentation\"><a href=\"#histogram3162173206927336917\" aria-controls=\"histogram3162173206927336917\"\n",
              "                                   role=\"tab\" data-toggle=\"tab\">Histogram</a></li>\n",
              "        <li role=\"presentation\"><a href=\"#common3162173206927336917\" aria-controls=\"common3162173206927336917\"\n",
              "                                   role=\"tab\" data-toggle=\"tab\">Common Values</a></li>\n",
              "        <li role=\"presentation\"><a href=\"#extreme3162173206927336917\" aria-controls=\"extreme3162173206927336917\"\n",
              "                                   role=\"tab\" data-toggle=\"tab\">Extreme Values</a></li>\n",
              "\n",
              "    </ul>\n",
              "\n",
              "    <div class=\"tab-content\">\n",
              "        <div role=\"tabpanel\" class=\"tab-pane active row\" id=\"quantiles3162173206927336917\">\n",
              "            <div class=\"col-md-4 col-md-offset-1\">\n",
              "                <p class=\"h4\">Quantile statistics</p>\n",
              "                <table class=\"stats indent\">\n",
              "                    <tr>\n",
              "                        <th>Minimum</th>\n",
              "                        <td>15000</td>\n",
              "                    </tr>\n",
              "                    <tr>\n",
              "                        <th>5-th percentile</th>\n",
              "                        <td>20950</td>\n",
              "                    </tr>\n",
              "                    <tr>\n",
              "                        <th>Q1</th>\n",
              "                        <td>43000</td>\n",
              "                    </tr>\n",
              "                    <tr>\n",
              "                        <th>Median</th>\n",
              "                        <td>70000</td>\n",
              "                    </tr>\n",
              "                    <tr>\n",
              "                        <th>Q3</th>\n",
              "                        <td>88000</td>\n",
              "                    </tr>\n",
              "                    <tr>\n",
              "                        <th>95-th percentile</th>\n",
              "                        <td>137050</td>\n",
              "                    </tr>\n",
              "                    <tr>\n",
              "                        <th>Maximum</th>\n",
              "                        <td>150000</td>\n",
              "                    </tr>\n",
              "                    <tr>\n",
              "                        <th>Range</th>\n",
              "                        <td>135000</td>\n",
              "                    </tr>\n",
              "                    <tr>\n",
              "                        <th>Interquartile range</th>\n",
              "                        <td>45000</td>\n",
              "                    </tr>\n",
              "                </table>\n",
              "            </div>\n",
              "            <div class=\"col-md-4 col-md-offset-2\">\n",
              "                <p class=\"h4\">Descriptive statistics</p>\n",
              "                <table class=\"stats indent\">\n",
              "                    <tr>\n",
              "                        <th>Standard deviation</th>\n",
              "                        <td>34097</td>\n",
              "                    </tr>\n",
              "                    <tr>\n",
              "                        <th>Coef of variation</th>\n",
              "                        <td>0.4889</td>\n",
              "                    </tr>\n",
              "                    <tr>\n",
              "                        <th>Kurtosis</th>\n",
              "                        <td>-0.40588</td>\n",
              "                    </tr>\n",
              "                    <tr>\n",
              "                        <th>Mean</th>\n",
              "                        <td>69742</td>\n",
              "                    </tr>\n",
              "                    <tr>\n",
              "                        <th>MAD</th>\n",
              "                        <td>27319</td>\n",
              "                    </tr>\n",
              "                    <tr class=\"\">\n",
              "                        <th>Skewness</th>\n",
              "                        <td>0.49502</td>\n",
              "                    </tr>\n",
              "                    <tr>\n",
              "                        <th>Sum</th>\n",
              "                        <td>27897000</td>\n",
              "                    </tr>\n",
              "                    <tr>\n",
              "                        <th>Variance</th>\n",
              "                        <td>1162600000</td>\n",
              "                    </tr>\n",
              "                    <tr>\n",
              "                        <th>Memory size</th>\n",
              "                        <td>3.2 KiB</td>\n",
              "                    </tr>\n",
              "                </table>\n",
              "            </div>\n",
              "        </div>\n",
              "        <div role=\"tabpanel\" class=\"tab-pane col-md-8 col-md-offset-2\" id=\"histogram3162173206927336917\">\n",
              "            <img src=\"data:image/png;base64,iVBORw0KGgoAAAANSUhEUgAAAlgAAAGQCAYAAAByNR6YAAAABHNCSVQICAgIfAhkiAAAAAlwSFlzAAAPYQAAD2EBqD%2BnaQAAADh0RVh0U29mdHdhcmUAbWF0cGxvdGxpYiB2ZXJzaW9uMy4yLjIsIGh0dHA6Ly9tYXRwbG90bGliLm9yZy%2BWH4yJAAAgAElEQVR4nO3de1xVdb7/8TeXsrwgYIGNOYONqSFeESm0VGrUMs0Uxc7pYVYmKsloWpqXSU8ddB5ojUnHdBqb0k4RnWa8lGnlRDdmpovNAJrlpSkJg3Rv8YIX4Pv7o1972uEF8wuLzXo9Hw8fxPe79pfP98tau/dea%2B9FkDHGCAAAANYEO10AAABAY0PAAgAAsIyABQAAYBkBCwAAwDICFgAAgGUELAAAAMsIWAAAAJYRsAAAACwjYAEAAFhGwAIAALCMgAUAAGAZAQsAAMAyAhYAAIBlBCwAAADLCFgAAACWEbAAAAAsI2ABAABYRsACAACwjIAFAABgGQELAADAMgIWAACAZQQsAAAAywhYAAAAlhGwAAAALCNgAQAAWEbAAgAAsIyABQAAYBkBCwAAwDICFgAAgGUELAAAAMsIWAAAAJYRsAAAACwjYAEAAFhGwAIAALCMgAUAAGAZAQsAAMAyAhYAAIBlBCwAAADLCFgAAACWhTpdgFuUlR1yuoQagoODFBnZTAcOHFF1tXG6HEe4fQ3cPn%2BJNZBYA7fPX2rca3DppS0c%2BbmcwXKx4OAgBQUFKTg4yOlSHOP2NXD7/CXWQGIN3D5/iTWoCwQsAAAAywhYAAAAlhGwAAAALCNgAQAAWEbAAgAAsIyABQAAYBkBCwAAwDICFgAAgGUELAAAAMsIWAAAAJYRsAAAACwjYAEAAFhGwAIAALAs1OkCALjPjb97z%2BkSzsnGqX2cLgFAgOEMFgAAgGUELAAAAMtcG7C2bdumsWPHqlevXurTp49mzJihAwcOSJLy8/OVkpKinj17asiQIVq3bp3D1QIAgEDiyoBVWVmpCRMmqHv37nr//fe1YcMGHThwQPPnz1dpaakmT56sMWPGKD8/X3PmzNG8efNUUFDgdNkAACBAuDJglZWVqaysTLfccosuvPBCRURE6Fe/%2BpW2b9%2Bu9evXKyYmRikpKWrSpImSkpKUnJys3Nxcp8sGAAABwpUBKzo6WldddZVycnJ05MgR7d%2B/X5s3b1b//v1VVFSk2NhYv%2B1jY2NVWFjoULUAACDQuPI2DcHBwVq2bJnGjRunZ555RpLUu3dvTZ8%2BXZMnT1Z0dLTf9uHh4fJ4PLUev7S0VGVlZX5toaFNFRUVdf7FWxQSEuz31Y3cvgZun39thYY27vVx%2B37g9vlLrEFdcGXAOnHihCZOnKjBgwdr4sSJOnr0qBYsWKAZM2ZYGT8nJ0fZ2dl%2Bbenp6crIyLAyvm1hYRc7XYLj3L4Gbp//2URENHO6hHrh9v3A7fOXWAObXBmw8vPztXfvXt13330KCQlRixYtlJGRoVtuuUXXXnutvF6v3/Yej0eRkZG1Hj81NVXJycl%2BbaGhTeXxHLFSvy0hIcEKC7tY5eUVqqqqdrocR7h9Ddw%2B/9pqaMeubW7fD9w%2Bf6lxr4FTL5BcGbCqqqpUXV0tY4yv7cSJE5KkpKQk/elPf/LbvrCwUN26dav1%2BFFRUTUuB5aVHVJlZcPcaauqqhtsbfXF7Wvg9vmfjVvWxu37gdvnL7EGNrnyYmuPHj3UtGlTLVu2TBUVFfJ4PFq%2BfLkSEhJ0yy23qLi4WLm5uTp%2B/Ljy8vKUl5en0aNHO102AAAIEK4MWBEREfrDH/6gjz/%2BWNddd51uvvlmXXTRRVqyZIlatWqlFStWaM2aNYqPj1dmZqaysrLUqVMnp8sGAAABwpWXCCUpLi5Oq1evPmVfQkKC1q5dW88VAQCAxsKVZ7AAAADqEgELAADAMgIWAACAZQQsAAAAywhYAAAAlhGwAAAALCNgAQAAWEbAAgAAsIyABQAAYBkBCwAAwDICFgAAgGUELAAAAMsIWAAAAJYRsAAAACwjYAEAAFhGwAIAALCMgAUAAGAZAQsAAMAyAhYAAIBlBCwAAADLCFgAAACWEbAAAAAsI2ABAABYRsACAACwjIAFAABgGQELAADAslCnC3DCBx98oLvuusuvzRijkydPaseOHcrPz9eSJUu0e/duXXbZZUpLS9OwYcMcqhYAAAQaVwashIQEFRQU%2BLU9%2BeST%2BvTTT1VaWqrJkydrzpw5Gjp0qD766CNNmjRJ7dq1U5cuXRyqGAAABBIuEUr6%2Buuv9fTTT%2BuBBx7Q%2BvXrFRMTo5SUFDVp0kRJSUlKTk5Wbm6u02UCAIAAQcCStHTpUo0cOVI/%2B9nPVFRUpNjYWL/%2B2NhYFRYWOlQdAAAINK68RPhDe/fu1ebNm7V582ZJktfrVXR0tN824eHh8ng8tR6ztLRUZWVlfm2hoU0VFRV1/gVbFBIS7PfVjdy%2BBm6ff22Fhjbu9XH7fuD2%2BUusQV1wfcB67rnnNHDgQF166aXWxszJyVF2drZfW3p6ujIyMqz9DJvCwi52ugTHuX0N3D7/s4mIaOZ0CfXC7fuB2%2BcvsQY2uT5gbdq0STNnzvR9HxERIa/X67eNx%2BNRZGRkrcdMTU1VcnKyX1toaFN5PEfOr1jLQkKCFRZ2scrLK1RVVe10OY5w%2Bxq4ff611dCOXdvcvh%2B4ff5S414Dp14guTpgbd%2B%2BXcXFxerTp4%2BvrUuXLvq///s/v%2B0KCwvVrVu3Wo8bFRVV43JgWdkhVVY2zJ22qqq6wdZWX9y%2BBm6f/9m4ZW3cvh%2B4ff4Sa2CTqy%2B2btu2TeHh4WrevLmvbejQoSouLlZubq6OHz%2BuvLw85eXlafTo0Q5WCgAAAomrA9a3335b471XrVq10ooVK7RmzRrFx8crMzNTWVlZ6tSpk0NVAgCAQOPqS4RpaWlKS0ur0Z6QkKC1a9c6UBEAAGgMXH0GCwAAoC4QsAAAACwjYAEAAFhGwAIAALCMgAUAAGAZAQsAAMAyAhYAAIBlBCwAAADLCFgAAACWEbAAAAAsI2ABAABYRsACAACwjIAFAABgGQELAADAMgIWAACAZQQsAAAAywhYAAAAlhGwAAAALCNgAQAAWEbAAgAAsIyABQAAYBkBCwAAwDICFgAAgGUELAAAAMsIWAAAAJYRsAAAACwjYAEAAFjm6oC1fPly9e3bV927d9e4ceO0d%2B9eSVJ%2Bfr5SUlLUs2dPDRkyROvWrXO4UgAAEEhcG7Cee%2B45rVu3Ts8%2B%2B6zeffddtW/fXn/84x9VWlqqyZMna8yYMcrPz9ecOXM0b948FRQUOF0yAAAIEKFOF%2BCUVatWaebMmbriiiskSXPnzpUk/eEPf1BMTIxSUlIkSUlJSUpOTlZubq66dOniWL0AACBwuDJgffPNN9q7d68OHjyom266Sfv371diYqLmz5%2BvoqIixcbG%2Bm0fGxurjRs31nr80tJSlZWV%2BbWFhjZVVFSUlfptCQkJ9vvqRm5fA7fPv7ZCQxv3%2Brh9P3D7/CXWoC64MmDt27dPkvTaa6/p6aefljFGGRkZmjt3ro4dO6bo6Gi/7cPDw%2BXxeGo9fk5OjrKzs/3a0tPTlZGRcf7F14GwsIudLsFxbl8Dt8//bCIimjldQr1w%2B37g9vlLrIFNrgxYxhhJ0vjx431hasqUKbrnnnuUlJR03uOnpqYqOTnZry00tKk8niPnPbZNISHBCgu7WOXlFaqqqna6HEe4fQ3cPv/aamjHrm1u3w/cPn%2Bpca%2BBUy%2BQXBmwLrnkEklSWFiYr61NmzYyxujkyZPyer1%2B23s8HkVGRtZ6/KioqBqXA8vKDqmysmHutFVV1Q22tvri9jVw%2B/zPxi1r4/b9wO3zl1gDm1x5sbV169Zq3ry5tm/f7msrLi7WBRdcoH79%2BqmwsNBv%2B8LCQnXr1q2%2BywQAAAHKlQErNDRUKSkpevLJJ/Wvf/1L%2B/fv1xNPPKGhQ4fq1ltvVXFxsXJzc3X8%2BHHl5eUpLy9Po0ePdrpsAAAQIFx5iVCSpk%2BfrhMnTmjUqFE6efKkBg0apLlz56pZs2ZasWKFHnnkES1YsEBt2rRRVlaWOnXq5HTJAAAgQLg2YF144YV66KGH9NBDD9XoS0hI0Nq1ax2oCgAANAauDVjA2dz4u/ecLuGcbJzax%2BkSAAD/nyvfgwUAAFCXCFgAAACWEbAAAAAsI2ABAABYRsACAACwjIAFAABgGQELAADAMgIWAACAZQQsAAAAywhYAAAAlhGwAAAALCNgAQAAWEbAAgAAsIyABQAAYBkBCwAAwDICFgAAgGUELAAAAMsIWAAAAJYRsAAAACwjYAEAAFhGwAIAALCMgAUAAGBZQAWs5ORkZWdnq6SkxOlSAAAATiugAtbIkSP16quv6oYbbtD48eO1efNmVVZWOl0WAACAn4AKWOnp6Xr11Vf14osv6sorr1RmZqb69eunrKws7dmzx%2BnyAAAAJEmhThfwU3Tu3FmdO3fWAw88oFdffVXz58/XqlWrlJSUpF//%2Btfq2rXrGR/fsWNHXXDBBQoKCvK1jR49WvPmzVN%2Bfr6WLFmi3bt367LLLlNaWpqGDRtW11P6yW783XtOl1BrG6f2cboEAADqRUAGrJMnT%2Br111/Xyy%2B/rL/%2B9a%2BKiYnRlClTVFpaqnHjxmnBggUaOnToGcd47bXXdPnll/u1lZaWavLkyZozZ46GDh2qjz76SJMmTVK7du3UpUuXupwSAABoRAIqYO3atUsvvfSS/vznP%2BvIkSMaNGiQnnnmGcXHx/u2SUhI0Pz5888asE5l/fr1iomJUUpKiiQpKSlJycnJys3NJWABAIBaC6iANWTIELVr105paWkaPny4wsPDa2zTr18/HThw4KxjLVmyRFu3btXhw4d14403atasWSoqKlJsbKzfdrGxsdq4ceM51VlaWqqysjK/ttDQpoqKijqncRqb0NCG95a/kJBgv6%2BB7Kesb2Oaf11qiPuuTW7fD9w%2Bf4k1qAsBFbCeffZZ9e7d%2B6zb/eMf/zhjf/fu3ZWUlKTf/va3%2BuqrrzR16lQtWLBAXq9X0dHRftuGh4fL4/GcU505OTnKzs72a0tPT1dGRsY5jdPYREQ0c7qE0woLu9jpEs7brxa/43QJjVZD3ndtagzHwflw%2B/wl1sCmgApYHTt21MSJE5WSkqIbbrhBkvTHP/5R7733nrKysk55RutUcnJyfP/9y1/%2BUjNmzNCkSZP8LjWej9TUVCUnJ/u1hYY2lcdzxMr4gaohzj8kJFhhYRervLxCVVXVTpeDBqoh7rs2uf04cPv8pca9Bk69QAqogLVw4UIdOnRI7du397X1799f77zzjhYtWqRFixb9pHEvv/xyVVVVKTg4WF6v16/P4/EoMjLynMaLioqqcTmwrOyQKisb1057rhry/Kuqqht0fXCWW/YNtx8Hbp%2B/xBrYFFAXW999911lZ2crJibG1xYTE6PFixfrnXdqd3lk27ZtNYLYrl27dOGFF6pfv34qLCz06yssLFS3bt3Ou3YAAOAeARWwjh07piZNmtRoDw4OVkVFRa3GaNWqlXJycrRy5UqdOHFCe/bs0dKlS5WamqpbbrlFxcXFys3N1fHjx5WXl6e8vDyNHj3a9lQAAEAjFlABKyEhQYsWLdLBgwd9bd98840WLFhQ6/dPRUdHa%2BXKldqyZYsSExM1ZswYXXvttbr//vvVqlUrrVixQmvWrFF8fLwyMzOVlZWlTp061dWUAABAIxRQ78GaPXu27rrrLl1zzTVq3ry5qqurdeTIEbVt21arV6%2Bu9TgJCQl64YUXTtu3du1aWyUDAAAXCqiA1bZtW73yyit6%2B%2B239eWXXyo4OFjt2rVT3759FRIS4nR5AAAAkgIsYEnShRde6LtFAwAAQEMUUAHrq6%2B%2B0pIlS/T555/r2LFjNfrffPNNB6oCAADwF1ABa/bs2SotLVXfvn3VtGlTp8sBAAA4pYAKWIWFhXrzzTfP%2BcafAAAA9SmgbtPQqlUrzlwBAIAGL6ACVlpamrKzs2WMcboUAACA0wqoS4Rvv/22Pv74Y7388su6/PLLFRzsnw9Pd28rAACA%2BhRQAat58%2Ba67rrrnC4DAADgjAIqYC1cuNDpEgAAAM4qoN6DJUm7d%2B/WsmXL9OCDD/ratm7d6mBFAAAA/gIqYOXn52vYsGHavHmzNmzYIOm7m4%2BOHTuWm4wCAIAGI6AC1mOPPab7779f69evV1BQkKTv/j7hokWL9MQTTzhcHQAAwHcCKmB99tlnuu222yTJF7AkafDgwdq1a5dTZQEAAPgJqIDVokWLU/4NwtLSUl144YUOVAQAAFBTQAWsnj17KjMzU4cPH/a17dmzRzNnztQ111zjYGUAAAD/FlC3aXjwwQd1xx13KDExUVVVVerZs6cqKip05ZVXatGiRU6XBwAAICnAAlbr1q21YcMG5eXlac%2BePbrooovUrl079enTx%2B89WQAAAE4KqIAlSRdccIFuuOEGp8sAAAA4rYAKWMnJyWc8U8W9sAAAQEMQUAHrpptu8gtYVVVV2rNnjwoKCnTHHXc4WBkAAMC/BVTAmjFjxinbN23apL/97W/1XA0AAMCpBdRtGk7nhhtu0CuvvOJ0GQAAAJIaScDatm2bjDFOlwEAACApwC4RjhkzpkZbRUWFdu3apYEDBzpQEQAAQE0BFbBiYmJqfIqwSZMmSklJ0ahRoxyqCgAAwF9ABay6uFt7ZmamnnnmGe3YsUOSlJ%2BfryVLlmj37t267LLLlJaWpmHDhln/uQAAoPEKqID15z//udbbDh8%2B/KzbbN%2B%2BXWvXrvV9X1paqsmTJ2vOnDkaOnSoPvroI02aNEnt2rVTly5dflLNAADAfQIqYM2ZM0fV1dU13tAeFBTk1xYUFHTWgFVdXa2HHnpI48aN0%2B9%2B9ztJ0vr16xUTE6OUlBRJUlJSkpKTk5Wbm0vAAgAAtRZQAeupp57SqlWrNHHiRHXs2FHGGO3YsUO///3vdfvttysxMbHWY73wwgtq0qSJhg4d6gtYRUVFio2N9dsuNjZWGzduPKc6S0tLVVZW5tcWGtpUUVFR5zROYxMa2vA%2BtBoSEuz3FTiVhrjv2uT248Dt85dYg7oQUAFr0aJFWrlypaKjo31tvXr1Utu2bXX33Xdrw4YNtRrn22%2B/1bJly7R69Wq/dq/X6ze2JIWHh8vj8ZxTnTk5OcrOzvZrS09PV0ZGxjmN09hERDRzuoTTCgu72OkS0ID9avE7TpdwTj7878E/6XFuPw7cPn%2BJNbApoALWF198oZYtW9ZoDwsLU3Fxca3HWbhwoUaMGKH27dtr7969NkuUJKWmpio5OdmvLTS0qTyeI9Z/ViBpiPMPCQlWWNjFKi%2BvUFVVtdPlAFac67Hm9uPA7fOXGvcaOPXiPqACVps2bbRo0SL9%2Bte/VkREhCSpvLxcjz/%2BuH7%2B85/Xaoz8/Hxt3br1lGe7IiIi5PV6/do8Ho8iIyPPqc6oqKgalwPLyg6psrJx7bTnqiHPv6qqukHXB5yLn7ovu/04cPv8JdbApoAKWLNnz9b06dOVk5OjZs2aKTg4WIcPH9ZFF12kJ554olZjrFu3Tvv379eAAQMkyffm%2BMTERN111101gldhYaG6detmdyIAAKBRCzIB9jdmKioqlJeXp3379skYo%2BjoaF177bVq0aJFrR5/8OBBVVRU%2BL7ft2%2BfUlNTlZeXp%2Brqat1888168MEHNWzYMP31r39VRkaGcnJy1KlTp/Oqu6zs0Hk9/nRu/N17dTIugMC1cWqfc9o%2BNDRYERHN5PEcceXZC7fPX2rca3DppbXLB7YF1BksSbr44ot1/fXXa9%2B%2BfWrbtu05P75ly5Z%2B7%2BOqrKyUJLVu3VqStGLFCj3yyCNasGCB2rRpo6ysrPMOVwAAwF0CKmAdO3ZMDz30kF555RVJ312%2BKy8v13333adHH31UYWFh5zzm5Zdf7ruLuyQlJCT43XwUAADgXAXUDS%2BysrK0fft2LV68WMHB/y69qqpKixcvdrAyAACAfwuogLVp0yY9/vjjGjx4sO%2BPPoeFhWnhwoXavHmzw9UBAAB8J6AC1pEjRxQTE1OjPTIyUkePHq3/ggAAAE4hoALWz3/%2Bc/3tb3%2BTJL%2B/Pfjaa6/pZz/7mVNlAQAA%2BAmoN7n/x3/8h6ZMmaKRI0equrpaTz/9tAoLC7Vp0ybNmTPH6fIAAAAkBVjASk1NVWhoqNasWaOQkBA9%2BeSTateunRYvXqzBg3/a394CAACwLaAC1oEDBzRy5EiNHDnS6VIAAABOK6Deg3X99dcrwG48DwAAXCigAlZiYqI2btzodBkAAABnFFCXCC%2B77DL993//t1auXKmf//znuuCCC/z6lyxZ4lBlAAAA/xZQAWvnzp264oorJEkej8fhagAAAE4tIALWtGnT9Nhjj2n16tW%2BtieeeELp6ekOVgUAAHBqAfEerC1bttRoW7lypQOVAAAAnF1ABKxTfXKQTxMCAICGKiAC1vd/2PlsbQAAAA1BQAQsAACAQELAAgAAsCwgPkV48uRJTZ8%2B/axt3AcLAAA0BAERsOLj41VaWnrWNgAAgIYgIALWD%2B9/BQAA0NDxHiwAAADLCFgAAACWEbAAAAAsI2ABAABYRsACAACwjIAFAABgmWsD1qeffqo77rhD8fHxSkpK0tSpU1VWViZJys/PV0pKinr27KkhQ4Zo3bp1DlcLAAACiSsD1okTJ3TXXXepd%2B/eys/P14YNG7R//37Nnz9fpaWlmjx5ssaMGaP8/HzNmTNH8%2BbNU0FBgdNlAwCAAOHKgFVRUaFp06YpLS1NF154oSIjI/WrX/1Kn3/%2BudavX6%2BYmBilpKSoSZMmSkpKUnJysnJzc50uGwAABAhXBqyWLVtq1KhRCg397kb2u3fv1p/%2B9CfdeOONKioqUmxsrN/2sbGxKiwsdKJUAAAQgALiT%2BXUleLiYg0aNEiVlZUaPXq0MjIydM899yg6Otpvu/DwcHk8nlqPW1pa6ns/1/dCQ5sqKirKSt0AcCahoef22jkkJNjvq9u4ff4Sa1AXXB2w2rRpo4KCAv3rX//Sb37zGz3wwANWxs3JyVF2drZfW3p6ujIyMqyMDwBnEhHR7Cc9LizsYsuVBBa3z19iDWxydcCSpKCgIMXExGjatGkaM2aM%2BvXrJ6/X67eNx%2BNRZGRkrcdMTU1VcnKyX1toaFN5PEes1AwAZ3KuzzUhIcEKC7tY5eUVqqqqrqOqGi63z19q3GvwU19wnC9XBqz8/HzNnz9fGzduVHDwd6dDv//atWtXbdq0yW/7wsJCdevWrdbjR0VF1bgcWFZ2SJWVjWunBdAw/dTnmqqqalc/T7l9/hJrYJMrL7bGxcXp8OHDysrKUkVFhQ4cOKBly5apV69euu2221RcXKzc3FwdP35ceXl5ysvL0%2BjRo50uGwAABAhXBqwWLVpo1apVKiws1NVXX60hQ4aoRYsWevTRR9WqVSutWLFCa9asUXx8vDIzM5WVlaVOnTo5XTYAAAgQrrxEKEkdO3bU6tWrT9mXkJCgtWvX1nNFAACgsXDlGSwAAIC6RMACAACwjIAFAABgGQELAADAMgIWAACAZQQsAAAAywhYAAAAlhGwAAAALCNgAQAAWEbAAgAAsIyABQAAYBkBCwAAwDICFgAAgGUELAAAAMsIWAAAAJYRsAAAACwjYAEAAFhGwAIAALCMgAUAAGAZAQsAAMAyAhYAAIBlBCwAAADLCFgAAACWhTpdAADArht/957TJdTaxql9nC6hUWNfcA5nsAAAACwjYAEAAFjm2oBVXFys9PR0JSYmKikpSbNmzVJ5ebkkafv27br99tsVHx%2BvgQMHatWqVQ5XCwAAAolrA9bEiRMVFhamLVu26OWXX9bnn3%2Bu3/72tzp27JjS0tJ09dVX65133tFjjz2mFStWaPPmzU6XDAAAAoQrA1Z5ebni4uI0ffp0NWvWTK1bt9att96qDz/8UG%2B99ZZOnjypSZMmqWnTpurcubNGjRqlnJwcp8sGAAABwpUBKywsTAsXLtQll1ziayspKVFUVJSKiorUsWNHhYSE%2BPpiY2NVWFjoRKkAACAAcZsGSQUFBVqzZo2WL1%2BujRs3KiwszK8/PDxcXq9X1dXVCg4%2BeyYtLS1VWVmZX1toaFNFRUVZrRsAAl1oqPOv80NCgv2%2BwhkNYV%2BwyfUB66OPPtKkSZM0ffp0JSUlaePGjafcLigoqNZj5uTkKDs7268tPT1dGRkZ51UrADQ2ERHNnC7BJyzsYqdLcLWGtC/Y4OqAtWXLFt1///2aN2%2Behg8fLkmKjIzUF1984bed1%2BtVeHh4rc5eSVJqaqqSk5P92kJDm8rjOWKlbgBoLBrC82JISLDCwi5WeXmFqqqqnS7HtepqX3AquLk2YH388ceaOXOmli5dqr59%2B/ra4%2BLi9Pzzz6uyslKhod8tT0FBgbp161brsaOiompcDiwrO6TKSg5cAPihhvS8WFVV3aDqcZvGtvauDFiVlZWaO3euZsyY4ReuJKlfv35q3ry5li9frvHjx%2Buzzz7TSy%2B9pKysLIeqBYDGK5D%2BlIvU%2BP6cC%2BpO43pHWS198skn2rVrlx555BF16dLF719ZWZmefPJJvf/%2B%2B%2Brdu7emTp2qadOmqX///k6XDQAAAoQrz2D16tVLO3bsOOM2zz//fD1VAwAAGhtXnsECAACoSwQsAAAAywhYAAAAlhGwAAAALCNgAQAAWObKTxECAPBTBNp9u%2BAczmABAABYRsACAACwjIAFAABgGQELAADAMgIWAACAZQQsAAAAywhYAAAAlhGwAAAALCNgAQAAWEbAAgAAsIyABQAAYBkBCwAAwDICFgAAgGUELAAAAMsIWAAAAJYRsAAAACwjYAEAAFhGwAIAALCMgAUAAGAZAQsAAMAy1wasd955R0lJSZo2bVqNvldffVVDhw5Vjx49NGLECL377rsOVAgAAAJVqNMFOOH3v/%2B9XnrpJf3iF7%2Bo0bd9%2B3bNnDlT2dnZuvrqq7Vp0ybde%2B%2B9eu2119S6dWsHqgUAAIHGlWewmjRpctqAlZubq379%2Bqlfv35q0qSJhg0bpg4dOmjdunUOVAoAAAKRKydk%2BsMAABAhSURBVAPW2LFj1aJFi1P2FRUVKTY21q8tNjZWBQUF9VEaAABoBFx5ifBMvF6vWrZs6dfWsmVL7dy5s9ZjlJaWqqyszK8tNLSpoqKirNQIAEBjExrauM75ELBOwRhzXo/PyclRdna2X1t6eroyMjLOa1wAABqriIhmTpdgFQHrRyIiIuT1ev3avF6vIiMjaz1GamqqkpOT/dpCQ5vK4zlipUYAABqbuvp/pFPBjYD1I3FxcSosLPRrKygo0JAhQ2o9RlRUVI3LgWVlh1RZWW2lRgAAGpvG9v/IxnXB04LRo0fr/fff11tvvaXjx4/rpZde0hdffKFhw4Y5XRoAAAgQrjyD1aVLF0lSZWWlJOmNN96Q9N2Zqg4dOmjx4sVauHChiouL1b59e61YsUKXXnqpY/UCAIDA4sqAdbZbLgwcOFADBw6sp2oAAEBjwyVCAAAAywhYAAAAlhGwAAAALCNgAQAAWEbAAgAAsIyABQAAYBkBCwAAwDICFgAAgGUELAAAAMsIWAAAAJYRsAAAACwjYAEAAFhGwAIAALCMgAUAAGAZAQsAAMAyAhYAAIBlBCwAAADLCFgAAACWEbAAAAAsI2ABAABYRsACAACwjIAFAABgGQELAADAMgIWAACAZQQsAAAAywhYAAAAlhGwAAAALCNgnUJxcbEmTJigxMREDRgwQFlZWaqurna6LAAAECBCnS6gIZoyZYo6d%2B6sN954Q/v371daWpouueQS3XnnnU6XBgAAAgBnsH6koKBAn376qWbMmKEWLVooJiZG48aNU05OjtOlAQCAAMEZrB8pKipSmzZt1LJlS19b586dtWfPHh0%2BfFjNmzc/6xilpaUqKyvzawsNbaqoqCjr9QIA0BiEhjaucz4ErB/xer0KCwvza/s%2BbHk8nloFrJycHGVnZ/u13XvvvZoyZYq9Qv%2B/D/978E9%2BbGlpqXJycpSamura8Of2NXD7/CXWQGIN3D5/iTWoC40rLlpijDmvx6empurll1/2%2B5eammqpOnvKysqUnZ1d42ybm7h9Ddw%2Bf4k1kFgDt89fYg3qAmewfiQyMlJer9evzev1KigoSJGRkbUaIyoqilcAAAC4GGewfiQuLk4lJSU6cOCAr62goEDt27dXs2bNHKwMAAAECgLWj8TGxqpLly5asmSJDh8%2BrF27dunpp5/Wbbfd5nRpAAAgQITMnz9/vtNFNDTXXnutNmzYoIcfflivvPKKUlJSdPfddysoKMjp0qxr1qyZevfu7eqzc25fA7fPX2INJNbA7fOXWAPbgsz5vqMbAAAAfrhECAAAYBkBCwAAwDICFgAAgGUELAAAAMsIWAAAAJYRsAAAACwjYAEAAFhGwAIAALCMgAUAAGAZAStAFRcXKz09XYmJiUpKStKsWbNUXl4uSdq%2Bfbtuv/12xcfHa%2BDAgVq1apXfY1999VUNHTpUPXr00IgRI/Tuu%2B/6%2Bqqrq/XYY4/p%2BuuvV0JCgu6%2B%2B2599dVXvn6v16upU6cqKSlJffv21Zw5c3Ts2LH6mfQZZGZmqmPHjr7v8/PzlZKSop49e2rIkCFat26d3/bPPvusBg0apJ49e%2Bq2225TYWGhr%2B/48eP6zW9%2Bo%2Buuu06JiYnKyMiQx%2BPx9RcXF2vChAlKTEzUgAEDlJWVperq6rqf5GksX75cffv2Vffu3TVu3Djt3btXkjvWYNu2bRo7dqx69eqlPn36aMaMGb4/1N5Y5//OO%2B8oKSlJ06ZNq9FXl8f2%2BTyv2HamNdi8ebOGDRumHj16aNCgQXrxxRf9%2Buvy9362fc6mM63B944cOaL%2B/ftr1qxZvrbGtB80eAYB6eabbzazZs0yhw8fNiUlJWbEiBFm9uzZpqKiwlx77bVm2bJl5siRI6awsND07t3bbNq0yRhjzLZt20xcXJx56623zLFjx8zatWtNt27dTElJiTHGmGeffdYMGDDA7Ny50xw6dMj813/9lxk6dKiprq42xhhz7733mgkTJpj9%2B/ebffv2mdTUVPPwww87tg7GfDen3r17mw4dOhhjjPnmm29M9%2B7dTW5urjl27Jh57733TNeuXc0///lPY4wxb775punVq5f55JNPTEVFhVmxYoXp06ePOXLkiDHGmIULF5oRI0aYr7/%2B2ng8HnPvvfeatLQ038%2B79dZbzdy5c015ebnZs2ePGThwoFm1alX9T9wYs2bNGjN48GCza9cuc%2BjQIfPwww%2Bbhx9%2B2BVrcPLkSdOnTx%2BzZMkSc/z4cXPgwAFz5513milTpjTa%2Ba9cudIMHDjQjBkzxkydOtWvry6P7fN9XqmvNfjHP/5hunTpYl5//XVz8uRJ89Zbb5nOnTubDz74wBhTt7/3s%2B1z9bUGP7Rw4UITHx9vZs6c6WtrLPtBICBgBaCDBw%2BaWbNmmbKyMl/b6tWrzcCBA83GjRvN1VdfbSorK319WVlZ5q677jLGGLNgwQKTnp7uN96oUaPMihUrjDHGDBkyxDzzzDO%2BvkOHDpnY2FizdetWU1ZWZjp16mS2b9/u68/LyzPdu3c3J06cqJO5nk1VVZUZNWqU%2BZ//%2BR9fwHrqqafM8OHD/babOnWqmTdvnjHGmAkTJpjMzEy/Mfr06WM2bNhgTp48aeLj480bb7zh69%2B5c6fp2LGj2bdvn/nnP/9prrrqKuP1en39//u//2sGDRpUl9M8reTkZN%2BT2w%2B5YQ2%2B/vpr06FDB7Nz506/Om644YZGO/9nnnnGlJeXm5kzZ9b4H2tdHtvn%2B7xi05nWIC8vz2RnZ/u13XrrrWb58uXGmLr9vZ9tn7PpTGvwve3bt5s%2BffqYRx55xC9gNZb9IBBwiTAAhYWFaeHChbrkkkt8bSUlJYqKilJRUZE6duyokJAQX19sbKzvNHhRUZFiY2P9xouNjVVBQYGOHTumnTt3%2BvU3b95cv/jFL1RQUKDt27crJCTE71Jc586ddfToUe3evbuupntGL7zwgpo0aaKhQ4f62k43x9OtQXBwsK666ioVFBToyy%2B/1KFDh9S5c2df/y9/%2BUtddNFFKioqUlFRkdq0aaOWLVv6%2Bjt37qw9e/bo8OHDdTXNU/rmm2%2B0d%2B9eHTx4UDfddJPvksaBAwdcsQbR0dG66qqrlJOToyNHjmj//v3avHmz%2Bvfv32jnP3bsWLVo0eKUfXV5bJ/P84ptZ1qD6667Tunp6b7vKysrVVZWpujo6FPWafP3frZ9zqYzrYEkGWM0f/58TZs2TWFhYb72xrQfBAICViNQUFCgNWvWaNKkSfJ6vX4HlCSFh4fL6/WqurpaXq/X7wlCklq2bCmPx6ODBw/KGHPafq/Xq%2BbNmysoKMivT5Lf%2BxTqy7fffqtly5bpoYce8ms/3Rp8X%2BOZ1sDr9UpSjceHhYX5%2Bn/c59Qa7Nu3T5L02muv6emnn9batWu1b98%2BzZ071xVrEBwcrGXLlunNN99Uz549lZSUpMrKSk2fPt0V8/%2Bxujy2z%2Bd5xUmLFy9W06ZNddNNN0mq29/72fa5%2BpSTk6OgoCCNGDHCr92t%2B4FTCFgB7qOPPtLdd9%2Bt6dOnKykp6bTb/fCAMcacccwz9Z/tsfVp4cKFGjFihNq3b3/Oj20Ma/B9HePHj1d0dLRat26tKVOmaMuWLef0%2BJ/S3xDW4MSJE5o4caIGDx6sDz/8UG%2B//bZatGihGTNm1OrxgT7/U6nvOZ3L80p9MsYoKytLGzZs0PLly9WkSRO/vrM99qf0NRT79%2B/X0qVLNX/%2BfL/fzw%2B5ZT9wGgErgG3ZskUTJkzQ7NmzNXbsWElSZGRkjVcLXq9X4eHhCg4OVkREhO%2BV2g/7IyMjfducqr9Vq1aKjIzU4cOHVVVV5dcnSa1ataqLKZ5Wfn6%2Btm7d6nc54HunmqPH41FkZORp%2B79fg%2B%2B3%2BXH/wYMHfWtwqscGBQX5Hltfvr9E/MNXlG3atJExRidPnmz0a5Cfn6%2B9e/fqvvvuU4sWLRQdHa2MjAy9/vrrp9yPG9v8f6wuj%2B3zeV6pb9XV1Zo1a5a2bNmi559/XldccYWvry5/72d73qkvixYt0vDhw/0u833PTftBQ0DAClAff/yxZs6cqaVLl2r48OG%2B9ri4OO3YsUOVlZW%2BtoKCAnXr1s3X/%2BP3BHzf36RJE1155ZUqKiry9ZWXl%2BvLL79U165dddVVV8kYo08//dTvsWFhYWrXrl1dTfWU1q1bp/3792vAgAFKTEz0nQpPTExUhw4dasyxsLDQbw1%2BOMeqqipt27ZN3bp1U9u2bdWyZUu//s8%2B%2B0wnTpxQXFyc4uLiVFJS4rsVgPTdGrRv317NmjWryynX0Lp1azVv3lzbt2/3tRUXF%2BuCCy5Qv379Gv0aVFVVqbq62u8V84kTJyRJSUlJjX7%2BP1aXx/b5PK/Ut8zMTH3%2B%2Bed6/vnn1bZtW7%2B%2Buvy9d%2BnS5Yz7XH1Zt26dXnrpJSUmJioxMVFPPfWUXnnlFSUmJrpqP2gQ6vxt9LDu5MmT5sYbbzQvvPBCjb7jx4%2BbAQMGmMcff9wcPXrUfPLJJ6ZXr17mL3/5izHGmB07dpguXbqYv/zlL%2BbYsWMmNzfX9OjRw5SWlhpjvvtUTP/%2B/X0f4Z03b54ZOXKkb/ypU6ea8ePHm/3795uSkhIzcuRIs2jRonqZ9w95vV5TUlLi%2B7d161bToUMHU1JSYoqLi02PHj3Miy%2B%2BaI4dO2beeust07VrV98nY/Ly8kx8fLzZunWrOXr0qFm2bJnp16%2BfqaioMMZ896mYW2%2B91Xz99dfmwIEDJi0tzUyZMsX3s0eNGmVmz55tDh06ZHbu3GmSk5PNmjVr6n0NjDEmMzPTXH/99eaLL74w3377rUlNTTWzZs0y3377baNfgwMHDpjevXubRx991Bw9etQcOHDATJw40fznf/5no5//qT49VpfH9vk%2Br9TXGnz44YcmISHB7xPWP1SXv/ez7XN14VRr8MPnxZKSEpOZmWkyMjJ8t0pobPtBQ0bACkAffPCB6dChg4mLi6vxb%2B/evWbHjh1mzJgxJi4uzvTv398899xzfo/ftGmTGThwoOncubO55ZZbzN///ndfX3V1tVm6dKm55pprTNeuXc0999zjdw%2BT8vJyM23aNNO9e3eTkJBgFixYYI4fP15vcz%2Bdr776ynebBmOM%2Bfvf/26GDRtmOnfubAYOHFjjVgbPPfec6devn4mLizO33Xab2bFjh6/v%2BPHjZv78%2BSYhIcH06NHD3Hfffaa8vNzXX1JSYsaPH2%2B6du1qkpKSzOOPP%2B67h0x9%2B2Gt3bt3NzNnzjSHDx82xrhjDQoKCsztt99uevXqZZKSkszUqVPNvn37jDGNc/7fH%2BedOnUynTp18n3/vbo8ts/neaW%2B1uDBBx/0a/v%2B35133ul7fF3%2B3s%2B2z9XHGvzY448/7nebhsayHwSCIGN4RxoAAIBNvAcLAADAMgIWAACAZQQsAAAAywhYAAAAlhGwAAAALCNgAQAAWEbAAgAAsIyABQAAYBkBCwAAwDICFgAAgGUELAAAAMsIWAAAAJYRsAAAACz7f6Dc0wA3jqmvAAAAAElFTkSuQmCC\"/>\n",
              "        </div>\n",
              "        <div role=\"tabpanel\" class=\"tab-pane col-md-12\" id=\"common3162173206927336917\">\n",
              "            \n",
              "<table class=\"freq table table-hover\">\n",
              "    <thead>\n",
              "    <tr>\n",
              "        <td class=\"fillremaining\">Value</td>\n",
              "        <td class=\"number\">Count</td>\n",
              "        <td class=\"number\">Frequency (%)</td>\n",
              "        <td style=\"min-width:200px\">&nbsp;</td>\n",
              "    </tr>\n",
              "    </thead>\n",
              "    <tr class=\"\">\n",
              "        <td class=\"fillremaining\">72000</td>\n",
              "        <td class=\"number\">12</td>\n",
              "        <td class=\"number\">3.0%</td>\n",
              "        <td>\n",
              "            <div class=\"bar\" style=\"width:4%\">&nbsp;</div>\n",
              "        </td>\n",
              "</tr><tr class=\"\">\n",
              "        <td class=\"fillremaining\">80000</td>\n",
              "        <td class=\"number\">11</td>\n",
              "        <td class=\"number\">2.8%</td>\n",
              "        <td>\n",
              "            <div class=\"bar\" style=\"width:4%\">&nbsp;</div>\n",
              "        </td>\n",
              "</tr><tr class=\"\">\n",
              "        <td class=\"fillremaining\">79000</td>\n",
              "        <td class=\"number\">10</td>\n",
              "        <td class=\"number\">2.5%</td>\n",
              "        <td>\n",
              "            <div class=\"bar\" style=\"width:4%\">&nbsp;</div>\n",
              "        </td>\n",
              "</tr><tr class=\"\">\n",
              "        <td class=\"fillremaining\">71000</td>\n",
              "        <td class=\"number\">9</td>\n",
              "        <td class=\"number\">2.2%</td>\n",
              "        <td>\n",
              "            <div class=\"bar\" style=\"width:3%\">&nbsp;</div>\n",
              "        </td>\n",
              "</tr><tr class=\"\">\n",
              "        <td class=\"fillremaining\">75000</td>\n",
              "        <td class=\"number\">9</td>\n",
              "        <td class=\"number\">2.2%</td>\n",
              "        <td>\n",
              "            <div class=\"bar\" style=\"width:3%\">&nbsp;</div>\n",
              "        </td>\n",
              "</tr><tr class=\"\">\n",
              "        <td class=\"fillremaining\">59000</td>\n",
              "        <td class=\"number\">8</td>\n",
              "        <td class=\"number\">2.0%</td>\n",
              "        <td>\n",
              "            <div class=\"bar\" style=\"width:3%\">&nbsp;</div>\n",
              "        </td>\n",
              "</tr><tr class=\"\">\n",
              "        <td class=\"fillremaining\">74000</td>\n",
              "        <td class=\"number\">7</td>\n",
              "        <td class=\"number\">1.8%</td>\n",
              "        <td>\n",
              "            <div class=\"bar\" style=\"width:3%\">&nbsp;</div>\n",
              "        </td>\n",
              "</tr><tr class=\"\">\n",
              "        <td class=\"fillremaining\">55000</td>\n",
              "        <td class=\"number\">7</td>\n",
              "        <td class=\"number\">1.8%</td>\n",
              "        <td>\n",
              "            <div class=\"bar\" style=\"width:3%\">&nbsp;</div>\n",
              "        </td>\n",
              "</tr><tr class=\"\">\n",
              "        <td class=\"fillremaining\">88000</td>\n",
              "        <td class=\"number\">7</td>\n",
              "        <td class=\"number\">1.8%</td>\n",
              "        <td>\n",
              "            <div class=\"bar\" style=\"width:3%\">&nbsp;</div>\n",
              "        </td>\n",
              "</tr><tr class=\"\">\n",
              "        <td class=\"fillremaining\">43000</td>\n",
              "        <td class=\"number\">7</td>\n",
              "        <td class=\"number\">1.8%</td>\n",
              "        <td>\n",
              "            <div class=\"bar\" style=\"width:3%\">&nbsp;</div>\n",
              "        </td>\n",
              "</tr><tr class=\"other\">\n",
              "        <td class=\"fillremaining\">Other values (107)</td>\n",
              "        <td class=\"number\">313</td>\n",
              "        <td class=\"number\">78.2%</td>\n",
              "        <td>\n",
              "            <div class=\"bar\" style=\"width:100%\">&nbsp;</div>\n",
              "        </td>\n",
              "</tr>\n",
              "</table>\n",
              "        </div>\n",
              "        <div role=\"tabpanel\" class=\"tab-pane col-md-12\"  id=\"extreme3162173206927336917\">\n",
              "            <p class=\"h4\">Minimum 5 values</p>\n",
              "            \n",
              "<table class=\"freq table table-hover\">\n",
              "    <thead>\n",
              "    <tr>\n",
              "        <td class=\"fillremaining\">Value</td>\n",
              "        <td class=\"number\">Count</td>\n",
              "        <td class=\"number\">Frequency (%)</td>\n",
              "        <td style=\"min-width:200px\">&nbsp;</td>\n",
              "    </tr>\n",
              "    </thead>\n",
              "    <tr class=\"\">\n",
              "        <td class=\"fillremaining\">15000</td>\n",
              "        <td class=\"number\">4</td>\n",
              "        <td class=\"number\">1.0%</td>\n",
              "        <td>\n",
              "            <div class=\"bar\" style=\"width:100%\">&nbsp;</div>\n",
              "        </td>\n",
              "</tr><tr class=\"\">\n",
              "        <td class=\"fillremaining\">16000</td>\n",
              "        <td class=\"number\">2</td>\n",
              "        <td class=\"number\">0.5%</td>\n",
              "        <td>\n",
              "            <div class=\"bar\" style=\"width:50%\">&nbsp;</div>\n",
              "        </td>\n",
              "</tr><tr class=\"\">\n",
              "        <td class=\"fillremaining\">17000</td>\n",
              "        <td class=\"number\">3</td>\n",
              "        <td class=\"number\">0.8%</td>\n",
              "        <td>\n",
              "            <div class=\"bar\" style=\"width:75%\">&nbsp;</div>\n",
              "        </td>\n",
              "</tr><tr class=\"\">\n",
              "        <td class=\"fillremaining\">18000</td>\n",
              "        <td class=\"number\">4</td>\n",
              "        <td class=\"number\">1.0%</td>\n",
              "        <td>\n",
              "            <div class=\"bar\" style=\"width:100%\">&nbsp;</div>\n",
              "        </td>\n",
              "</tr><tr class=\"\">\n",
              "        <td class=\"fillremaining\">19000</td>\n",
              "        <td class=\"number\">2</td>\n",
              "        <td class=\"number\">0.5%</td>\n",
              "        <td>\n",
              "            <div class=\"bar\" style=\"width:50%\">&nbsp;</div>\n",
              "        </td>\n",
              "</tr>\n",
              "</table>\n",
              "            <p class=\"h4\">Maximum 5 values</p>\n",
              "            \n",
              "<table class=\"freq table table-hover\">\n",
              "    <thead>\n",
              "    <tr>\n",
              "        <td class=\"fillremaining\">Value</td>\n",
              "        <td class=\"number\">Count</td>\n",
              "        <td class=\"number\">Frequency (%)</td>\n",
              "        <td style=\"min-width:200px\">&nbsp;</td>\n",
              "    </tr>\n",
              "    </thead>\n",
              "    <tr class=\"\">\n",
              "        <td class=\"fillremaining\">146000</td>\n",
              "        <td class=\"number\">2</td>\n",
              "        <td class=\"number\">0.5%</td>\n",
              "        <td>\n",
              "            <div class=\"bar\" style=\"width:100%\">&nbsp;</div>\n",
              "        </td>\n",
              "</tr><tr class=\"\">\n",
              "        <td class=\"fillremaining\">147000</td>\n",
              "        <td class=\"number\">1</td>\n",
              "        <td class=\"number\">0.2%</td>\n",
              "        <td>\n",
              "            <div class=\"bar\" style=\"width:50%\">&nbsp;</div>\n",
              "        </td>\n",
              "</tr><tr class=\"\">\n",
              "        <td class=\"fillremaining\">148000</td>\n",
              "        <td class=\"number\">1</td>\n",
              "        <td class=\"number\">0.2%</td>\n",
              "        <td>\n",
              "            <div class=\"bar\" style=\"width:50%\">&nbsp;</div>\n",
              "        </td>\n",
              "</tr><tr class=\"\">\n",
              "        <td class=\"fillremaining\">149000</td>\n",
              "        <td class=\"number\">2</td>\n",
              "        <td class=\"number\">0.5%</td>\n",
              "        <td>\n",
              "            <div class=\"bar\" style=\"width:100%\">&nbsp;</div>\n",
              "        </td>\n",
              "</tr><tr class=\"\">\n",
              "        <td class=\"fillremaining\">150000</td>\n",
              "        <td class=\"number\">2</td>\n",
              "        <td class=\"number\">0.5%</td>\n",
              "        <td>\n",
              "            <div class=\"bar\" style=\"width:100%\">&nbsp;</div>\n",
              "        </td>\n",
              "</tr>\n",
              "</table>\n",
              "        </div>\n",
              "    </div>\n",
              "</div>\n",
              "</div><div class=\"row variablerow\">\n",
              "    <div class=\"col-md-3 namecol\">\n",
              "        <p class=\"h4 pp-anchor\" id=\"pp_var_Purchased\">Purchased<br/>\n",
              "            <small>Boolean</small>\n",
              "        </p>\n",
              "    </div><div class=\"col-md-6\">\n",
              "    <div class=\"row\">\n",
              "        <div class=\"col-sm-6\">\n",
              "            <table class=\"stats \">\n",
              "                <tr class=\"\">\n",
              "                    <th>Distinct count</th>\n",
              "                    <td>2</td>\n",
              "                </tr>\n",
              "                <tr>\n",
              "                    <th>Unique (%)</th>\n",
              "                    <td>0.5%</td>\n",
              "                </tr>\n",
              "                <tr class=\"ignore\">\n",
              "                    <th>Missing (%)</th>\n",
              "                    <td>0.0%</td>\n",
              "                </tr>\n",
              "                <tr class=\"ignore\">\n",
              "                    <th>Missing (n)</th>\n",
              "                    <td>0</td>\n",
              "                </tr>\n",
              "            </table>\n",
              "        </div>\n",
              "        <div class=\"col-sm-6\">\n",
              "            <table class=\"stats \">\n",
              "                <tr>\n",
              "                    <th>Mean</th>\n",
              "                    <td>0.3575</td>\n",
              "                </tr>\n",
              "            </table>\n",
              "        </div>\n",
              "    </div>\n",
              "</div>\n",
              "<div class=\"col-md-3 collapse in\" id=\"minifreqtable2645444785870593470\">\n",
              "    <table class=\"mini freq\">\n",
              "        <tr class=\"\">\n",
              "    <th>0</th>\n",
              "    <td>\n",
              "        <div class=\"bar\" style=\"width:100%\" data-toggle=\"tooltip\" data-placement=\"right\" data-html=\"true\"\n",
              "             data-delay=500 title=\"Percentage: 64.2%\">\n",
              "            257\n",
              "        </div>\n",
              "        \n",
              "    </td>\n",
              "</tr><tr class=\"\">\n",
              "    <th>1</th>\n",
              "    <td>\n",
              "        <div class=\"bar\" style=\"width:56%\" data-toggle=\"tooltip\" data-placement=\"right\" data-html=\"true\"\n",
              "             data-delay=500 title=\"Percentage: 35.8%\">\n",
              "            143\n",
              "        </div>\n",
              "        \n",
              "    </td>\n",
              "</tr>\n",
              "    </table>\n",
              "</div>\n",
              "<div class=\"col-md-12 text-right\">\n",
              "    <a role=\"button\" data-toggle=\"collapse\" data-target=\"#freqtable2645444785870593470, #minifreqtable2645444785870593470\"\n",
              "        aria-expanded=\"true\" aria-controls=\"collapseExample\">\n",
              "        Toggle details\n",
              "    </a>\n",
              "</div>\n",
              "<div class=\"col-md-12 extrapadding collapse\" id=\"freqtable2645444785870593470\">\n",
              "    \n",
              "<table class=\"freq table table-hover\">\n",
              "    <thead>\n",
              "    <tr>\n",
              "        <td class=\"fillremaining\">Value</td>\n",
              "        <td class=\"number\">Count</td>\n",
              "        <td class=\"number\">Frequency (%)</td>\n",
              "        <td style=\"min-width:200px\">&nbsp;</td>\n",
              "    </tr>\n",
              "    </thead>\n",
              "    <tr class=\"\">\n",
              "        <td class=\"fillremaining\">0</td>\n",
              "        <td class=\"number\">257</td>\n",
              "        <td class=\"number\">64.2%</td>\n",
              "        <td>\n",
              "            <div class=\"bar\" style=\"width:100%\">&nbsp;</div>\n",
              "        </td>\n",
              "</tr><tr class=\"\">\n",
              "        <td class=\"fillremaining\">1</td>\n",
              "        <td class=\"number\">143</td>\n",
              "        <td class=\"number\">35.8%</td>\n",
              "        <td>\n",
              "            <div class=\"bar\" style=\"width:56%\">&nbsp;</div>\n",
              "        </td>\n",
              "</tr>\n",
              "</table>\n",
              "</div>\n",
              "</div>\n",
              "    <div class=\"row headerrow highlight\">\n",
              "        <h1>Correlations</h1>\n",
              "    </div>\n",
              "    <div class=\"row variablerow\">\n",
              "    <img src=\"data:image/png;base64,iVBORw0KGgoAAAANSUhEUgAAApUAAAJKCAYAAAB9Ob5dAAAABHNCSVQICAgIfAhkiAAAAAlwSFlzAAAPYQAAD2EBqD%2BnaQAAADh0RVh0U29mdHdhcmUAbWF0cGxvdGxpYiB2ZXJzaW9uMy4yLjIsIGh0dHA6Ly9tYXRwbG90bGliLm9yZy%2BWH4yJAAAgAElEQVR4nOzdeViVdf7/8Reg4CCLooAbimnghqaFe6mgaS5DWea%2BZVm5E06p5TcpramRLJearBHlN2aUNubWlFhmltU4uRxJNBF3AgyOCsrq/fvD8eRRVPTGzlGfj%2Bs6F/i5l/M%2Bn7zi7etz3zcuhmEYAgAAAExwdXQBAAAAuPnRVAIAAMA0mkoAAACYRlMJAAAA02gqAQAAYBpNJQAAAEyjqQQAAIBpNJUAAAAwjaYSAAAAptFUAgAAwLQKji4AAC4UGhp62W0VK1ZUlSpV1KxZMz344IPq3r27XFxc/sDqAACX48Lv/gbgTM43lc2bN5e/v7/dtoKCAu3fv1/Hjh2TJHXp0kVz586Vu7v7H14nAMAeTSUAp3K%2BqVywYIG6du1a6j5JSUn6y1/%2BotOnT%2Buxxx7Tc88990eWCAAoBddUArjpdO3aVTExMZKkZcuWqaCgwMEVAQC4phLATen%2B%2B%2B/Xyy%2B/rDNnzujnn39Wy5Yt7bZv2bJFS5cu1fbt22W1WuXl5aVGjRrp4YcfVp8%2BfUo9p9VqVXx8vL7%2B%2BmsdPHhQhYWF8vX1VfPmzTVy5Ei1adPmkmMiIiJ09OhRvffeeyooKNCcOXN0%2BPBhLV68WHfffbckae/evVq0aJG2bt2qjIwMVahQQQEBAWrdurWGDBlS6nWkp06d0pIlS7RhwwYdPHhQRUVFql69ulq1aqURI0YoLCzMbv8jR44oMjJSkrRz506lpqbqnXfe0bZt22S1WhUQEKDIyEhFR0fL09PzuuYcAK6EpBLATalKlSq270%2BePGm3bc6cORoxYoTWr18vLy8vtWnTRn5%2BftqyZYsmT56sSZMmqaSkxO6YrKws9e3bV3//%2B9%2B1f/9%2BNWnSRG3btpW7u7u%2B%2BuorDR8%2BXCtWrLhsPfv371d0dLQqVqyotm3bqlKlSpKkH3/8UQ8//LD%2B9a9/qaCgQHfffbdatmyp3NxcffTRR3r00Ue1ZcsWu3MdPXpUDz30kObNm6d9%2B/apUaNGatu2rQzD0Jo1a/Too49q%2BfLll63lp59%2B0qBBg5ScnKxGjRqpfv36Onr0qBISEjR%2B/PgyzzEAXBMDAJxISEiIERISYqxfv/6K%2B6Wmptr23blzp238iy%2B%2BMEJCQozw8HDjhx9%2BsDvmxx9/NNq3b2%2BEhIQY8fHxdttmzpxphISEGN27dzeOHz9uGy8uLjZmzZplhISEGHfffbeRm5trd1yXLl2MkJAQIyIiwnjnnXcuqbNfv35GSEiI8de//tUoKSmxO%2B%2BcOXOMkJAQo3fv3nbHDBo0yAgJCTH69u1rZGRk2MZLSkqMefPmGSEhIUazZs2M/fv327YdPnzYNh%2BdO3c2Fi5caJw9e9a2/V//%2Bpdt%2B%2B7du680tQBwXUgqAdyUvvjiC0mSr6%2BvGjdubBt/5513JEnPPfecWrdubXdMeHi4nn32WUnSkiVL7LYFBASoV69eGjdunKpVq2Ybd3NzU3R0tFxdXXXq1Clt37691HrOnj2r0aNHXzK%2Be/duSVLfvn3l6vr7/3Ld3Nw0YcIETZgwQUOHDlVhYaEkaceOHdq6dask6fXXX1dAQIDtGFdXV40bN05NmzZVYWGhPvzww1JrufPOO/XEE0/YPW4pKipKfn5%2BtvcAgPLGNZUAbjpff/213n33XUnS448/rgoVzv2vLCMjQ8nJyZKkbt26lXps165d5eLiomPHjiktLU3169eXJD3xxBOXfb8//elPqlatmrKyspSVlVXqPm3btrVrGs/z8fHR8ePHtW7dOk2cONFum6urq8aOHWs39s0330g6dxd8gwYNLvsZkpOTL1k2P6%2B0a0ZdXFwUFBSk7Oxs5eTklHocAJhBUwnAKb377rv65JNP7MYKCwt14MABHT58WNK59O/xxx%2B3bd%2B7d6/t%2BylTplz23BUqVFBRUZEOHDhgayrPn//rr7/Wrl27lJmZqZMnT8r431PXTp06JelcIlmawMDAUseHDx%2BuuLg4vf322/rmm2/Uu3dvtWvX7rIPed%2B3b5%2Bkc2nj5dxxxx2Szl3HWZq6deuWOu7h4SFJKioquuy5AeB60VQCcEo7d%2B68ZMzNzU1Vq1ZVZGSk%2Bvfvr06dOtltP3HihO37DRs2XPU9zjeKkpSSkqKxY8fqyJEj11Wvr69vqePnl8TfffddWSwWWSwWSZK/v7969Oih4cOHKygo6JKafHx8Lvte3t7eks41h/n5%2Bbabgs7jYfAAHIGmEoBTutLDzy/n/DWEFStWlMViKfOvcMzPz9fTTz%2BtY8eOKTg4WGPGjFG7du1UtWpVVaxYUdLvjw662nuXZvTo0RowYICSkpL09ddf67vvvlNWVpb%2B3//7f0pMTNTrr7%2BuBx54oMyf07jgd1aUtuQOAI5AUwnglnH%2BMUNFRUXKycmx3ZhyNZs2bdKxY8fk4uKihQsXql69epfsk5%2Bfb6o2Hx8f9e3bV3379lVJSYm%2B%2B%2B47LViwQNu2bdPzzz%2Bvtm3bqmrVqrbE8%2BLHJF3o/LZKlSqRSgJwGvwTF8AtIyQkxPb9L7/8UubjDhw4IOnctYilNZSHDh3Sb7/9Zrq%2B89zc3HTvvfcqISFBgYGBysvLsy33n7%2BW8sLrQy92ftuVrrsEgD8aTSWAW4a/v7%2BaNm0qSfroo49K3SctLU1RUVG2Rw9Jv1%2BjeLlf97hgwQLb9xc/NP1KduzYoWnTpmnRokWlbnd3d1f16tUl/Z6Enr9OdO/evaU2lmfPnrU9Tunee%2B8tcy0AcKPRVAK4pTz11FOSpDVr1mjx4sV21x8ePHhQEyZMUEpKitLT023jjRo1kiT9%2BuuvSkpKso2fOXNGM2fOlMVisf0ayMvdcV0aNzc3rVixQnPnztXGjRsv2b5%2B/Xrt3r1bFStWVKtWrSRJTZo0UceOHSVJ06ZNU3Z2tm3/4uJi/e1vf1Nqaqq8vb01YMCAMtcCADca11QCuKXcf//9Gj16tBYuXKhXX31VCQkJuuOOO5STk6Pdu3erpKRETZo00eTJk23HtGzZUh07dtTmzZs1fvx4tWjRQh4eHtq1a5cqVKig%2BPh4rV27Vtu2bVNCQoL27Nmjp59%2BWuHh4VespVmzZnrssce0aNEiPfnkk6pdu7bq1asnV1dXHTlyxLbs/vzzz8vf39923CuvvKLhw4fLYrEoIiJCISEh8vDw0C%2B//KKcnBxVqlRJcXFxl32MEQA4Ak0lgFtOTEyM2rdvr3/%2B85/avn27tmzZIg8PDzVr1kw9e/bUoEGDLrnB5c0339Ts2bO1YcMG7dq1SwEBAerevbueeuop1a1bVzVq1NDPP/%2Bsn376Sb/88kuZ7yx/7rnnFB4erpUrV2rXrl3atm2biouL5e/vr969e2vIkCG2FPS8wMBALV%2B%2BXIsXL9b69ev1yy%2B/qLi4WIGBgbr//vs1atSoUq/9BABHcjEuXBsCAAAArgPXVAIAAMA0mkoAAACYRlMJAAAA02gqAQAAnNQ333yj9u3bKzo6%2Bor7nT17VnPmzFFkZKTCw8M1atQoHT582LbdarVq0qRJat%2B%2BvTp27Kjnn3/e9G8KuxhNJQAAgBN67733NHPmzDI97WHp0qVavXq1Fi5cqK%2B%2B%2BkrBwcEaO3as7Vm906dP15kzZ7RmzRqtWLFCqampmj17drnWS1MJAABwg2RmZio5OdnulZmZWaZjPTw8tHz58jI1lYmJiRoxYoQaNGggLy8vRUdHKzU1VTt27NDx48eVlJSk6Oho%2Bfn5KTAwUGPGjNGKFStUVFRk9iPa8JzK21UZn7F326lfX/rlF%2BnOO6W0NEdX41xSUhxdgXOqWPHc35u0NKkc/%2Bd8S/jrXx1dgXPy9z83N1OmSFlZjq7G%2BcTHO%2B69b8DPxsS5czV//ny7sXHjxmn8%2BPFXPXbYsGFleo/8/Hzt27dPTZo0sY15eXmpXr16slgsOnXqlNzc3BQaGmrb3rRpU50%2BfVr79%2B%2B3GzeDphK4UJUqkpvbua9AWbi6nvtB5MrCD8rI0/Pc3xdPT0dXgj9A//79FRERYTd24W/QKg8nTpyQYRjy9fW1G/f19VVOTo6qVKkiLy8vu1/acH7fnJyccquDphIAAOAGCQgIUEBAwB/yXlf6fTZ/xO%2B6oakEAACQbtoVhypVqsjV1VVWq9Vu3Gq1qlq1avLz81Nubq5KSkrk5uZm2yZJ1apVK7c6bs7ZAwAAKG%2BuruX/%2BgN4eHjozjvvVHJysm3s5MmTOnTokJo3b67GjRvLMAylXHBtvMVikY%2BPj%2BrXr19uddBUAgAA3GQyMjLUo0cP27MoBw4cqISEBKWmpio3N1ezZ89W48aNFRYWJj8/P3Xv3l1vvvmmsrOz9euvv2rBggV65JFHVKFC%2BS1as/wNAAAgOd3yd1hYmCSpuLhYkpSUlCTpXMpYVFSktLQ0FRYWSpIGDBigrKwsDR06VHl5eWrTpo3dXecvvfSSXnzxRUVGRqpixYrq3bv3VR%2Bofq1oKgEAAJyQxWK57LY6depoz549tj%2B7uLhowoQJmjBhQqn7e3t764033ij3Gi9EUwkAACA5XVJ5s6GpBAAAkGgqTWL2AAAAYBpJJQAAgERSaRJNJQAAgERTaRKzBwAAANNIKgEAACSSSpOYPQAAAJhGUgkAACCRVJpEUwkAACDRVJrE7AEAAMA0kkoAAACJpNIkZg8AAACmkVQCAABIJJUm0VQCAABINJUmMXsAAAAwjaQSAABAIqk0idkDAACAaSSVAAAAEkmlSTSVAAAAEk2lScweAAAATCOpBAAAkEgqTWL2AAAAYBpJJQAAgERSaRJNJQAAgERTaRKzBwAAANNIKgEAACSSSpOYPQAAAJhGUgkAACCRVJpEUwkAACDRVJrE7AEAAMA0kkoAAACJpNIkZg8AAACmkVQCAABIJJUm0VQCAABINJUmMXsAAAAwjaQSAABAIqk0idkDAACAaSSVAAAAEkmlSTSVAAAAEk2lScweAAAATCOpBAAAkEgqTaKpBAAAcFJHjx5VbGysduzYIU9PT/Xs2VMxMTFyvagBfuyxx/Sf//zHbqy4uFhjx47VuHHjNHToUP300092x9WvX1%2BrVq0qt1ppKgEAACSnTCrHjx%2Bvpk2bKikpSb/99puefPJJVa9eXSNHjrTbb9GiRXZ/PnnypHr27Klu3brZxl5%2B%2BWX17dv3htVKUwkAACDdkKYyMzNTWVlZdmP%2B/v4KCAi46rEWi0UpKSmKj4%2BXt7e3vL29NWLECC1ZsuSSpvJib775prp166bQ0FBT9V8LmkoAAIAbJDExUfPnz7cbGzdunMaPH3/VY5OTk1W7dm35%2Bvraxpo2baq0tDTl5ubKy8ur1OMOHjyolStXKikpyW583bp1ev/995Wenq4WLVropZdeUt26da/jU5WOphIAAEC6IUll//79FRERYTfm7%2B9fpmOtVqt8fHzsxs43mDk5OZdtKhcuXKiHH35Yfn5%2BtrEGDRroT3/6k2bPnq2zZ89q5syZevzxx7VmzRq5u7tfy0e6LJpKAACAGyQgIKBMS92XYxjGNe1vtVr16aef6rPPPrMbnzFjht2fX3rpJbVp00b//e9/1a5du%2Buu70I0lQAAAJLT3ajj5%2Bcnq9VqN2a1WuXi4mKXQl5ow4YNql%2B/voKCgq54bi8vL/n6%2BiojI6Pc6nWu2QMAAHAUV9fyf5nQrFkzpaenKzs72zZmsVjUsGFDVa5cudRjNmzYoA4dOtiN5ebmasaMGXYNZHZ2trKzs6/afF4LmkoAAAAn1KRJE4WFhSkuLk65ublKTU1VfHy8Bg4cKEnq0aOHtm7danfM7t27VadOHbsxLy8v7dixQzNnzpTVatWJEycUGxur0NBQtWzZstzqpakEAACQnC6plKS5c%2BcqMzNTHTp00LBhw/Tggw9q0KBBkqS0tDSdPn3abv%2BsrCxVr179kvMsWLBAhmGoe/fu6ty5s4qKirRw4cJLHqJuBtdUAgAASE53TaUk1ahRQ%2B%2B9916p2/bs2XPJ2K5du0rdt1atWpc82qi8Od/sAQAA4KZDUgkAACA5ZVJ5M2H2AAAAYBpJJQAAgERSaRJNJQAAgERTaRKzBwAAANNoKv8gmzdvVmhoqGJjYx1dCgAAKI0TPqfyZnJ7fVoH%2Bvjjj9WrVy%2BtXbtWBQUFji4HAACgXNFU/gFycnL05ZdfasKECapatarWr19v25adna3hw4erefPmioqK0tdff63Q0FAdOXJEknT06FE99dRTatOmjcLDw/Xss88qNzfXUR8FAIBbF0mlKdyo8wf49NNP1bhxYwUHB6tPnz5avny5evfuLUl6/vnnVVRUpE2bNiknJ0cxMTG24wzD0JgxY9SqVSvNmTNHp0%2Bf1jPPPKPXXntNL7/8cpnfPzMzU1lZWXZj/vXrK6BKlfL5gLeSRo3sv%2BJ3Hh6OrsA5ubvbf8Xv6tVzdAXOqWZN%2B69wHrdZE1jeXAzDMBxdxK2ud%2B/eGjhwoAYPHqzDhw/r/vvv1/r161WrVi01b95cb775prp27SpJSkxM1P/93/9pw4YNys7O1oABA7R161Z5enpKkrZu3apRo0Zp%2B/btcnFxKdP7z5s375JfzTRuzBiNnzixfD8oAAA3s379yv%2BcH39c/ud0UiSVN9j27dt14MABPfDAA5KkoKAg3XXXXfrkk080ZMgQFRUVqXbt2rb9w8LCbN8fPnxYJSUlatOmjd05S0pKlJOTIz8/vzLV0L9/f0VERNiN%2BffpIy1Zcr0f69bVqJH0wQfSoEFSSoqjq3Eun3zi6Aqck7u7VKuWdOyYVFjo6Gqcy%2BLFjq7AOdWsKT35pPTuu1J6uqOrcT4zZjjuvUkqTaGpvME%2B/vhjFRcXKzIy0jZWVFSkjIwMDR48WJJUocLv/xlcL/gL7eHhIU9PT23bts1UDQEBAQoICLAfTEszdc5bXkqKZHLebzncYHZlhYXM0cUOHnR0Bc4tPZ05wi2FpvIGysvL07p16xQbG6u2bdvaxs%2BcOaNHHnlEP//8s9zc3HTs2DHdeeedkiSLxWLbr27dujp9%2BrQOHz6soKAgSVJubq6KiopUtWrVP/bDAABwqyOpNIWm8gZat26dPDw89NBDD8n9oov4IyIi9Mknn%2Biee%2B5RfHy8WrVqpePHj%2BvjC669CAkJUcuWLTVr1iy98sorqlChgmJjY3Xy5Em99957f/THAQDg1kZTaQqzdwOtWLFCffr0uaShlKSHH35YSUlJevbZZ3Xy5El16NBBU6dO1ZNPPinp92XwuLg4GYahyMhIdevWTSUlJfrrX//6h34OAACAqyGpvIE%2B/PDDy27r1KmTban7ww8/tDWe33//vVxdXVW9enVJUu3atfXuu%2B/e%2BGIBALjdkVSawuw52LRp0/TEE0/o5MmTOnXqlOLj49W%2BfftS000AAABnRVPpYH/5y1/k6%2Burrl27qmvXrnJzc9OsWbMcXRYAALcffqOOKSx/O1jVqlU1d%2B5cR5cBAABusyawvDF7AAAAMI2kEgAAQCKpNInZAwAAgGkklQAAABJJpUk0lQAAABJNpUnMHgAAAEwjqQQAAJBIKk1i9gAAAGAaSSUAAIBEUmkSTSUAAIBEU2kSswcAAADTSCoBAAAkkkqTmD0AAACYRlIJAAAgkVSaRFMJAAAg0VSaxOwBAADANJJKAAAAiaTSJGYPAAAAppFUAgAASCSVJtFUAgAASDSVJjF7AAAAMI2kEgAAQCKpNImmEgAAQHLKpvLo0aOKjY3Vjh075OnpqZ49eyomJkauF9U6b948vf3226pQwb61%2B%2Bqrr1S9enUVFBRo1qxZ2rhxowoKCtSmTRvFxsaqatWq5Var880eAAAAJEnjx49XYGCgkpKSFB8fr6SkJC1ZsqTUfaOiomSxWOxe1atXlyTNmTNHycnJSkxM1Oeffy7DMDR16tRyrZWkEgAAQLohSWVmZqaysrLsxvz9/RUQEHDVYy0Wi1JSUhQfHy9vb295e3trxIgRWrJkiUaOHFnmGoqLi7V8%2BXK99tprqlmzpiRp0qRJ6tWrlzIyMhQYGHhtH%2BoySCoBAABukMTERPXt29fulZiYWKZjk5OTVbt2bfn6%2BtrGmjZtqrS0NOXm5l6y/549ezRgwAC1atVKvXr10ubNmyVJhw4d0qlTp9S0aVPbvg0aNFClSpWUnJxs8hP%2BjqQSAABAuiFJZf/%2B/RUREWE35u/vX6ZjrVarfHx87MbON5g5OTny8vKyjdeoUUNBQUGKiYlRQECAEhMT9dRTT2nVqlWyWq2SdMm5fHx8lJOTc82f6XJoKgEAAKQb0lQGBASUaan7cgzDKNN%2B/fr1U79%2B/Wx/HjFihNauXatVq1bpvvvuu6ZzXS%2BWvwEAAJyQn5%2BfLWU8z2q1ysXFRX5%2Bflc9vnbt2srMzLTte/G5Tpw4oWrVqpVbvTSVAAAA0rmksrxfJjRr1kzp6enKzs62jVksFjVs2FCVK1e22/ftt9/Wli1b7MZSU1MVFBSkoKAg%2Bfr62l0/uXfvXhUWFqpZs2amarwQTSUAAIATatKkicLCwhQXF6fc3FylpqYqPj5eAwcOlCT16NFDW7dulXQuhYyNjdX%2B/ftVUFCgRYsW6dChQ3rooYfk5uamRx99VH//%2B9%2BVnp6unJwcvfHGG%2BrWrZvtkUPlgWsqAQAAJKd8%2BPncuXM1ffp0dejQQV5eXhowYIAGDRokSUpLS9Pp06clSTExMZLOXUtptVrVsGFDLV68WDVq1JAkTZgwQXl5eYqKilJxcbG6dOmiGTNmlGutNJUAAACSUzaVNWrU0HvvvVfqtj179ti%2B9/Dw0LRp0zRt2rRS93V3d9eLL76oF1988YbUKbH8DQAAgHJAUgkAACA5ZVJ5M2H2AAAAYBpJJQAAgERSaRJNJQAAgERTaRKzBwAAANNIKgEAACSSSpOYPQAAAJhGUgkAACCRVJpEUwkAACDRVJrE7AEAAMA0kkoAAACJpNIkZg8AAACmkVQCAABIJJUm0VQCAABINJUmMXsAAAAwjaQSAABAIqk0idkDAACAaSSVAAAAEkmlSTSVAAAAEk2lScweAAAATCOpBAAAkEgqTWL2AAAAYBpJJQAAgERSaRJNJQAAgERTaRKzBwAAANNIKgEAACSSSpNoKm9XKSmOrsA5eXic%2B/rJJ1JBgWNrcTaNGjm6AufUsqX0009S377Stm2Orsa5JCQ4ugLn5Od37mt4uNSggWNrAcoRTSUAAIBEUmkSTSUAAIBEU2kSswcAAADTSCoBAAAkkkqTaCoBAAAkmkqTmD0AAACYRlIJAAAgkVSaxOwBAADANJJKAAAAiaTSJJpKAAAAiabSJGYPAAAAppFUAgAASCSVJjF7AAAAMI2kEgAAQCKpNImmEgAAQHLKpvLo0aOKjY3Vjh075OnpqZ49eyomJkaupdS6bNkyLV68WJmZmapbt67Gjx%2Bvrl27SpKmTJmiVatWyc3Nzba/h4eHtm7dWm610lQCAAA4qfHjx6tp06ZKSkrSb7/9pieffFLVq1fXyJEj7fb7/PPPFRcXp3fffVfNmzfXypUrNWnSJH322WcKCgqSJD399NMaP378DavV%2BVpyAAAAR3B1LfdXZmamkpOT7V6ZmZllKsdisSglJUWTJ0%2BWt7e3goODNWLECCUmJl6yb35%2Bvp555hndfffdqlixovr166fKlStr%2B/bt5T1Ll0VSCQAAcIMkJiZq/vz5dmPjxo0rU2KYnJys2rVry9fX1zbWtGlTpaWlKTc3V15eXrbxqKgou2NPnjypvLw8BQYG2sa%2B//57bdiwQQcPHlSDBg00Y8YMNWvW7Ho/2iVoKgEAAKQbck1l//79FRERYTfm7%2B9fpmOtVqt8fHzsxs43mDk5OXZN5YUMw9ALL7ygFi1aqHXr1pKkoKAgubq6auLEiapcubLmz5%2Bvxx57TJ9//rmqVq16rR%2BrVDSVAAAA0g1pKgMCAhQQEHDdxxuGcU37FxUVacqUKdq3b58SEhJs42PHjrXb7y9/%2BYvWrFmjpKQk9evX77rruxBNJQAAgBPy8/OT1Wq1G7NarXJxcZGfn98l%2B%2Bfn52vMmDE6c%2BaMli5desUE0s3NTTVr1izz9Z1lwY06AAAA0g25UceMZs2aKT09XdnZ2bYxi8Wihg0bqnLlynb7Goah6OhoVahQQYsXL7ZrKA3D0KuvvqqUlBTbWGFhoQ4dOmS7M7w80FQCAAA4oSZNmigsLExxcXHKzc1Vamqq4uPjNXDgQElSjx49bM%2BZXL16tfbt26e33npLHh4edudxcXHRkSNHFBsbq4yMDOXl5Wn27NmqWLGi7TmW5YHlbwAAAMkpH34%2Bd%2B5cTZ8%2BXR06dJCXl5cGDBigQYMGSZLS0tJ0%2BvRpSdKKFSt09OhR240550VFRWnmzJmaNWuWXnvtNfXt21e5ublq3ry5lixZIk9Pz3KrlaYSAABAcsqmskaNGnrvvfdK3bZnzx7b90uWLLnieapUqaJXX321XGu7mPPNHgAAAG46JJUAAACSUyaVNxNmDwAAAKaRVAIAAEgklSbRVAIAAEg0lSYxewAAADCNpBIAAEAiqTSJ2QMAAIBpJJUAAAASSaVJNJUAAAASTaVJzB4AAABMI6kEAACQSCpNYvYAAABgGkklAACARFJpEk0lAACARFNpErMHAAAA00gqAQAAJJJKk5g9AAAAmEZSCQAAIJFUmkRTCQAAINFUmsTsAQAAwDSSSgAAAImk0iRmDwAAAKaRVAIAAEgklSbRVAIAAEg0lSYxewAAADCNpBIAAEAiqTSJphIAAECiqTSJ2QMAAIBpJJUAAAASSaVJzB4AAABMI6kEAACQSCpNoqkEAACQaCpNYvYAAABgGkklAACARFJpErMHAAAA00gqAQAAJJJKk2gqAQAAJJpKk5g9AAAAmEZSCQAAIJFUmsTsAQAAwDSHNJVHjx5VWFiY0tLSHPH2V7Rp0yaFhoaW2/l%2B%2BOEHhYaGqqCgoJT6y7IAACAASURBVNzOCQAAbgBX1/J/3Uauafk7IiJCGRkZci1lkl599VX17t37ssdu2bJFXl5eCgsLU%2B3atWWxWK692jKwWq1av369%2BvXrVy7ny83N1VtvvaUNGzbo%2BPHjqlixosLDwxUdHV2uzScAAHAwJ2wCjx49qtjYWO3YsUOenp7q2bOnYmJiSu3FEhIStHTpUmVlZSk0NFTPP/%2B8mjVrJkkqKCjQrFmztHHjRhUUFKhNmzaKjY1V1apVy63Wa569F154QRaL5ZLXlRpKSVq8eLF27dp13YWW1ffff6%2BPP/643M43efJk7du3T4sXL9aOHTu0fv161axZU8OHD1dubm65vQ8AAMDFxo8fr8DAQCUlJSk%2BPl5JSUlasmTJJft9%2BeWXmjdvnl5//XV999136tKli5566imdPn1akjRnzhwlJycrMTFRn3/%2BuQzD0NSpU8u11nK9UWfjxo2Ki4vTkSNHVLlyZUVFRSkmJkZjxozRxo0btXnzZv373//WrFmzFBkZqXXr1qlBgwaKiIjQE088oXXr1mnnzp1q3Lix5syZo9mzZ%2BvLL79UQECA4uLibN32qlWr9Pe//13p6emqWrWqHn/8cQ0aNEifffaZYmJidPbsWYWFhWndunWqXbu25s%2Bfr1WrVikrK0sNGzbUtGnTdPfdd0uSDhw4oClTpmjPnj1q2LCh/vznP9t9pm%2B//Vavvfaa6tatK0ny8/PT1KlT1aJFC5WUlEiSDh06pNjYWFvT3KFDB82YMUM%2BPj6XzJHFYtGrr76qvXv3yt3dXd26ddMLL7ygihUr6ocfftBTTz2liRMnau7cuVq4cKFGjBihb775xvYvifz8fLVr107z5s1Tx44dy/TfJTMzU1lZWXZj/mfOKKB69bL%2Bp719uLvbf8XvWrZ0dAXOqVEj%2B6/4nZ%2BfoytwTud/NpTyMwIOdgOSylJ/Bvv7KyAg4KrHWiwWpaSkKD4%2BXt7e3vL29taIESO0ZMkSjRw50m7fxMRE9e3bVy1atJAkPf7440pISNBXX32l7t27a/ny5XrttddUs2ZNSdKkSZPUq1cvZWRkKDAwsHw%2BrHENunTpYnzwwQelbissLDTuuusu49tvvzXOnj1rpKWlGZGRkcb69esvOfbw4cNGSEiIsW/fPtu23r17G/v37zeysrKMDh06GF26dDE2b95s5OfnG6NGjTKefPJJwzAM49ChQ0ajRo1s7/Pdd98ZjRo1Mnbv3m0YhmHMnTvX6Nevn62uRYsWGffff7%2BRlpZmFBQUGAkJCUZ4eLiRl5dnGIZh9O/f33jmmWeMvLw8Y9%2B%2BfUavXr2MkJAQ2/F9%2BvQxBg4caBw8ePCy8zJ06FBjypQpRkFBgfHbb78ZDz74oPHqq68ahmEY33//vRESEmLk5%2BcbhmEYkZGRxltvvWUUFxcbR48eNe69914jISHBtm/Tpk2NGTNmGGfOnDHOnj1rRERE2M35%2BvXrjQ4dOhjFxcVl/c9mzJ071wgJCbF7zX3rrTIfDwDAbeHs2XJ/lfozeO7cMpWzbNkyo2vXrnZjO3bsMEJCQoxTp07ZjXfo0MFYuXKl3djjjz9uvPrqq0ZqaqoREhJipKen221v0aKFsWHDhuuYqNJdc1I5c%2BZMvfLKK3Zjnp6e2rBhg/Lz8%2BXp6SkXFxcFBwfriy%2B%2BKHXNvzSdO3dW/fr1JUnNmzdXXl6eOnToIEnq2LGjPvzwQ0lSnTp19P3338vX11eS1K5dO1WrVk3JyclqVEpSsHz5co0YMULBwcGSpKFDh2rJkiXauHGjwsPDtW3bNsXGxsrT01MNGjRQ37599dprr9mOf/311xUTE6Nu3bopODhYrVu3VufOndW5c2e5ublJkhYuXCgXFxe5u7vLz89P9957r3766adSP%2BfKlSvl7u4uNzc31apVS%2BHh4XaXBRQVFWnQoEGqVKmSJCkqKkqrV6/WwIEDJUlffPGFevbsaXvvsujfv78iIiLsxvzPnJEOHCjzOW4b7u5SrVrSsWNSYaGjq3Euffs6ugLn1KiR9MEH0qBBUkqKo6txLi%2B/7OgKnJOPj3TvvdI330gnTzq6GufTq5fD3tqQS7mfs9Sfwf7%2BZTrWarVesup5vv/JycmRl5eX3b7nt124b05OjqxWqyRdci4fHx/l5OSU7YOUwTU3lS%2B88IKtwbnY2LFjNWTIEDVv3lwdOnRQ3759bTHr1dSoUcP2vYeHh91EeXh4qPB/P%2BBdXFy0bNkyLV%2B%2BXJmZmTIMQ4WFhbbtFzt06JBmzZpl1wifPXtW6enpysjIkHSuUT3vfPN5XqNGjbR27Vrt2rVLW7Zs0Y8//qiJEycqNDRUCQkJqly5snbt2qW4uDjt2bNHRUVFKikpsS3VX%2Bz777/XggULdODAARUXF6u4uFg9evSw26dWrVq27x988EG98847Onr0qAICArRx40b94x//uNJUXiIgIODSmH3PHok70i%2BvsJD5udi2bY6uwLmlpDBHF8vOdnQFzu3kSebIyZw9W/7nLPVn8DUwDKPc9r2Wc12Pcr14YNy4cdqwYYN69eqlrVu3qmfPntq5c2fZCrko0bxcwvnxxx9r4cKFmjlzprZt2yaLxWLXkF6sUqVKiouLs7upKDk5WaNGjbI1ouevjZTONZyladasmZ544gm99957WrVqlfbv36%2BVK1fqxIkTGj16tFq1aqVNmzbJYrFo9OjRpZ4jNTVVEydO1EMPPaQtW7Zc9ganChV%2B7/Xr1q2rFi1aaO3atfrxxx/l5%2BensLCwy35eAABwa/Dz87OljOdZrVa5uLjI76JrlqtWrVrqvn5%2BfrZ9L95%2B4sQJVatWrdzqLdem0mq1KjAwUIMHD1Z8fLx69OihTz/9tDzfQhaLRffcc4/atm0rNzc3ZWVlKTMz87L7BwUFac%2BePXZjR44ckSTbvxzS09Nt21JTU23f7927VzNnzryk0bzjjjtUp04dnTlzRvv371deXp5GjRplS1d//vnnUmvZvXu33N3dNWzYMFWqVEmGYWj37t1X/cwPPvig/v3vf%2Buzzz5Tnz59rro/AAC4dmfPlv/LjGbNmik9PV3ZFyTaFotFDRs2VOXKlS/ZNzk52fbnkpIS/fzzz2rRooWCgoLk6%2Btrt33v3r0qLCy87Mrq9Si3pnLbtm164IEHtHPnThmGod9%2B%2B01paWm2u6Y9PDx06NAhnTp1ytT71K5dW/v379eJEyd09OhRzZw5U7Vq1bItZXt4eCgrK0tWq1WFhYUaMGCAli5dqu3bt6ukpETr1q1T7969dezYMdWpU0cNGjTQokWLdObMGe3du9euCa5evbpWr16t//u//9OxY8dkGIZyc3OVkJCgAwcO6L777lOtWrXk6uqqbdu26fTp01q8eLGOHz%2Bu48ePq7i4%2BJLa8/PztXv3bp04cUJ/%2B9vf5O7ublvGv5yePXtq3759NJUAANxGmjRporCwMMXFxSk3N1epqamKj4%2B3XYbYo0cPbd26VZI0cOBArVy5Utu3b9eZM2f0zjvvyN3d3XYPyKOPPmp7ck5OTo7eeOMNdevWTdXL8Ukw19xUzpw5U2FhYZe8PvroIz399NOaNGmSWrRooYceekgtWrTQ4MGDJUmPPvqoPvjgAw0ZMsRUwQMHDlS9evXUqVMnjR49WkOGDNGQIUMUHx%2BvpUuXqmvXrjIMQ507d9auXbv0yCOPaNCgQRo3bpzuvvtuvf/%2B%2B5o/f77tusW5c%2Bdq//79ateunaZOnapRo0bZ3svPz08ffPCB8vLy1L9/fzVv3lydO3fWxo0bFR8fr5CQEAUGBuqZZ57RtGnT1KVLF504cUKzZ89WYWGhBg0aZFd7y5YtNXjwYA0ZMkS9evVS7dq1NW3aNO3du1fR0dGX/cw%2BPj7q3LmzGjZsaGvSAQBA%2BXK2pFI616dkZmaqQ4cOGjZsmB588EFbf5GWlmZ7DuV9992nZ555RpMmTVLr1q313XffaeHChbYbfydMmKAWLVooKipKkZGRqly5smbNmmW%2BwAu4GDf6qk2UiyFDhigqKqrcflOQLrokAP/j4SEFB5%2B7M54bdezxHMbStWwp/fST1KoVN%2BpcLCHB0RU4Jz%2B/c3c4r13LjTqlGTrUYW995kz5n/NPfyr/czqrcn34OcqfYRhatmyZjh49ytI3AABwWjSVTu78BbZvvfWWLcIGAADl70Y8Uuh2QlPp5Mr6SCYAAABHoqkEAAAQSaVZNJUAAACiqTSrXB9%2BDgAAgNsTSSUAAIBIKs0iqQQAAIBpJJUAAAAiqTSLphIAAEA0lWax/A0AAADTSCoBAABEUmkWSSUAAABMI6kEAAAQSaVZNJUAAACiqTSL5W8AAACYRlIJAAAgkkqzaCoBAABEU2kWy98AAAAwjaQSAABAJJVmkVQCAADANJJKAAAAkVSaRVMJAAAgmkqzWP4GAACAaSSVAAAAIqk0i6QSAAAAppFUAgAAiKTSLJpKAAAA0VSaxfI3AAAATCOpBAAAEEmlWSSVAAAAMI2kEgAAQCSVZtFUAgAAiKbSLJa/AQAAYBpJJQAAgEgqzSKpBAAAgGkklQAAACKpNIumEgAAQDSVZrH8DQAAANNIKgEAAERSaRZJJQAAAEwjqQQAABBJpVkklQAAADrXVJb360ayWq2aNGmS2rdvr44dO%2Br5559Xfn7%2BZff/4osv9Oc//1ktW7ZU9%2B7d9dFHH9m2zZs3T40bN1ZYWJjd6/jx42Wuh6YSAADgJjR9%2BnSdOXNGa9as0YoVK5SamqrZs2eXuu/OnTs1efJkTZgwQf/5z380bdo0vfTSS9q6dattn6ioKFksFrtX9erVy1wPy98AAAC6McliZmamsrKy7Mb8/f0VEBBg6rzHjx9XUlKS/vWvf8nPz0%2BSNGbMGE2cOFHPPfecKlasaLe/1WrVk08%2Bqa5du0qSOnXqpJCQEG3dulX33HOPqVrOo6kEAAC4QRITEzV//ny7sXHjxmn8%2BPGmzrt79265ubkpNDTUNta0aVOdPn1a%2B/fvtxuXpPvuu0/33Xef7c/FxcXKyspSYGCgbWzPnj0aMGCA9u7dq5o1a2rq1Knq2LFjmWuiqQQAANCNSSr79%2B%2BviIgIuzF/f3/T57VarfLy8pKLi4ttzNfXV5KUk5Nz1eNnz54tT09P9ezZU5JUo0YNBQUFKSYmRgEBAUpMTNRTTz2lVatW6Y477ihTTTSVAAAAujFNZUBAwHUvdX/66ad69tlnS90WHR0twzCu%2BZyGYWj27Nlas2aNEhIS5OHhIUnq16%2Bf%2BvXrZ9tvxIgRWrt2rVatWqVJkyaV6dw0lQAAAE4oKipKUVFRpW779ttvlZubq5KSErm5uUk6l15KUrVq1Uo95uzZs5o6dap27typZcuWKSgo6IrvX7t2bWVmZpa5Xu7%2BBgAA0M31SKHGjRvLMAylpKTYxiwWi3x8fFS/fv1Sj3nllVf0yy%2B/lNpQvv3229qyZYvdWGpq6lUbzwvRVAIAANxk/Pz81L17d7355pvKzs7Wr7/%2BqgULFuiRRx5RhQrnFqKHDx%2BudevWSZL%2B%2B9//atWqVVq4cKGqVKlyyfmsVqtiY2O1f/9%2BFRQUaNGiRTp06JAeeuihMtfE8jcAAIBuvt%2Bo89JLL%2BnFF19UZGSkKlasqN69eys6Otq2/fDhwzpx4oQkacWKFTp16pS6dOlid47w8HAtWrRIMTExks5dS2m1WtWwYUMtXrxYNWrUKHM9Lsb1XOWJm9%2BePY6uwDl5eEjBwdKBA1JBgaOrcS6NGjm6AufUsqX0009Sq1bStm2Orsa5JCQ4ugLn5Ocn9eolrV0rZWc7uhrnM3Sow976s8/K/5wPPFD%2B53RWLH8DAADANJa/AQAAdPMtfzsbkkoAAACYRlIJAAAgkkqzaCoBAABEU2kWy98AAAAwjaQSAABAJJVm0VQCAACIptIslr8BAABgGr9R53Y1cqSjK3BO9epJM2acex086OhqnEtEhKMrcE78dpTLGzbM0RU4J34L05U5sC35%2BOPyP2e/fuV/TmdFUgkAAADTuKYSAABAXFNpFk0lAACAaCrNYvkbAAAAppFUAgAAiKTSLJJKAAAAmEZSCQAAIJJKs2gqAQAARFNpFsvfAAAAMI2kEgAAQCSVZpFUAgAAwDSSSgAAAJFUmkVTCQAAIJpKs1j%2BBgAAgGkklQAAACKpNIukEgAAAKaRVAIAAIik0iyaSgAAANFUmsXyNwAAAEwjqQQAABBJpVkklQAAADCNpBIAAEAklWbRVAIAAIim0iyWvwEAAGAaSSUAAIBIKs0iqQQAAIBpJJUAAAAiqTSLphIAAEA0lWax/A0AAADTSCoBAABEUmkWSSUAAABMo6kEAADQuaSyvF83ktVq1aRJk9S%2BfXt17NhRzz//vPLz80vd95NPPlGjRo0UFhZm99q5c%2Bf/PvtZzZkzR5GRkQoPD9eoUaN0%2BPDha6qHphIAAEA3X1M5ffp0nTlzRmvWrNGKFSuUmpqq2bNnX3b/8PBwWSwWu1fz5s0lSUuXLtXq1au1cOFCffXVVwoODtbYsWNlGEaZ66GpBAAAuMkcP35cSUlJio6Olp%2BfnwIDAzVmzBitWLFCRUVF13y%2BxMREjRgxQg0aNJCXl5eio6OVmpqqHTt2lPkc3KgDAACgG5MsZmZmKisry27M399fAQEBps67e/duubm5KTQ01DbWtGlTnT59Wvv377cbPy89PV0jR47Url275OPjowkTJigqKkr5%2Bfnat2%2BfmjRpYtvXy8tL9erVk8Vi0V133VWmmmgqAQAAbpDExETNnz/fbmzcuHEaP368qfNarVZ5eXnJxcXFNubr6ytJysnJuWR/Pz8/BQcH65lnnlHDhg21fv16PfvsswoICNAdd9whwzBsx194vtLOdTk0lQAAALoxSWX//v0VERFhN%2Bbv71%2BmYz/99FM9%2B%2ByzpW6Ljo6%2BpusdO3furM6dO9v%2B3KtXL61fv16ffPKJJk%2BeLEnXdL7S0FQCAADoxjSVAQEB173UHRUVpaioqFK3ffvtt8rNzVVJSYnc3NwknUsvJalatWplOn/t2rW1a9cuValSRa6urrbjz7NarWU%2Bl8SNOgAAADedxo0byzAMpaSk2MYsFot8fHxUv379S/ZftmyZ1q1bZzeWmpqqoKAgeXh46M4771RycrJt28mTJ3Xo0CHb3eFlQVMJAACgm%2BuRQn5%2BfurevbvefPNNZWdn69dff9WCBQv0yCOPqEKFcwvRw4cPtzWShYWFevnll2WxWFRUVKQ1a9Zo06ZNGjBggCRp4MCBSkhIUGpqqnJzczV79mw1btxYYWFhZa6J5W8AAICb0EsvvaQXX3xRkZGRqlixonr37q3o6Gjb9sOHD%2BvEiROSpGHDhikvL08TJ05UVlaW6tSpowULFqhZs2aSpAEDBigrK0tDhw5VXl6e2rRpc8kNRldDUwkAAKCb73d/e3t764033rjs9i%2B//NL2vYuLi8aMGaMxY8aUuq%2BLi4smTJigCRMmXHc9NJUAAAC6%2BZpKZ8M1lQAAADCNpBIAAEAklWbRVAIAAIim0iyWvwEAAGAaSSUAAIBIKs0iqQQAAIBpJJUAAAAiqTSLphIAAEA0lWax/A0AAADTSCoBAABEUmkWSSUAAABMI6kEAAAQSaVZNJUAAACiqTSL5W8AAACYRlIJAAAgkkqzSCoBAABgGkklAACASCrNoqkEAAAQTaVZLH8DAADANJJKAAAAkVSaRVIJAAAA00gqAQAARFJpFk0lAACAaCrNYvm7DH744QeFhoaqoKDA0aVo9uzZGjp0qKPLAAAAsHPTJpURERHKyMiQq%2Bu5vtjd3V2hoaGaNGmSWrdu7eDqAADAzYak0pybOql84YUXZLFYZLFYtHnzZnXt2lWjR4/W4cOHHV0aAADAbeWmTSov9qc//UmPPfaYPvzwQ23atEn/%2BMc/9MQTT2jgwIGSpE2bNumJJ57Qnj17JEmhoaGaOnWq3n//fQ0bNkyjR4/W5s2b9frrr%2BvQoUOqV6%2BepkyZonbt2tne47///a9mzZqlgwcPql27dnrjjTfk7e0twzAUFxen1atX6%2BTJkwoODta0adMUHh4uSdq4caPi4uJ05MgRVa5cWVFRUYqJiZGrq6usVqtmzpyp77//Xnl5eWrbtq1mzJihwMBASdKXX36p1157TZmZmerUqZOqV69%2BzXOTmZmprKwsuzF/b28F%2BPld11zf0mrWtP%2BK3/H3pXQ%2BPvZf8buWLR1dgXNq1Mj%2BK5wGSaU5t0xTeV5JSYnc3NzKtG9SUpJWrlypatWqKSMjQ%2BPHj9esWbPUrVs3rV69WmPHjtWXX35p23/NmjVatmyZTpw4oUcffVTLly/XyJEj9emnn2rlypVavny5/P399c4772jChAnavHmzzp49q%2BjoaC1YsEDt2rXTwYMH9fjjj6tly5bq2rWrpkyZogoVKmjt2rVyc3PTiy%2B%2BqKlTp2rRokU6efKkoqOjNXnyZPXv319btmxRTEyMGjdufE1zkpiYqPnz59uNjRs7VuMnTLim89xWnnzS0RXgZnPvvY6uwPn06uXoCpzbBx84ugJchKbSnFumqczLy9OHH36o7OxsderUSQsXLrzqMQ888IAt%2Bfvss88UFBSknj17SpL69u0rDw8Pnb3gb9hjjz0mHx8f%2Bfj46K677lJaWpokqU%2BfPoqMjJS3t7ckqVevXpo3b56OHTumqlWrKj8/X56ennJxcVFwcLC%2B%2BOILubq66rffftNXX32ldevWydfXV5I0efJkde7cWVlZWfrPf/4jT09PDR48WK6ururUqZPuuece5eXlXdPc9O/fXxEREXZj/u%2B%2BK82YcU3nuS3UrHmuoXz3XSk93dHVOJf/Je%2B4iI/PuYbym2%2BkkycdXY1zmT7d0RU4p0aNzjWUgwZJKSmOrsb5/PSToyvAdbqpm8qZM2fqlVdekSRVqlRJjRs31uLFi1WzjEuXtWrVsn1/6NAh1alTx257r4v%2BlX3h9kqVKqmwsFCSdObMGb3yyivatGmTTpw4YdunsLBQXl5eGjt2rIYMGaLmzZurQ4cO6tu3r2rWrGm79vPBBx%2B0ex83Nzelp6fr119/Vc2aNW03I0lScHCwkpOTy/T5zgsICFBAQID94KlT514oXXq6dPCgo6twLg0aOLoC53bypJSd7egqnMu2bY6uwLmlpDBHToak0pybuql84YUXbNdMXs3ZUv6mXLhM7urqWuo%2BF3JxcSl1PDY2Vnv27NHSpUtVr149HT58WN26dbNtHzdunPr166ekpCQlJSXp/fff15IlS1SpUiVJ5673rFq16iXn/e6771RSUnLVzwEAAOBoN/Xd31fi7u6u/Px8258PHTp0xf3r1KljW84%2B75///GeZ7iTfuXOn/vznPys4OFguLi6XJIlWq1WBgYEaPHiw4uPj1aNHD3366aeqXbu2XF1dbTcPSVJRUZEyMjIknUsYMzIyZBiGbXtqaupV6wEAANfu7Nnyf91ObtmmMjg4WBs3blR%2Bfr4OHjyo1atXX3H/3r17Kz09XR999JEKCwu1du1avfHGG6pcufJV36tOnTqyWCwqLCzU9u3btXbtWknn7rretm2bHnjgAe3cuVOGYei3335TWlqa6tatK29vb/Xs2VOzZ8/Wr7/%2Bqvz8fL3xxht67LHHZBiG2rdvr9zcXH344YcqLCxUUlKSduzYUS7zAwAA7NFUmnPLNpWTJk1Sdna22rRpo%2Beee06jRo264v7Vq1fXP/7xDy1evFjh4eFauHChFixYIL8yPEYlJiZGqampat26tebMmaPp06erW7duGjNmjNzd3fX0009r0qRJatGihR566CG1aNFCgwcPliRNnz5d9erVU69evXTvvfdq3759evvtt%2BXi4qIaNWooLi5OixYtUuvWrbVq1SoNGjSoXOYHAACgPLkYF66t4vYxcqSjK3BO9eqduyt%2Bxgxu1LnYRU8QwP/4%2BZ17dM7atdyoc7FhwxxdgXNq2fLcHc6tWnGjTmkc2Jb06VP%2B57zKQukt5ZZNKgEAAPDHuanv/gYAACgvt9s1kOWNphIAAEA0lWax/A0AAADTSCoBAABEUmkWSSUAAABMI6kEAADQzZdUWq1WzZgxQz/%2B%2BKNcXV3VqVMnTZ8%2B3fZroC/0wgsv/P/27j0qqnL/4/hnEMVExUBABbxknfR4ARVL/WkmUpppnLAk7bayi6GiSWWeXGY3D128rrQ8ad5WckJRw0vSURGPqWScNEbE5Sk9XrmpgCLKyDC/P/o1PwmzmQbdo7xfa7GW8%2Bw9M58/xlnf%2BT7PfrZSUlKqjFmtVkVFRSkhIUGTJk3S2rVrq9zC2svLS5mZmQ7noVMJAACgG%2B%2BOOlOmTNGFCxe0fv16rVq1Sj/99JOmT59%2BxXPfffddmc1m%2B9%2BePXt02223aeDAgfZzYmNjq5zjTEEpUVQCAADccE6dOqXNmzdrwoQJ8vX1VWBgoEaPHq1Vq1bp0qVLv/v8pUuXqkWLFurbt2%2BNZWL6GwAAQNems1hQUKDCwsIqY/7%2B/goICHDpdXNyclSnTh3deeed9rEOHTqorKxMhw4dqjL%2Ba2fPntX8%2BfOVmJhYZTwjI0NbtmzRkSNH1LZtW7355pvq2LGjw5koKgEAAHRtisqkpCTNnTu3ytjYsWMVFxfn0usWFxerYcOGMplM9jEfHx9JUlFR0VWf%2B/nnn6t79%2B6644477GMhISHy8PDQ%2BPHj5e3trblz52rkyJH6%2BuuvdeuttzqUiaISAADgGomJiVFERESVMX9/f4eem5KSookTJ17x2IQJE2T7A/dJt1qtWr58uWbMmFFlfMyYMVUev/rqq1q/fr02b96sRx991KHXpqgEAADQtelUBgQE/OGp7qioKEVFRV3x2I4dO1RaWiqr1Wq/Yru4uFiS5Ofn95uv%2Bd1338lisSg8PPyq712nTh01b95cBQUFDuflQh0AAIAbTPv27WWzE1/rfgAAGhpJREFU2XTgwAH7mNlsVuPGjdWmTZvffN6WLVvUo0cPeXr%2Bf1/RZrMpISGhymtZLBYdPXpUISEhDmeiqAQAANCNtaWQr6%2BvBgwYoNmzZ%2BvMmTPKy8vTvHnz9Mgjj9gLxqefflpfffVVlefl5OQoODi4ypjJZNLx48f11ltvKT8/X%2BfPn9f06dNVt25dRUZGOpyJohIAAEA3VlEpSW%2B//bYaNWqk/v3766GHHlLnzp01YcIE%2B/Fjx46ppKSkynMKCwvVtGnTaq81bdo0tW7dWtHR0erVq5dycnK0dOlSNWjQwOE8rKkEAAC4ATVq1EgzZ878zeNpaWnVxr7%2B%2BusrntukSRMlJCS4lIeiEgAAQDfebRrdDdPfAAAAcBmdSgAAANGpdBVFJQAAgCgqXcX0NwAAAFxGpxIAAEB0Kl1FpxIAAAAuo1MJAAAgOpWuoqgEAAAQRaWrmP4GAACAy%2BhUAgAAiE6lq%2BhUAgAAwGV0KgEAAESn0lUUlQAAAKKodBXT3wAAAHAZnUoAAADRqXQVnUoAAAC4jE4lAACA6FS6iqISAABAFJWuYvobAAAALqNTCQAAIDqVrqJTCQAAAJfRqQQAABCdSldRVAIAAIii0lVMfwMAAMBldCoBAABEp9JVdCoBAADgMjqVAAAAolPpKopKAAAAUVS6iulvAAAAuIxOJQAAgOhUuopOJQAAAFxGpxIAAEB0Kl1FUQkAACCKSlcx/Q0AAACX0akEAAAQnUpXUVQCAACIotJVTH8DAADAZXQqAQAARKfSVXQqAQAA4DI6lQAAAKJT6SqKSgAAAFFUuorpbwAAgBuU2WzWfffdp2HDhv3uucuWLdOAAQPUtWtXDR8%2BXPv27bMfKy8v1xtvvKF77rlHd999t8aNG6eioiKnslBUAgAA6OdOZU3/XUtr165VXFycWrVq9bvnpqWl6aOPPtIHH3ygnTt3ql%2B/fnrxxRdVVlYmSZo1a5ays7OVlJSkr7/%2BWjabTX/961%2BdykNRCQAAcAMqLy9XUlKSQkNDf/fcpKQkRUdHKzQ0VPXr19dzzz0nSdq6dasqKiqUnJys0aNHq3nz5mrSpIleeuklpaenKz8/3%2BE8rKkEAADQteksFhQUqLCwsMqYv7%2B/AgICXH7tRx991OFzs7OzNWjQIPtjDw8PtW/fXmazWe3bt9e5c%2BfUoUMH%2B/G2bduqfv36ys7OVmBgoEPvQVFZWy1ebHQCt1RQUKCkjz5SzOjRNfIfHjc/%2B2cmJobPzK89%2BaTRCdyS/TOTmspnxs3YbDX/mh99lKS5c%2BdWGRs7dqzi4uJq/s2uori4WD4%2BPlXGfHx8VFRUpOLiYklS48aNqxxv3LixU%2BsqKSqByxQWFmru3LmKiIjgyx4O4TMDZ/GZqV1iYmIUERFRZczf39%2Bh56akpGjixIlXPJaQkKDo6Ginsth%2Bp2r%2BveO/h6ISAADgGgkICPjDPx6ioqIUFRVVIzluvfVWe0fyF8XFxbrjjjvk6%2Btrf%2Bzt7W0/XlJSIj8/P4ffgwt1AAAAbnIdO3ZUdna2/bHVatX%2B/fsVGhqqkJAQ%2Bfj4VDl%2B8OBBWSwWdezY0eH3oKgEAAC4CQ0cOFCZmZmSpOHDh%2BvLL7/U3r17deHCBX3yySeqV6%2Be7r33XtWpU0fDhg3T/PnzlZubq6KiIs2cOVP33XefmjZt6vD7Mf0NXMbf319jx451eL0LwGcGzuIzg5oyYMAAnTx5UlarVZWVlerUqZMkKTU1VUFBQTp8%2BLB9H8p77rlH8fHxeumll3T69Gl16tRJn376qerXry9JGjdunM6fP6%2BoqChVVFSoX79%2BevPNN53KY7K5uioTAAAAtR7T3wAAAHAZRSUAAABcRlEJAAAAl1FUAgAAwGUUlQAAAHAZRSUAAABcRlEJAAAAl1FUAgAAwGUUlQAAAHAZRSUAAABcRlEJ/J%2BioiKjIwAAcMOiqEStdv78eb3xxhsKCwtTnz59JEnFxcUaNWqUzpw5Y3A6uKudO3fKZrMZHQMA3IrJxjcjarHXXntNBQUFGjNmjEaOHKmsrCx7oWmz2TRz5kyjI8INdenSRQ0bNtSDDz6oIUOGqEOHDkZHght68sknZTKZHDp32bJl1zgNcO15Gh0AMFJ6ero2btwoX19f%2B5e/t7e3pk6dqgEDBhicDu4qIyND27dv16ZNmzRy5Ej5%2BflpyJAhGjx4sEJCQoyOBzcRFhZm//eFCxeUkpKibt26qU2bNqqsrNSPP/6orKwsjRgxwsCUQM2hqEStZjKZ1LBhw2rjVqtV5eXlBiTCjcDLy0uRkZGKjIxURUWFdu/erY0bNyo6Olpt27bVsGHDNHjwYNWrV8/oqDDQyy%2B/bP93fHy8ZsyYoXvuuafKOZs3b9b69euvdzTgmmBNJWq1Ll266IMPPtDFixftYydOnNDkyZN11113GZgMN4rCwkJlZ2crOztbFotFgYGBWrNmjQYOHKjs7Gyj48FNpKenq1evXtXG%2B/btq23bthmQCKh5dCpRq02ZMkWjR49WeHi4Kioq1K1bN5WVlSksLIz1lPhNJSUlSk1N1bp167Rnzx6FhoYqJiZGgwYNUqNGjSRJiYmJmjRpktatW2dwWriDgIAAJSUl6fHHH68yvnr1avn7%2BxuUCqhZXKgDSMrKytLx48fl5eWlli1b6o477jA6EtxYx44d1bx5cz300EP6y1/%2B8pvrKENDQ/XDDz9c53RwR2lpaYqPj5e3t7eaN28uq9Wq/Px8nTt3TjNnztR9991ndETAZRSVqNVOnjz5m8c8PDzUtGlTeXrS0EdVmZmZCg8PNzoGbjDnzp3T9u3blZ%2BfL4vFooCAAPXq1UuBgYFGRwNqBEUlarV27dpddcsPDw8P9erVS%2B%2B%2B%2By5f/LALDw/Xzp07uRAHTjt9%2BrRyc3PVsWNHo6MANY6iErXatm3bNGfOHD322GPq1KmTTCaTzGazkpOT9eKLL%2BqWW27RkiVL5Onpqblz5xodF25i6dKlOnr0qEaMGKEWLVqoTp06VY5TbOLX8vPz9frrr2vHjh3y9PTUvn37VFBQoGeffVYff/wxW1HhpkBRiVrt4Ycf1uzZs9WqVasq44cPH9bkyZOVmJioc%2BfO6f7779euXbsMSgl306VLF1VUVKiiouKKx3Nycq5zIri7MWPGqEGDBoqPj9eAAQOUlZWliooKzZgxQ4cOHdLf//53oyMCLmOxGGq1Q4cOydfXt9q4v7%2B/9u/fb39cWVl5PWPBzVEAwFkZGRn617/%2BJW9vb/uSG09PT40fP159%2B/Y1OB1QMygqUauFhYUpNjZWI0eOVIsWLVS3bl2dOHFCixcv1u23366KigrFxcWpZ8%2BeRkeFG7naHqbx8fHscYpqbrnlliveL76kpERWq9WAREDNo6hErTZ79my9/vrrGj9%2BvC5duiRJqlOnjrp37663335bnp6eCgoK0sSJEw1OCnditVr1xRdfaN%2B%2BfbJYLPbxgoICHTx40MBkcFc9evTQ66%2B/rgkTJkiSzp49qwMHDmj69Om69957jQ0H1BDWVAKSbDabiouLZbPZtH//fq1evVpbtmxhj0Fc0ZtvvqmtW7cqPDxcqampevDBB5WTk6N69epp8uTJ6tq1q9ER4WZKSkr02muvKT09XdLPt4g1mUwaNGiQpkyZIh8fH2MDAjWAohLQz/tVrl69WmvWrFFhYaEiIiIUHR1d7T69gCT17t1bycnJatasmTp37qysrCzZbDZNnz5dwcHBGj58uNER4abOnDmjY8eOycvLS8HBwWrYsKHRkYAaw/Q3ai2LxaLNmzdr5cqV2r17t0JDQ1VQUKCVK1eqXbt2RseDGysvL1ezZs0k/bxcwmKxqF69enrhhRc0ZMgQikpc0ZYtW9S/f3/5%2BvrKbDZr9uzZat26tUaMGCEPDw%2Bj4wEu41OMWumdd95Rnz59NGfOHHXr1k2pqalKTEyUp6envL29jY4HN/enP/1Jc%2BfO1aVLl9SmTRutXLlSkpSbm6uysjKD08EdTZ8%2BXe%2B//74kKS8vT08//bTOnz%2BvDRs26MMPPzQ4HVAzKCpRKy1fvly9e/fWggULNHbsWDYehlMmTZqklJQUXbp0SaNHj1ZCQoK6du2qoUOHKjo62uh4cEMpKSlauHChJGn16tUKCwtTQkKC5s6dq40bNxqcDqgZTH%2BjVlq4cKGSk5M1ZMgQtW/fXlFRUXrggQeMjoUbRKdOnbRp0yZJUmRkpFJSUnTgwAEFBQUpLCzM4HRwR6WlpWrZsqUkaceOHXrwwQclSX5%2BfiouLjYyGlBjKCpRK/Xu3Vu9e/dWUVGRUlJSlJiYqGnTpqmyslIZGRlq3ry5PD3574H/d/nWQb8WEhJi73b/sr4SuFxISIgyMjLUoEEDZWVladasWZIks9ksPz8/g9MBNYOrv4H/s3fvXq1cuVIbN25U/fr19dBDD2nSpElGx4KbaNeunf1OKL%2BH2zTi19LT0zVhwgRZLBbFxsZq7NixKikp0QMPPKDRo0friSeeMDoi4DKKSuBXysrKtGHDBq1atUpffPGF0XHgJnbv3u3wudxRB1dSUVGh8vLyKhcD7t27V15eXmrfvr2ByYCaQVEJADXEarXq8ccf58cIrshms%2BnkyZNVllLk5eVpzJgx%2Bv777w1MBtQMFo0BgJNKS0s1b9487du3z357T0k6derUVddeovbKzMzUuHHjVFRUVO1YZGSkAYmAmseWQgDgpKlTp%2Brbb79V165dZTab1bNnT/n4%2BMjHx0fLli0zOh7c0N/%2B9jc9/vjj%2Buqrr%2BTp6al//vOfmjlzpiIjIzVlyhSj4wE1gulvAHBSjx49lJqaqiZNmthv0yhJS5cu1dmzZxUXF2dwQribLl266Pvvv5fJZKrymdm7d6/mzJmjxYsXG5wQcB2dSgBwks1mU6NGjSRJdevWtd9FZ9iwYUpMTDQyGtyUj4%2BPCgsLJUmNGzfWsWPHJEkdOnTQ3r17jYwG1BiKSgBwUqdOnTR16lRZLBbdeeedmj9/voqKipSRkaHKykqj48ENDR48WEOHDlVpaan69OmjuLg4LVq0SBMnTlRwcLDR8YAawfQ3ADjp6NGjmjJlihYsWKCsrCyNGjVKZWVl8vDwUHx8vJ599lmjI8INffnll4qKitL58%2Bf11ltvyWw2KygoSK%2B88gpbCuGmQFEJAC46e/asDh06pObNmyswMNDoOABgCLYUAgAnlJWVyWq12tdUXrhwQRs2bNCFCxfUt29fikpcUWlpqZKTk3X48OErbjuVkJBgQCqgZrGmEgAcdPDgQUVGRmrr1q2SpMrKSj311FP64IMPtGbNGkVHR7OJNa4oPj5en376qQoLC1VeXl7tD7gZ0KkEAAfNmjVLAwcO1KBBgyT9fD/nnJwcrV%2B/Xq1bt9ayZcs0b948ffbZZwYnhbvZtWuXUlNTFRQUZHQU4JqhUwkADvrlriienj//Hk9PT9f//M//qHXr1pKk6Ohomc1mAxPCXbVq1Uo%2BPj5GxwCuKYpKAHCQxWJRkyZN7I93796tu%2B66y/64YcOGTGXCzmKx2P8mT56s9957T4cOHaoy/ssfcDNg%2BhsAHNS0aVMdP35cwcHBOnbsmI4cOaKePXvaj%2Bfm5tKNgl3nzp1lMpnsj202m1atWnXFc3Nycq5XLOCaoagEAAdFRERo6tSpevTRR/X555/r9ttv15///Gf78U8%2B%2BUTdu3c3MCHcCfeBR23DPpUA4KDS0lK98sor2rlzp9q0aaP3339f7dq1kyRNmzZN69atU2Jiom677TaDk8IdnT17VlarVbfeeqsk6fjx4/L29rY/Bm50FJUAUAP%2B85//yM/PT76%2BvkZHgRvKyMjQ2LFj9fbbb9t3D1i%2BfLlmzZqlefPm6e677zY4IeA6ikoAAK6xhx9%2BWE899ZQefvjhKuMbNmzQwoULtWbNGoOSATWHohIAHNCuXbsqF11cDRdd4Ne6dOmizMxM1alTp8r4pUuXdNddd2nPnj0GJQNqDhfqAIADFixYYP/3kSNHlJSUpOjoaLVu3VqVlZX68ccftXbtWj333HMGpoS7atmypTZt2qSBAwdWGf/yyy/VokULg1IBNYtOJQA4KSYmRu%2B9957atGlTZfzgwYOaPHmyVq5caVAyuKtvvvlGcXFxatWqlYKDg1VZWanDhw8rNzdXCxcuVHh4uNERAZdRVAKAk7p06aKMjAx5eXlVGb948aJ69uzJVCauKD8/Xxs3btSxY8dkMpkUEhKiwYMHy8/Pz%2BhoQI2gqAQAJw0fPlzBwcEaNWqUgoKCZLValZubq0WLFumnn37SihUrjI4IN7NgwQI9//zzRscArimKSgBw0pEjR/Taa69p79699ot3bDabbr/9ds2ZM0dt27Y1OCHcTe/evbV27Vq2nMJNjaISAP6gU6dOKT8/XxaLRQEBAQoKCjI6EtzUkiVLtGXLFg0aNEgtWrSodhV47969DUoG1ByKSgD4Ay5evKitW7cqLy9PzzzzjCQpLy9PzZo1MzgZ3NEvd166EpPJxDZUuClQVAKAk77//nvFxsaqcePGys3N1b59%2B3TixAkNHjxYH3/8sXr27Gl0RAC47jyMDgAAN5qEhASNGzdOmzZtkofHz1%2BjQUFBmjZtmqZPn25wOgAwBp1KAHBSWFiYMjMz5enpqdDQUP3www%2BSpMrKSnXr1o0thVDN792Rielv3Ay4ow4AOMnf31%2B5ubkKCQmpMm42m9WwYUODUsGdXX5HJunnHyBHjhzR%2BvXruQsTbhoUlQDgpCFDhuj555/XM888o8rKSm3evFkHDhzQ8uXLNWLECKPjwQ316dPniuN9%2B/bVpEmTdP/991/nREDNY/obAJxks9m0ZMkSrVq1SkePHlX9%2BvUVEhKixx57TI888shVpzmBy5WXl6tHjx4smcBNgaISAJx0/PhxBQcHVxu3WCzav3%2B/wsLCDEgFd5aUlFRt7MKFC9q2bZvOnDmjlJQUA1IBNYuiEgCcdPnFOZcrKSnRvffeS9cJ1URERFQb8/LyUqtWrfTSSy9ddR9L4EbBmkoAcNDKlSuVnJysS5cu6bHHHqt2vKCgQE2aNDEgGdzZ8ePH9dxzz8nT01N9%2B/ZVYGCg0ZGAa4JOJQA4qKSkRLt27dLLL7%2Bs2NjYase9vLwUGRmpNm3aGJAO7ui7777TCy%2B8oICAAFmtVhUVFWnJkiXq1KmT0dGAGkdRCQBOSk1N1cCBA694LDExkSvAYffEE0%2Bof//%2B9lt5fvbZZ9q%2BfbuWLFlibDDgGqCoBIA/4ODBg8rOzpbFYrGP5efna/HixayphF337t31zTffyMvLS5JUVlamfv366dtvvzU4GVDzWFMJAE76xz/%2BoXfeeUd%2Bfn46deqUAgMDVVBQoKCgII0fP97oeHAjFovFXlBKUoMGDXTx4kUDEwHXDvf%2BBgAnffbZZ1q0aJG2b9%2BuunXrKj09Xdu2bVOHDh3UsWNHo%2BMBgCHoVAKAk06fPq0ePXpIkjw8PGSz2eTv769XX31VL774otatW2dwQrgLq9WqFStW6PKVZlcai4mJMSIeUKMoKgHASS1atFBGRoZ69Oghf39/ZWZmqnv37mrUqJGOHz9udDy4kYCAAM2fP/%2BqYyaTiaISNwWKSgBw0qhRo/Tss88qIyNDQ4cOVWxsrMLDw3Xo0CF169bN6HhwI2lpaUZHAK4brv4GgD/g8ls1rly5UmazWcHBwRo%2BfLgaNWpkcDoAuP4oKgEAAOAypr8BwEn79%2B/XRx99pCNHjqi8vLza8S1bthiQCgCMRVEJAE56%2BeWXFRwcrJiYmCp7EAJAbUZRCQBOys/PV0pKiurVq2d0FABwG2x%2BDgBOioiI0L///W%2BjYwCAW%2BFCHQBwUl5enp544gmFhIQoMDBQJpOpyvGEhASDkgGAcZj%2BBgAnTZgwQeXl5WrQoIEsFovRcQDALVBUAoCTcnJylJaWJl9fX6OjAIDbYE0lADipc%2BfOKi0tNToGALgV1lQCgJO%2B%2BOILJSYmql%2B/fmrWrJk8PKr%2BPuc%2BzgBqI4pKAHBSRETEbx4zmUxsfg6gVqKoBAAAgMu4UAcAHHDkyBG1atVKknT48OGrntumTZvrEQkA3AqdSgBwQOfOnZWVlSVJateunUwmk6709WkymZSTk3O94wGA4SgqAcABJ0%2BeVIsWLSRJJ06cuOq5QUFB1yMSALgVikoAcNIzzzyjxYsXVxsvLS3Vk08%2BqTVr1hiQCgCMxZpKAHBQdna2zGazvvvuO61YsaLa9PfRo0f13//%2B15hwAGAwikoAcNC5c%2BeUnp6uiooKzZ8/v9rx%2BvXra/z48QYkAwDjMf0NAE6KjY3VJ598YnQMAHArFJUA4CSbzaa0tDT1799fkmQ2m5WSkqLWrVtrxIgR1e6wAwC1Ad98AOCkGTNm6P3335ck5eXl6emnn9b58%2Be1YcMGffjhhwanAwBj0KkEACf16dNHy5cvV8uWLfXxxx8rMzNTixYt0unTpzV06FClp6cbHREArjs6lQDgpNLSUrVs2VKStGPHDkVGRkqS/Pz8VFxcbGQ0ADAMRSUAOCkkJEQZGRnKyspSVlaWvag0m83y8/MzOB0AGIMthQDASfHx8YqNjZXFYlFsbKwCAgJUUlKiUaNGafTo0UbHAwBDsKYSABz01VdfadCgQZKkiooKlZeXy9vb2358z549Sk5O1rRp04yKCACGoagEAAeFhobqhx9%2BsD/u2bOndu3addVzAKC2YE0lADjo17/Bz58//7vnAEBtQVEJAA4ymUxXffxbYwBQG1BUAgAAwGUUlQAAAHAZWwoBgIOsVqtWrFhhXzf568e/jAFAbcTV3wDgoIiICIfOS0tLu8ZJAMD9UFQCAADAZaypBAAAgMsoKgEAAOAyikoAAAC4jKISAAAALqOoBAAAgMsoKgEAAOAyikoAAAC47H8BmtYxwWkCKQcAAAAASUVORK5CYII%3D\" class=\"center-img\">\n",
              "    <img src=\"data:image/png;base64,iVBORw0KGgoAAAANSUhEUgAAApUAAAJKCAYAAAB9Ob5dAAAABHNCSVQICAgIfAhkiAAAAAlwSFlzAAAPYQAAD2EBqD%2BnaQAAADh0RVh0U29mdHdhcmUAbWF0cGxvdGxpYiB2ZXJzaW9uMy4yLjIsIGh0dHA6Ly9tYXRwbG90bGliLm9yZy%2BWH4yJAAAgAElEQVR4nOzdeVxVdf7H8TegYgqiKLggpmnghmZFLjiFqKO5hDmaYi6YpaaiIlZqVlKaY%2BNSLjVpiTqVMWnj3hRYjj9LK8vlSqKJKC4kqFwUBFk8vz8c73gFCzsQ13o9H4/7AL5nuZ/zzUd8eJ/lOhmGYQgAAAAwwbm8CwAAAMDtj6YSAAAAptFUAgAAwDSaSgAAAJhGUwkAAADTaCoBAABgGk0lAAAATKOpBAAAgGk0lQAAADCNphIAAACmVSjvAgD8cezfv18ff/yx9uzZo5MnTyonJ0eurq7y9vZWy5Yt1aNHD4WEhMjJyam8SwUA3CInPvsbQFkzDEOzZs3SP/7xD0mSh4eH/Pz85ObmpqysLB08eFBZWVmSpE6dOmnhwoWqVKlSeZYMALhFNJUAytz777%2Bvl19%2BWZUrV1Z0dLR69%2B4tFxcX2/Lc3Fx9%2BOGHmjNnjq5cuaKRI0cqKiqqHCsGANwqrqkEUOZWr14tSRo6dKj69Olj11BKUuXKlRUeHq6nnnpKkvTee%2B8pNzf3N68TAPDr0VQCKHMpKSmSJH9//59dLzw8XO%2B8847i4uJUuXJlSdKUKVPk7%2B%2BvOXPmKDs7W7Nnz1ZISIgCAgLUrl07jRs3TocPH77pPnfu3Klx48apY8eOatmypdq1a6fw8HBt3LjxpttYrVYtWLBAffr0UZs2bdSiRQt16NBBo0eP1tdff13sNiEhIfL399f27dsVFxenHj16KCAgQN99950kadGiRfL399eUKVOUl5enRYsWqVu3bmrVqpUeeughvfLKK7p06ZIk6ccff9T48eMVFBSkgIAA9e7dWxs2bCj2fXNycrRs2TI99thjuv/%2B%2B9W8eXO1bdtWw4cPV1xcXLHbDBkyRP7%2B/lq9erWys7O1YMECWy2BgYF66qmndODAgZvODwAUh6YSQJnz9PSUJO3du/cX1/vTn/6kWrVqFVmWnZ2t8PBwrV69WjVq1FBgYKAKCwsVFxen/v37F9sELViwQOHh4YqLi5Obm5vatm0rT09P7dy5U5MnT9bEiRNVWFhot016err69u2rv//97zp69KiaN2%2Budu3aqVKlSvriiy80bNgwrV279qbHcPToUUVGRqpixYpq166drTm%2B3jPPPKPly5fLx8dHd999t9LS0vTee%2B/pueee0%2BHDhxUWFqbExEQ1bdpUXl5eOnz4sJ555hlt27bNbj85OTkaNGiQ5s6dq4SEBDVu3Fjt27eXh4eHvvrqK40bN06LFi26aa15eXkKDw/XypUrVbduXbVo0UKFhYXavn27hgwZYvtjAABKxACAMvbcc88Zfn5%2Bhr%2B/vzFnzhzjzJkzt7ztvffea/Tq1ctu2wsXLhj9%2BvUz/Pz8jH79%2Btlt99lnnxl%2Bfn5GYGCg8fXXX9st%2B%2Babb4wOHToYfn5%2BRkxMjN2ymTNnGn5%2Bfka3bt2Ms2fP2sYLCgqMWbNmGX5%2BfsZ9991nZGVl2W3XqVMnw8/PzwgJCTHeeuutIsexcOFCw8/Pz%2BjYsaPxyCOPGOnp6bZlcXFxtvnp3r27sWjRIuPKlSuGYRhGYWGhMXbsWMPPz88YMWKE3T5jYmIMPz8/o127dkZycnKxy5o1a2akpKTYLRs8eLDh5%2BdnBAcHG4MGDTLOnTtnW5aWlmYEBQUZfn5%2BxquvvlrkOADgZkgqAZS5iRMnqm7dujIMQ%2B%2B%2B%2B66Cg4M1ePBgvf766/rqq6%2BUk5Pzi/vIysrSjBkz5O3tbRtzd3fXlClTJF19XNGxY8dsy9566y1J0nPPPacHHnjAbl%2BBgYF69tlnJUkrV660W%2Bbt7a2ePXtq3Lhxqlmzpm3cxcVFkZGRcnZ21sWLF2%2Baul670ehm0tLSFB0dbZfGdunSRV5eXjIMQxUqVNDYsWNtj1VydnbWgAEDJEk//PCD3b6qVq2q3r17a/To0WrYsKHdsmHDhsnLy0uFhYXauXNnsbWkp6dr/vz5tiRZkry8vNS7d29J0r59%2B256HABwI55TCaDM1alTRx999JH%2B9re/adOmTSosLNS3336rb7/9Vm%2B99ZYqVqyotm3b6pFHHlHPnj1VoULR/zV5e3vrvvvuKzLepk0bVa1aVdnZ2dq7d68aNmyoM2fOKCEhQZLUtWvXYmvq0qWLnJycdPr0aSUnJ6tRo0aSZLtZqDh33HGHatasqfT0dKWnpxe7Trt27eTsfPO/1728vHTPPfcUGffx8VF6ero6depU5DmdPj4%2BkqTMzEy78f79%2B6t///7Fvo%2BTk5Pq16//s7U%2B8MADql27dpHxBg0aSJIyMjJuehwAcCOaSgC/CS8vL7322mt69tlnFRcXp507d2r37t06d%2B6c8vPztWPHDu3YsUPLli3Tm2%2B%2BaWtsrvHz8yt2v87OzvLx8dHhw4d18uRJSbK7cedaklmcChUqKD8/X8eOHbM1ldLVaw3/85//6MCBA0pLS9OFCxdk/PfpaxcvXpR0NZEsTnFN2vXq169f7Pi153JeayCLW1ZQUFBk2ZUrV/Tll19qz549SktLk9VqtdWWnJz8s7X6%2BvoWO%2B7q6ipJys/P/7lDAQA7NJUAflO1atVSWFiYwsLCJF29seXrr7/W%2BvXrtWfPHv34448aOXKkNm7cqIoVK9q28/DwuOk%2B3d3dJV29mUeyT/S2bt36izVdaxQlKTExUWPHjrU1qLfq5%2BqUZHdMv2b59U6fPq2xY8cWOS1eUjxgHkBpoqkEUK7uuusu3XXXXQoLC9PKlSv16quvKjk5WVu2bFFoaKhtvZ87pXwtibu2zrXTxxUrVpTFYinxxz7m5ubq6aef1unTp9WwYUONGTNG7du3V40aNWzNXkhIiE6dOnXTffyWHzE5fvx4/fDDD6pVq5YiIiL04IMPqlatWrZmcciQIfrmm29%2Bs3oA/LHRVAJwGMOGDdN7772nlJQU/fjjj3bLrn2MY3GuLbuWWFavXl3S1dO3GRkZdjei/Jzt27fr9OnTcnJy0tKlS3XnnXcWWcdRHsqekJAgi8UiSZo7d67at29fZB1HqRXAHwN3fwMoU3FxcXrxxRe1dOnSEq1/7fTxtev6rjly5Eix6xcWFtqSw2vXCF5//eWNzenPuXb3eIMGDYptKFNSUnTu3LkS768sHT9%2BXJJsz8O8UXZ29s8%2BFB4AShtNJYAyZbFYFBsbq6VLl%2Br06dM/u%2B6ZM2eUmJgoSUXukD5x4oQOHjxYZJvvvvvO9kk0bdq0kXT1pqAWLVpIkv75z38W%2B17JyckKDQ21PXpI%2Bl/Sefny5WK3WbJkie37Gx%2Ba/ltzc3OTdPXUf3E31Lz77ru2pLK4G3wAoLTRVAIoU8OHD5eXl5cuXryoYcOGFfsxh4ZhaNeuXXryySeVn5%2Bve%2B65R0FBQXbruLu7a/r06XZJodVq1V//%2BldJVx/lU69ePduy0aNHS5I2bdqkFStW2O7elq6mfOPHj1diYqJSU1Nt402bNpUk/fTTT4qPj7eN5%2BTkaObMmbJYLLbG9ejRo796TkqDn5%2BfXFxcVFhYqA8%2B%2BMA2XlBQoLfffluxsbHq1KmTpP/dBQ4AZYlrKgGUqRo1amj58uWKiIjQsWPHNHToUHl5eemuu%2B5SlSpVZLVadfLkSduzFO%2B77z4tXry4yI05ISEhOnHihDp37qyAgABVrFhR%2B/btU1ZWltzc3PTiiy/arf/nP/9ZI0eO1NKlSzV79mytWrVKd911lzIyMnTw4EEVFhaqefPmmjx5sm2bNm3aqGPHjtqxY4ciIiLUunVrubq66sCBA6pQoYJiYmK0efNm7dmzR6tWrdKhQ4f09NNPKzAwsOwn8gZ16tRRv379FBsbq9mzZ2vDhg2qXr26Dh48qOzsbC1evFgnT57UF198oU8//VRDhgzRoEGD9PDDD//mtQL4Y6CpBFDm/Pz8tHHjRm3evFmff/65EhMTtX//fuXl5aly5cqqXbu22rdvrx49eig4OLjYO6idnZ21fPlyvfnmm/rss890%2BvRpVa1aVd26dVNkZKTdcyaviYqKUocOHfTee%2B9p79692rlzp1xdXdWyZUv16NFDgwYNKvJYnddff11z587V1q1bdeDAAXl7e6tbt24aPXq0GjRooDp16uiHH37Q999/rx9//PE3vdv7RtOnT5eHh4c2bdqkw4cPq2bNmmrbtq1GjRqlZs2aKTc3V19//bW2b9%2BuH3/80S6tBYDS5mTwfxkADmzKlCn617/%2BpUcffdR2qhsA4Hi4phIAAACm0VQCAADANJpKAAAAmEZTCQAA4KD%2B7//%2BTx06dFBkZOTPrnflyhUtWLBAnTt3VmBgoEaMGKETJ07YllutVk2cOFEdOnRQx44d9fzzz5f6p25xow4AAIADWrZsmdasWSNPT0/VqVNHCxYsuOm6//jHPxQTE6Nly5apdu3aWrBggb799lutX79eTk5OioiIUF5enmbPnq38/HxNmDBBLVu21PTp00utXpJKAACAMpKWlqaEhAS7V1paWom2dXV11Zo1a4r92NgbxcbGKjw8XI0bN5abm5siIyOVlJSkffv26ezZs4qPj1dkZKQ8PT1Vu3ZtjRkzRmvXri32E7l%2BLZ5T%2BUdVjs/Wc2iNGkk//ijdfbfEp5DY%2B%2B/nYuMGFSpI9epJp09LfByivejo8q7AMXl5SbNnS1OnSv996D%2Bus3x5%2Bb13GfxujF24UIsXL7YbGzdunCIiIn5x26FDh5boPXJzc3XkyBE1b97cNubm5qY777xTFotFFy9elIuLi/z9/W3LW7RooUuXLuno0aN242bQVALXq15dcnG5%2BhUoCWfnq7%2BInDnxgxK6446r/17uuKO8K8FvYMCAAQoJCbEb8/LyKtX3yMzMlGEY8vDwsBv38PBQRkaGqlevLjc3N7sPa7i2bkZGRqnVQVMJAABQRry9veXt7f2bvNfP3SbzW9xCQ1MJAAAg3bZnHKpXry5nZ2dZrVa7cavVqpo1a8rT01NZWVkqLCyUi4uLbZkk1axZs9TquD1nDwAAoLQ5O5f%2B6zfg6uqqu%2B%2B%2BWwkJCbaxCxcuKCUlRa1atVKzZs1kGIYSExNtyy0Wi6pVq6ZGjRqVWh00lQAAALeZM2fOqHv37rZnUYaFhWnVqlVKSkpSVlaW5s6dq2bNmikgIECenp7q1q2bXn/9dZ0/f14//fSTlixZon79%2BqlChdI7ac3pbwAAAMnhTn8HBARIkgr%2B%2B2SJ%2BPh4SVdTxvz8fCUnJysvL0%2BSNHDgQKWnp2vIkCHKzs5W27Zt7e46f/nll/XSSy%2Bpc%2BfOqlixonr16vWLD1S/VTSVAAAADshisdx0Wf369XXo0CHbz05OTho/frzGjx9f7Pru7u6aP39%2Bqdd4PZpKAAAAyeGSytsNTSUAAIBEU2kSswcAAADTSCoBAAAkkkqTaCoBAAAkmkqTmD0AAACYRlIJAAAgkVSaxOwBAADANJJKAAAAiaTSJJpKAAAAiabSJGYPAAAAppFUAgAASCSVJjF7AAAAMI2kEgAAQCKpNImmEgAAQKKpNInZAwAAgGkklQAAABJJpUnMHgAAAEwjqQQAAJBIKk2iqQQAAJBoKk1i9gAAAGAaSSUAAIBEUmkSswcAAADTSCoBAAAkkkqTaCoBAAAkmkqTmD0AAACYRlIJAAAgkVSaxOwBAADANJJKAAAAiaTSJJpKAAAAiabSJGYPAAAAppFUAgAASCSVJjF7AAAAMI2kEgAAQCKpNImmEgAAQKKpNInZAwAAgGkklQAAABJJpUnMHgAAAEwjqQQAAJBIKk2iqQQAAJBoKk1i9gAAAGAaSSUAAIBEUmkSTSUAAICDOnXqlKKjo7Vv3z5VqVJFPXr0UFRUlJxvaICfeOIJffvtt3ZjBQUFGjt2rMaNG6chQ4bo%2B%2B%2B/t9uuUaNG2rBhQ6nVSlMJAAAgOWRSGRERoRYtWig%2BPl7nzp3TqFGjVKtWLQ0fPtxuveXLl9v9fOHCBfXo0UNdu3a1jb3yyivq27dvmdVKUwkAACCVSVOZlpam9PR0uzEvLy95e3v/4rYWi0WJiYmKiYmRu7u73N3dFR4erpUrVxZpKm/0%2Buuvq2vXrvL39zdV/62gqQQAACgjsbGxWrx4sd3YuHHjFBER8YvbJiQkyMfHRx4eHraxFi1aKDk5WVlZWXJzcyt2u%2BPHj2vdunWKj4%2B3G9%2ByZYveeecdpaamqnXr1nr55ZfVoEGDX3FUxaOpBAAAkMokqRwwYIBCQkLsxry8vEq0rdVqVbVq1ezGrjWYGRkZN20qly5dqr/85S/y9PS0jTVu3Fh33HGH5s6dqytXrmjmzJl68skntWnTJlWqVOlWDummaCoBAADKiLe3d4lOdd%2BMYRi3tL7VatX69ev1ySef2I3PmDHD7ueXX35Zbdu21Xfffaf27dv/6vquR1MJAAAgOdyNOp6enrJarXZjVqtVTk5Odink9bZu3apGjRrJ19f3Z/ft5uYmDw8PnTlzptTqdazZAwAAKC/OzqX/MqFly5ZKTU3V%2BfPnbWMWi0VNmjRR1apVi91m69atCgoKshvLysrSjBkz7BrI8%2BfP6/z587/YfN4KmkoAAAAH1Lx5cwUEBGjevHnKyspSUlKSYmJiFBYWJknq3r27du/ebbfNwYMHVb9%2BfbsxNzc37du3TzNnzpTValVmZqaio6Pl7%2B%2BvNm3alFq9NJUAAACSwyWVkrRw4UKlpaUpKChIQ4cOVZ8%2BfTRo0CBJUnJysi5dumS3fnp6umrVqlVkP0uWLJFhGOrWrZuCg4OVn5%2BvpUuXFnmIuhlcUwkAACA53DWVklSnTh0tW7as2GWHDh0qMnbgwIFi161Xr16RRxuVNsebPQAAANx2SCoBAAAkh0wqbyfMHgAAAEwjqQQAAJBIKk2iqQQAAJBoKk1i9gAAAGAaTeVvZMeOHfL391d0dHR5lwIAAIrjgM%2BpvJ38sY62HH300Ufq2bOnNm/erMuXL5d3OQAAAKWKpvI3kJGRoc8//1zjx49XjRo1FBcXZ1t2/vx5DRs2TK1atVJoaKj%2B85//yN/fXydPnpQknTp1SqNHj1bbtm0VGBioZ599VllZWeV1KAAA/H6RVJrCjTq/gfXr16tZs2Zq2LChevfurTVr1qhXr16SpOeff175%2Bfnavn27MjIyFBUVZdvOMAyNGTNG9957rxYsWKBLly5p0qRJmjNnjl555ZUSv39aWprS09PtxrwaNZJ39eqlc4C/J02b2n/F/1SqVN4VOKYKFey/4n8aNCjvChxT3br2X%2BE4/mBNYGlzMgzDKO8ifu969eqlsLAwPf744zpx4oT%2B/Oc/Ky4uTvXq1VOrVq30%2Buuvq0uXLpKk2NhYvfjii9q6davOnz%2BvgQMHavfu3apSpYokaffu3RoxYoT27t0rJyenEr3/okWLinw007gxYxQxYULpHigAALez/v1Lf58ffVT6%2B3RQ/Gldxvbu3atjx47p4YcfliT5%2Bvrqnnvu0ccff6zBgwcrPz9fPj4%2BtvUDAgJs3584cUKFhYVq27at3T4LCwuVkZEhT0/PEtUwYMAAhYSE2I159e4trVz5aw/r96tpU%2BmDD6RBg6TExPKuxrFs3lzeFTimChUkLy8pPV0qKCjvahzL22%2BXdwWOqW5dadSoq/OTmlre1TieGTPK771JKk2hqSxjH330kQoKCtS5c2fbWH5%2Bvs6cOaPHH39cklThutNmztf9g3Z1dVWVKlW0Z88eUzV4e3vL29vbfjA52dQ%2Bf/cSEyWT8/67k5dX3hU4toIC5uhGKSnlXYFjS01ljvC7QlNZhrKzs7VlyxZFR0erXbt2tvGcnBz169dPP/zwg1xcXHT69GndfffdkiSLxWJbr0GDBrp06ZJOnDghX19fSVJWVpby8/NVo0aN3/ZgAAD4vSOpNIWmsgxt2bJFrq6uevTRR1XphpscQkJC9PHHH%2Bv%2B%2B%2B9XTEyM7r33Xp09e1YfXXfthZ%2Bfn9q0aaNZs2bp1VdfVYUKFRQdHa0LFy5o2bJlv/XhAADw%2B0ZTaQqzV4bWrl2r3r17F2koJekvf/mL4uPj9eyzz%2BrChQsKCgrS1KlTNWrUKEn/Ow0%2Bb948GYahzp07q2vXriosLNRf//rX3/Q4AAAAfglJZRn68MMPb7rsoYcesp3q/vDDD22N565du%2BTs7KxatWpJknx8fPQ2F7sDAFD2SCpNYfbK2bRp0/TUU0/pwoULunjxomJiYtShQ4di000AAABHRVNZzp555hl5eHioS5cu6tKli1xcXDRr1qzyLgsAgD8ePlHHFE5/l7MaNWpo4cKF5V0GAAD4gzWBpY3ZAwAAgGkklQAAABJJpUnMHgAAAEwjqQQAAJBIKk2iqQQAAJBoKk1i9gAAAGAaSSUAAIBEUmkSswcAAADTSCoBAAAkkkqTaCoBAAAkmkqTmD0AAACYRlIJAAAgkVSaxOwBAADANJJKAAAAiaTSJJpKAAAAiabSJGYPAAAAppFUAgAASCSVJjF7AAAAMI2kEgAAQCKpNImmEgAAQKKpNInZAwAAgGkklQAAABJJpUk0lQAAAJJDNpWnTp1SdHS09u3bpypVqqhHjx6KioqS8w21Llq0SG%2B%2B%2BaYqVLBv7b744gvVqlVLly9f1qxZs7Rt2zZdvnxZbdu2VXR0tGrUqFFqtTre7AEAAECSFBERodq1ays%2BPl4xMTGKj4/XypUri103NDRUFovF7lWrVi1J0oIFC5SQkKDY2Fh9%2BumnMgxDU6dOLdVaSSoBAACkMkkq09LSlJ6ebjfm5eUlb2/vX9zWYrEoMTFRMTExcnd3l7u7u8LDw7Vy5UoNHz68xDUUFBRozZo1mjNnjurWrStJmjhxonr27KkzZ86odu3at3ZQN0FSCQAAUEZiY2PVt29fu1dsbGyJtk1ISJCPj488PDxsYy1atFBycrKysrKKrH/o0CENHDhQ9957r3r27KkdO3ZIklJSUnTx4kW1aNHCtm7jxo1VuXJlJSQkmDzC/yGpBAAAkMokqRwwYIBCQkLsxry8vEq0rdVqVbVq1ezGrjWYGRkZcnNzs43XqVNHvr6%2BioqKkre3t2JjYzV69Ght2LBBVqtVkorsq1q1asrIyLjlY7oZmkoAAACpTJpKb2/vEp3qvhnDMEq0Xv/%2B/dW/f3/bz%2BHh4dq8ebM2bNigBx988Jb29Wtx%2BhsAAMABeXp62lLGa6xWq5ycnOTp6fmL2/v4%2BCgtLc227o37yszMVM2aNUutXppKAAAA6WpSWdovE1q2bKnU1FSdP3/eNmaxWNSkSRNVrVrVbt0333xTO3futBtLSkqSr6%2BvfH195eHhYXf95OHDh5WXl6eWLVuaqvF6NJUAAAAOqHnz5goICNC8efOUlZWlpKQkxcTEKCwsTJLUvXt37d69W9LVFDI6OlpHjx7V5cuXtXz5cqWkpOjRRx%2BVi4uLHnvsMf39739XamqqMjIyNH/%2BfHXt2tX2yKHSwDWVAAAAkkM%2B/HzhwoV64YUXFBQUJDc3Nw0cOFCDBg2SJCUnJ%2BvSpUuSpKioKElXr6W0Wq1q0qSJVqxYoTp16kiSxo8fr%2BzsbIWGhqqgoECdOnXSjBkzSrVWmkoAAADJIZvKOnXqaNmyZcUuO3TokO17V1dXTZs2TdOmTSt23UqVKumll17SSy%2B9VCZ1Spz%2BBgAAQCkgqQQAAJAcMqm8nTB7AAAAMI2kEgAAQCKpNImmEgAAQKKpNInZAwAAgGkklQAAABJJpUnMHgAAAEwjqQQAAJBIKk2iqQQAAJBoKk1i9gAAAGAaSSUAAIBEUmkSswcAAADTSCoBAAAkkkqTaCoBAAAkmkqTmD0AAACYRlIJAAAgkVSaxOwBAADANJJKAAAAiaTSJJpKAAAAiabSJGYPAAAAppFUAgAASCSVJjF7AAAAMI2kEgAAQCKpNImmEgAAQKKpNInZAwAAgGkklQAAABJJpUk0lX9Ux46VdwWOqVKlq183b5by8sq3FkfTsGF5V%2BCY2rSRvv9e6tlT2rOnvKtxLOvWlXcFjsnD4%2BrX4GApM7NcSwFKE00lAACARFJpEk0lAACARFNpErMHAAAA00gqAQAAJJJKk2gqAQAAJJpKk5g9AAAAmEZSCQAAIJFUmsTsAQAAwDSSSgAAAImk0iSaSgAAAImm0iRmDwAAAKaRVAIAAEgklSYxewAAADCNpBIAAEAiqTSJphIAAEByyKby1KlTio6O1r59%2B1SlShX16NFDUVFRci6m1tWrV2vFihVKS0tTgwYNFBERoS5dukiSpkyZog0bNsjFxcW2vqurq3bv3l1qtdJUAgAAOKiIiAi1aNFC8fHxOnfunEaNGqVatWpp%2BPDhdut9%2Bumnmjdvnt5%2B%2B221atVK69at08SJE/XJJ5/I19dXkvT0008rIiKizGp1vJYcAACgPDg7l/orLS1NCQkJdq%2B0tLQSlWOxWJSYmKjJkyfL3d1dDRs2VHh4uGJjY4usm5ubq0mTJum%2B%2B%2B5TxYoV1b9/f1WtWlV79%2B4t7Vm6KZJKAACAMhIbG6vFixfbjY0bN65EiWFCQoJ8fHzk4eFhG2vRooWSk5OVlZUlNzc323hoaKjdthcuXFB2drZq165tG9u1a5e2bt2q48ePq3HjxpoxY4Zatmz5aw%2BtCJpKAAAAqUyuqRwwYIBCQkLsxry8vEq0rdVqVbVq1ezGrjWYGRkZdk3l9QzD0PTp09W6dWs98MADkiRfX185OztrwoQJqlq1qhYvXqwnnnhCn376qWrUqHGrh1UsmkoAAACpTJpKb29veXt7/%2BrtDcO4pfXz8/M1ZcoUHTlyRKtWrbKNjx071m69Z555Rps2bVJ8fLz69%2B//q%2Bu7Hk0lAACAA/L09JTVarUbs1qtcnJykqenZ5H1c3NzNWbMGOXk5Oj999//2QTSxcVFdevWLfH1nSXBjToAAABSmdyoY0bLli2Vmpqq8%2BfP28YsFouaNGmiqlWr2q1rGIYiIyNVoUIFrVixwq6hNAxDs1BcqlcAACAASURBVGfPVmJiom0sLy9PKSkptjvDSwNNJQAAgANq3ry5AgICNG/ePGVlZSkpKUkxMTEKCwuTJHXv3t32nMmNGzfqyJEjeuONN%2BTq6mq3HycnJ508eVLR0dE6c%2BaMsrOzNXfuXFWsWNH2HMvSwOlvAAAAySEffr5w4UK98MILCgoKkpubmwYOHKhBgwZJkpKTk3Xp0iVJ0tq1a3Xq1CnbjTnXhIaGaubMmZo1a5bmzJmjvn37KisrS61atdLKlStVpUqVUquVphIAAEByyKayTp06WrZsWbHLDh06ZPt%2B5cqVP7uf6tWra/bs2aVa240cb/YAAABw2yGpBAAAkBwyqbydMHsAAAAwjaQSAABAIqk0iaYSAABAoqk0idkDAACAaSSVAAAAEkmlScweAAAATCOpBAAAkEgqTaKpBAAAkGgqTWL2AAAAYBpJJQAAgERSaRKzBwAAANNIKgEAACSSSpNoKgEAACSaSpOYPQAAAJhGUgkAACCRVJrE7AEAAMA0kkoAAACJpNIkmkoAAACJptIkZg8AAACmkVQCAABIJJUmMXsAAAAwjaQSAABAIqk0iaYSAABAoqk0idkDAACAaSSVAAAAEkmlSTSVAAAAEk2lScweAAAATCOpBAAAkEgqTWL2AAAAYBpJJQAAgERSaRJNJQAAgERTaRKzBwAAANNIKgEAACSSSpOYPQAAAJhGUgkAACCRVJpEUwkAACDRVJrE7AEAAMA0kkoAAACJpNIkZg8AAACmlUtTeerUKQUEBCg5Obk83v5nbd%2B%2BXf7%2B/qW2v6%2B//lr%2B/v66fPlyqe0TAACUAWfn0n/9gdzS6e%2BQkBCdOXNGzsVM0uzZs9WrV6%2Bbbrtz5065ubkpICBAPj4%2Bslgst15tCVitVsXFxal///6lsr%2BsrCy98cYb2rp1q86ePauKFSsqMDBQkZGRpdp8AgCAcuaATeCpU6cUHR2tffv2qUqVKurRo4eioqKK7cVWrVql999/X%2Bnp6fL399fzzz%2Bvli1bSpIuX76sWbNmadu2bbp8%2BbLatm2r6Oho1ahRo9RqveXZmz59uiwWS5HXzzWUkrRixQodOHDgVxdaUrt27dJHH31UavubPHmyjhw5ohUrVmjfvn2Ki4tT3bp1NWzYMGVlZZXa%2BwAAANwoIiJCtWvXVnx8vGJiYhQfH6%2BVK1cWWe/zzz/XokWL9Nprr%2Bmrr75Sp06dNHr0aF26dEmStGDBAiUkJCg2NlaffvqpDMPQ1KlTS7XWUr1RZ9u2bZo3b55OnjypqlWrKjQ0VFFRURozZoy2bdumHTt26N///rdmzZqlzp07a8uWLWrcuLFCQkL01FNPacuWLdq/f7%2BaNWumBQsWaO7cufr888/l7e2tefPm2brtDRs26O9//7tSU1NVo0YNPfnkkxo0aJA%2B%2BeQTRUVF6cqVKwoICNCWLVvk4%2BOjxYsXa8OGDUpPT1eTJk00bdo03XfffZKkY8eOacqUKTp06JCaNGmiRx55xO6YvvzyS82ZM0cNGjSQJHl6emrq1Klq3bq1CgsLJUkpKSmKjo62Nc1BQUGaMWOGqlWrVmSOLBaLZs%2BercOHD6tSpUrq2rWrpk%2BfrooVK%2Brrr7/W6NGjNWHCBC1cuFBLly5VeHi4/u///s/2l0Rubq7at2%2BvRYsWqWPHjiX675KWlqb09HS7Ma/CQnl7eZX0P%2B0fR4UK9l/xP23alHcFjqlpU/uv%2BB8Pj/KuwDG5udl/heMog6Sy2N/BXl7y9vb%2BxW0tFosSExMVExMjd3d3ubu7Kzw8XCtXrtTw4cPt1o2NjVXfvn3VunVrSdKTTz6pVatW6YsvvlC3bt20Zs0azZkzR3Xr1pUkTZw4UT179tSZM2dUu3bt0jlY4xZ06tTJ%2BOCDD4pdlpeXZ9xzzz3Gl19%2BaVy5csVITk42OnfubMTFxRXZ9sSJE4afn59x5MgR27JevXoZR48eNdLT042goCCjU6dOxo4dO4zc3FxjxIgRxqhRowzDMIyUlBSjadOmtvf56quvjKZNmxoHDx40DMMwFi5caPTv399W1/Lly40///nPRnJysnH58mVj1apVRmBgoJGdnW0YhmEMGDDAmDRpkpGdnW0cOXLE6Nmzp%2BHn52fbvnfv3kZYWJhx/Pjxm87LkCFDjClTphiXL182zp07Z/Tp08eYPXu2YRiGsWvXLsPPz8/Izc01DMMwOnfubLzxxhtGQUGBcerUKeNPf/qTsWrVKtu6LVq0MGbMmGHk5OQYV65cMUJCQuzmPC4uzggKCjIKCgpK%2Bp/NWLhwoeHn52f3WvjGGyXeHgCAP4QrV0r9Vezv4IULS1TO6tWrjS5dutiN7du3z/Dz8zMuXrxoNx4UFGSsW7fObuzJJ580Zs%2BebSQlJRl%2Bfn5Gamqq3fLWrVsbW7du/RUTVbxbjmNmzpypV1991W6sSpUq2rp1q3Jzc1WlShU5OTmpYcOG%2Buyzz4o951%2Bc4OBgNWrUSJLUqlUrZWdnKygoSJLUsWNHffjhh5Kk%2BvXra9euXfL471/A7du3V82aNZWQkKCmxSQFa9asUXh4uBo2bChJGjJkiFauXKlt27YpMDBQe/bsUXR0tKpUqaLGjRurb9%2B%2BmjNnjm371157TVFRUeratasaNmyoBx54QMHBwQoODpaLi4skaenSpXJyclKlSpXk6empP/3pT/r%2B%2B%2B%2BLPc5169apUqVKcnFxUb169RQYGGh3WUB%2Bfr4GDRqkypUrS5JCQ0O1ceNGhYWFSZI%2B%2B%2Bwz9ejRw/beJTFgwACFhITYjXkVFkqpqSXexx9GhQqSl5eUni4VFJR3NY6lZ8/yrsAxNW0qffCBNGiQlJhY3tU4lvnzy7sCx%2BTmJt1/v7R7t8RlVEUFB5fbWxtyKvV9Fvs7uIRnCq1Wa5Gzntf6n4yMDLldl3ZbrVbbsuvXzcjIkNVqlaQi%2B6pWrZoyMjJKdiAlcMtN5fTp020Nzo3Gjh2rwYMHq1WrVgoKClLfvn1tMesvqVOnju17V1dXu4lydXVVXl6eJMnJyUmrV6/WmjVrlJaWJsMwlJeXZ1t%2Bo5SUFM2aNcuuEb5y5YpSU1N15swZSVcb1WuuNZ/XNG3aVJs3b9aBAwe0c%2BdOffPNN5owYYL8/f21atUqVa1aVQcOHNC8efN06NAh5efnq7Cw0Haq/ka7du3SkiVLdOzYMRUUFKigoEDdu3e3W6devXq27/v06aO33npLp06dkre3t7Zt26Z3333356ayCG9v76Ix%2B/Hj0k3mDLraUDI/9vbsKe8KHFtiInN0o8zM8q7AsWVlMUcO5sqV0t9nsb%2BDb4FhGKW27q3s69co1YsHxo0bp61bt6pnz57avXu3evToof3795eskBsSzZslnB999JGWLl2qmTNnas%2BePbJYLHYN6Y0qV66sefPm2d1UlJCQoBEjRtga0WvXRkpXG87itGzZUk899ZSWLVumDRs26OjRo1q3bp0yMzM1cuRI3Xvvvdq%2BfbssFotGjhxZ7D6SkpI0YcIEPfroo9q5c%2BdNb3CqcN31fA0aNFDr1q21efNmffPNN/L09FRAQMBNjxcAAPw%2BeHp62lLGa6xWq5ycnOTp6Wk3XqNGjWLX9fT0tK174/LMzEzVrFmz1Oot1abSarWqdu3aevzxxxUTE6Pu3btr/fr1pfkWslgsuv/%2B%2B9WuXTu5uLgoPT1daWlpN13f19dXhw4dshs7efKkJNn%2Bcki97jRwUlKS7fvDhw9r5syZRRrNu%2B66S/Xr11dOTo6OHj2q7OxsjRgxwpau/vDDD8XWcvDgQVWqVElDhw5V5cqVZRiGDh48%2BIvH3KdPH/373//WJ598ot69e//i%2BgAA4NZduVL6LzNatmyp1NRUnT9/3jZmsVjUpEkTVa1atci6CQkJtp8LCwv1ww8/qHXr1vL19ZWHh4fd8sOHDysvL%2B%2BmZ1Z/jVJrKvfs2aOHH35Y%2B/fvl2EYOnfunJKTk213Tbu6uiolJUUXL1409T4%2BPj46evSoMjMzderUKc2cOVP16tWzncp2dXVVenq6rFar8vLyNHDgQL3//vvau3evCgsLtWXLFvXq1UunT59W/fr11bhxYy1fvlw5OTk6fPiwXRNcq1Ytbdy4US%2B%2B%2BKJOnz4twzCUlZWlVatW6dixY3rwwQdVr149OTs7a8%2BePbp06ZJWrFihs2fP6uzZsyq44Zo8Hx8f5ebm6uDBg8rMzNTf/vY3VapUyXYa/2Z69OihI0eO0FQCAPAH0rx5cwUEBGjevHnKyspSUlKSYmJibJchdu/eXbt375YkhYWFad26ddq7d69ycnL01ltvqVKlSrZ7QB577DHbk3MyMjI0f/58de3aVbVq1Sq1em%2B5qZw5c6YCAgKKvP75z3/q6aef1sSJE9W6dWs9%2Buijat26tR5//HFJ0mOPPaYPPvhAgwcPNlVwWFiY7rzzTj300EMaOXKkBg8erMGDBysmJkbvv/%2B%2BunTpIsMwFBwcrAMHDqhfv34aNGiQxo0bp/vuu0/vvPOOFi9ebLtuceHChTp69Kjat2%2BvqVOnasSIEbb38vT01AcffKDs7GwNGDBArVq1UnBwsLZt26aYmBj5%2Bfmpdu3amjRpkqZNm6ZOnTopMzNTc%2BfOVV5engYNGmRXe5s2bfT4449r8ODB6tmzp3x8fDRt2jQdPnxYkZGRNz3matWqKTg4WE2aNLE16QAAoHQ5WlIpXe1T0tLSFBQUpKFDh6pPnz62/iI5Odn2HMoHH3xQkyZN0sSJE/XAAw/oq6%2B%2B0tKlS203/o4fP16tW7dWaGioOnfurKpVq2rWrFnmC7yOk1HWV22iVAwePFihoaGl9klBOn68dPbze1OpklS37tU747lRx94NN7Hhv9q0kb7/Xrr3Xm7UudG6deVdgWPy8Lh6h/O2bdyoU5zQ0HJ765yc0t/nHXeU/j4dFU94dnCGYWj16tU6deoUp74BAIDDoql0cNcusH3jjTdsETYAACh9ZfFIoT8SmkoHV9JHMgEAAJQnmkoAAACRVJpFUwkAACCaSrNK9eHnAAAA%2BGMiqQQAABBJpVkklQAAADCNpBIAAEAklWbRVAIAAIim0ixOfwMAAMA0kkoAAACRVJpFUgkAAADTSCoBAABEUmkWTSUAAIBoKs3i9DcAAABMI6kEAAAQSaVZNJUAAACiqTSL098AAAAwjaQSAABAJJVmkVQCAADANJJKAAAAkVSaRVMJAAAgmkqzOP0NAAAA00gqAQAARFJpFkklAAAATCOpBAAAEEmlWTSVAAAAoqk0i9PfAAAAMI2kEgAAQCSVZpFUAgAAwDSSSgAAAJFUmkVTCQAAIJpKszj9DQAAANNIKgEAAERSaRZJJQAAAEwjqQQAABBJpVk0lQAAAKKpNIvT3wAAADCNpBIAAEAklWaRVAIAAMA0kkoAAACRVJpFUgkAAKCrTWVpv8qS1WrVxIkT1aFDB3Xs2FHPP/%2B8cnNzb7r%2BZ599pkceeURt2rRRt27d9M9//tO2bNGiRWrWrJkCAgLsXmfPni1xPTSVAAAAt6EXXnhBOTk52rRpk9auXaukpCTNnTu32HX379%2BvyZMna/z48fr22281bdo0vfzyy9q9e7dtndDQUFksFrtXrVq1SlwPp78BAABUNsliWlqa0tPT7ca8vLzk7e1tar9nz55VfHy8/vWvf8nT01OSNGbMGE2YMEHPPfecKlasaLe%2B1WrVqFGj1KVLF0nSQw89JD8/P%2B3evVv333%2B/qVquoakEAAAoI7GxsVq8eLHd2Lhx4xQREWFqvwcPHpSLi4v8/f1tYy1atNClS5d09OhRu3FJevDBB/Xggw/afi4oKFB6erpq165tGzt06JAGDhyow4cPq27dupo6dao6duxY4ppoKgEAAFQ2SeWAAQMUEhJiN%2Bbl5WV6v1arVW5ubnJycrKNeXh4SJIyMjJ%2Bcfu5c%2BeqSpUq6tGjhySpTp068vX1VVRUlLy9vRUbG6vRo0drw4YNuuuuu0pUE00lAACAyqap9Pb2/tWnutevX69nn3222GWRkZEyDOOW92kYhubOnatNmzZp1apVcnV1lST1799f/fv3t60XHh6uzZs3a8OGDZo4cWKJ9k1TCQAA4IBCQ0MVGhpa7LIvv/xSWVlZKiwslIuLi6Sr6aUk1axZs9htrly5oqlTp2r//v1avXq1fH19f/b9fXx8lJaWVuJ6ufsbAABAt9cjhZo1aybDMJSYmGgbs1gsqlatmho1alTsNq%2B%2B%2Bqp%2B/PHHYhvKN998Uzt37rQbS0pK%2BsXG83o0lQAAALcZT09PdevWTa%2B//rrOnz%2Bvn376SUuWLFG/fv1UocLVE9HDhg3Tli1bJEnfffedNmzYoKVLl6p69epF9me1WhUdHa2jR4/q8uXLWr58uVJSUvToo4%2BWuCZOfwMAAOj2%2B0Sdl19%2BWS%2B99JI6d%2B6sihUrqlevXoqMjLQtP3HihDIzMyVJa9eu1cWLF9WpUye7fQQGBmr58uWKioqSdPVaSqvVqiZNmmjFihWqU6dOietxMn7NVZ64/R0/Xt4VOKZKlaS6daXUVCkvr7yrcSwNG5Z3BY6pTRvp%2B%2B%2Ble%2B%2BV9uwp72ocy7p15V2BY/LwkIKDpW3bpP/%2Bwsd1bnIN4W/hk09Kf58PP1z6%2B3RUnP4GAACAaZz%2BBgAA0O13%2BtvRkFQCAADANJJKAAAAkVSaRVMJAAAgmkqzOP0NAAAA00gqAQAARFJpFk0lAACAaCrN4vQ3AAAATCOp/KOKji7vChxTgwbSjBnS229LKSnlXY1j4dNRiufhcfXr/Pl8OsqN%2BvQp7woc07VPYZo0iU9hKk45ftAfSaU5JJUAAAAwjaQSAABAJJVm0VQCAACIptIsTn8DAADANJJKAAAAkVSaRVIJAAAA00gqAQAARFJpFk0lAACAaCrN4vQ3AAAATCOpBAAAEEmlWSSVAAAAMI2kEgAAQCSVZtFUAgAAiKbSLE5/AwAAwDSSSgAAAJFUmkVSCQAAANNIKgEAAERSaRZNJQAAgGgqzeL0NwAAAEwjqQQAABBJpVkklQAAADCNpBIAAEAklWbRVAIAAIim0ixOfwMAAMA0kkoAAACRVJpFUgkAAADTSCoBAABEUmkWTSUAAIBoKs3i9DcAAABMI6kEAAAQSaVZJJUAAAAwjaYSAABAV5PK0n6VJavVqokTJ6pDhw7q2LGjnn/%2BeeXm5ha77scff6ymTZsqICDA7rV///7/HvsVLViwQJ07d1ZgYKBGjBihEydO3FI9NJUAAAC6/ZrKF154QTk5Odq0aZPWrl2rpKQkzZ0796brBwYGymKx2L1atWolSXr//fe1ceNGLV26VF988YUaNmyosWPHyjCMEtdDUwkAAHCbOXv2rOLj4xUZGSlPT0/Vrl1bY8aM0dq1a5Wfn3/L%2B4uNjVV4eLgaN24sNzc3RUZGKikpSfv27SvxPrhRBwAAQGWTLKalpSk9Pd1uzMvLS97e3qb2e/DgQbm4uMjf39821qJFC126dElHjx61G78mNTVVw4cP14EDB1StWjWNHz9eoaGhys3N1ZEjR9S8eXPbum5ubrrzzjtlsVh0zz33lKgmmkoAAIAyEhsbq8WLF9uNjRs3ThEREab2a7Va5ebmJicnJ9uYh4eHJCkjI6PI%2Bp6enmrYsKEmTZqkJk2aKC4uTs8%2B%2B6y8vb111113yTAM2/bX76%2B4fd0MTSUAAIDKJqkcMGCAQkJC7Ma8vLxKtO369ev17LPPFrssMjLylq53DA4OVnBwsO3nnj17Ki4uTh9//LEmT54sSbe0v%2BLQVAIAAKhsmkpvb%2B9ffao7NDRUoaGhxS778ssvlZWVpcLCQrm4uEi6ml5KUs2aNUu0fx8fHx04cEDVq1eXs7OzbftrrFZrifclcaMOAADAbadZs2YyDEOJiYm2MYvFomrVqqlRo0ZF1l%2B9erW2bNliN5aUlCRfX1%2B5urrq7rvvVkJCgm3ZhQsXlJKSYrs7vCRoKgEAAHR7PVLI09NT3bp10%2Buvv67z58/rp59%2B0pIlS9SvXz9VqHD1RPSwYcNsjWReXp5eeeUVWSwW5efna9OmTdq%2BfbsGDhwoSQoLC9OqVauUlJSkrKwszZ07V82aNVNAQECJa%2BL0NwAAwG3o5Zdf1ksvvaTOnTurYsWK6tWrlyIjI23LT5w4oczMTEnS0KFDlZ2drQkTJig9PV3169fXkiVL1LJlS0nSwIEDlZ6eriFDhig7O1tt27YtcoPRL6GpBAAA0O332d/u7u6aP3/%2BTZd//vnntu%2BdnJw0ZswYjRkzpth1nZycNH78eI0fP/5X10NTCQAAoNuvqXQ0XFMJAAAA00gqAQAARFJpFk0lAACAaCrN4vQ3AAAATCOpBAAAEEmlWSSVAAAAMI2kEgAAQCSVZtFUAgAAiKbSLE5/AwAAwDSSSgAAAJFUmkVSCQAAANNIKgEAAERSaRZNJQAAgGgqzeL0NwAAAEwjqQQAABBJpVkklQAAADCNpBIAAEAklWbRVAIAAIim0ixOfwMAAMA0kkoAAACRVJpFUgkAAADTSCoBAABEUmkWTSUAAIBoKs3i9HcJfP311/L399fly5fLuxTNnTtXQ4YMKe8yAAAA7Ny2SWVISIjOnDkjZ%2BerfXGlSpXk7%2B%2BviRMn6oEHHijn6gAAwO2GpNKc2zqpnD59uiwWiywWi3bs2KEuXbpo5MiROnHiRHmXBgAA8Idy2yaVN7rjjjv0xBNP6MMPP9T27dv17rvv6qmnnlJYWJgkafv27Xrqqad06NAhSZK/v7%2BmTp2qd955R0OHDtXIkSO1Y8cOvfbaa0pJSdGdd96pKVOmqH379rb3%2BO677zRr1iwdP35c7du31/z58%2BXu7i7DMDRv3jxt3LhRFy5cUMOGDTVt2jQFBgZKkrZt26Z58%2Bbp5MmTqlq1qkJDQxUVFSVnZ2dZrVbNnDlTu3btUnZ2ttq1a6cZM2aodu3akqTPP/9cc%2BbMUVpamh566CHVqlXrlucmLS1N6enpdmNe7u7yrlHjV83171rduvZf8T8eHuVdgWNyc7P/iv9p06a8K3BMTZvaf4XDIKk053fTVF5TWFgoFxeXEq0bHx%2BvdevWqWbNmjpz5owiIiI0a9Ysde3aVRs3btTYsWP1%2Beef29bftGmTVq9erczMTD322GNas2aNhg8frvXr12vdunVas2aNvLy89NZbb2n8%2BPHasWOHrly5osjISC1ZskTt27fX8ePH9eSTT6pNmzbq0qWLpkyZogoVKmjz5s1ycXHRSy%2B9pKlTp2r58uW6cOGCIiMjNXnyZA0YMEA7d%2B5UVFSUmjVrdktzEhsbq8WLF9uNjRs7VhHjx9/Sfv5QRo0q7wpwu7n//vKuwPF8/315V%2BDYPvigvCvADWgqzfndNJXZ2dn68MMPdf78eT300ENaunTpL27z8MMP25K/Tz75RL6%2BvurRo4ckqW/fvnJ1ddWV6/6FPfHEE6pWrZqqVaume%2B65R8nJyZKk3r17q3PnznJ3d5ck9ezZU4sWLdLp06dVo0YN5ebmqkqVKnJyclLDhg312WefydnZWefOndMXX3yhLVu2yOO/KdDkyZMVHBys9PR0ffvtt6pSpYoef/xxOTs766GHHtL999%2Bv7OzsW5qbAQMGKCQkxG7Ma%2BlSacaMW9rPH0LdulcbyrffllJTy7saxxIcXN4VOCY3t6sN5e7dUlZWeVfjWCZNKu8KHFPTplcbykGDpMTE8q7G8fDHyG3rtm4qZ86cqVdffVWSVLlyZTVr1kwrVqxQ3RKeuqxXr57t%2B5SUFNWvX99uec%2BePe1%2Bvn555cqVlZeXJ0nKycnRq6%2B%2Bqu3btyszM9O2Tl5entzc3DR27FgNHjxYrVq1UlBQkPr27au6devarv3s06eP3fu4uLgoNTVVP/30k%2BrWrWu7GUmSGjZsqISEhBId3zXe3t7y9va2H7x48eoLxUtNlVJSyrsKx3Ldv20UIyuLObrRnj3lXYFjS0xkjhwMSaU5t3VTOX36dNs1k7/kSjH/Uq4/Te7s7FzsOtdzcnIqdjw6OlqHDh3S%2B%2B%2B/rzvvvFMnTpxQ165dbcvHjRun/v37Kz4%2BXvHx8XrnnXe0cuVKVa5cWdLV6z1rFHN941dffaXCwsJfPA4AAIDy9v/t3Xt0zHf%2Bx/HXRIgKookkSEJUu2VdEtdiqYoodcuKlqKXU9pq3EWLrVV6senF9RS1dXcq665xKV23WEWq2SIRcWyxccsNSYiQkcn8/rCdn6BkOuE75Pk4J%2BdkPt/vzLyOM%2Ba88/58Pt/vQ737%2B27KlSuna9eu2R6fukfXyd/f3zad/atvvvmmWDvJExIS1KNHDwUGBspkMt3WSczOzpavr6/69%2B%2BvRYsWqXPnzoqJiZGfn59cXFxsm4ck6fr160pPT5d0o8OYnp4uq9VqO378%2BPF75gEAAPYrLCz5n9LkkS0qAwMDFRsbq2vXriklJUUbNmy46/ndunVTamqqVq5cKbPZrE2bNmnatGlyd3e/53v5%2B/srMTFRZrNZBw8e1KZNmyTd2HV94MABvfDCC0pISJDVatWFCxd08uRJ1axZU5UqVVKXLl00ZcoUpaWl6dq1a5o2bZoGDBggq9Wq1q1bKzc3V8uXL5fZbNa2bdt06NChEvn3AQAARVFUOuaRLSpHjhypixcv6plnntHYsWM1cODAu55ftWpVLViwQIsXL1bz5s319ddfa/bs2fL09Lzne40ePVrHjx9XixYtNH36dE2YMEEdO3bU4MGDVa5cOUVERGjkyJEKCgpSz549FRQUpP79%2B0uSJkyYoFq1aqlr165q27atfvnlF82ZM0cmk0nVqlXT1KlTtXDhQrVo0ULr169Xv379SuTfBwAAoCSZrDfPraL0GDDA6ATOqWbNG7viJ01io86twsKMTuCcPDxu7IyPjWWjzq1u2YSI/2nc%2BMYO5yZN2KhzJwaWJd27l/xr3mOi9JHyyHYqAQAApcQWWQAAHGlJREFU8OA81Lu/AQAASkppWwNZ0igqAQAARFHpKKa/AQAA4DA6lQAAAKJT6Sg6lQAAAHAYnUoAAAA9fJ3K7OxsTZo0Sfv375eLi4vatWunCRMm2G4DfbO//vWviomJKTJmsVgUFhamqKgojRs3TuvXry9yC2s3NzfFx8cXOw%2BdSgAAAD18d9SZMGGCrl69qo0bN2rNmjU6fvy4pkyZcsdzP/nkEyUmJtp%2BDhw4oCeeeEKdO3e2nRMREVHkHHsKSomiEgAA4KFz/vx5bdu2TaNGjZKnp6d8fX01ePBgrVmzRtevX7/n85csWaIaNWqoXbt2JZaJ6W8AAADdn85iRkaGMjMzi4x5e3vLx8fHoddNTk5WmTJl9PTTT9vG6tevr7y8PJ04caLI%2BK0uXbqkuXPnKjo6ush4XFyctm/frpSUFNWpU0eTJk1SgwYNip2JohIAAED3p6hcsWKFZs2aVWRs6NChGjZsmEOvm52drYoVK8pkMtnGPDw8JElZWVl3fe4333yj5s2b66mnnrKNBQQEyMXFRSNGjJC7u7tmzZqlAQMG6Pvvv9fjjz9erEwUlQAAAPdJnz59FBISUmTM29u7WM%2BNiYnRmDFj7nhs1KhRsv6O%2B6RbLBYtW7ZMU6dOLTI%2BZMiQIo/fe%2B89bdy4Udu2bdNLL71UrNemqAQAAND96VT6%2BPj87qnusLAwhYWF3fHYnj17lJubK4vFYtuxnZ2dLUny8vL6zdf86aefZDab1axZs7u%2Bd5kyZVS9enVlZGQUOy8bdQAAAB4y9erVk9Vq1dGjR21jiYmJqly5smrXrv2bz9u%2BfbtatmwpV9f/7ytarVZFRUUVeS2z2axTp04pICCg2JkoKgEAAPRwXVLI09NTnTp10owZM3Tx4kWlpaVp9uzZevHFF20F4%2Buvv67vvvuuyPOSk5Pl7%2B9fZMxkMunMmTP68MMPlZ6eritXrmjKlCkqW7asQkNDi52JohIAAEAPV1EpSR999JEqVaqkDh06qEePHmrUqJFGjRplO3769Gnl5OQUeU5mZqaqVq1622tNnjxZgYGBCg8PV%2BvWrZWcnKwlS5aoQoUKxc7DmkoAAICHUKVKlTRt2rTfPL5jx47bxr7//vs7nlulShVFRUU5lIeiEgAAQA/fbRqdDdPfAAAAcBidSgAAANGpdBRFJQAAgCgqHcX0NwAAABxGpxIAAEB0Kh1FpxIAAAAOo1MJAAAgOpWOoqgEAAAQRaWjmP4GAACAw%2BhUAgAAiE6lo%2BhUAgAAwGF0KgEAAESn0lEUlQAAAKKodBTT3wAAAHAYnUoAAADRqXQUnUoAAAA4jE4lAACA6FQ6iqISAABAFJWOYvobAAAADqNTCQAAIDqVjqJTCQAAAIfRqQQAABCdSkdRVAIAAIii0lFMfwMAAMBhdCoBAABEp9JRdCoBAADgMDqVAAAAolPpKIpKAAAAUVQ6iulvAAAAOIxOJQAAgOhUOopOJQAAABxGpxIAAEB0Kh1FUQkAACCKSkcx/Q0AAACH0akEAAAQnUpHUVQCAACIotJRTH8DAADAYXQqAQAARKfSUXQqAQAA4DA6lQAAAKJT6SiKSgAAAFFUOorpbwAAgIdUYmKiOnbsqN69e9/z3KVLl6pTp05q0qSJ%2Bvbtq8OHD9uO5efn64MPPtCzzz6rZ555RsOHD1dWVpZdWSgqAQAAdKNTWdI/99P69es1bNgw1apV657n7tixQ19%2B%2BaU%2B//xz7d27V%2B3bt9c777yjvLw8SdL06dOVlJSkFStW6Pvvv5fVatVf/vIXu/JQVAIAADyE8vPztWLFCgUFBd3z3BUrVig8PFxBQUEqX7683nzzTUnSzp07VVBQoNWrV2vw4MGqXr26qlSpopEjRyo2Nlbp6enFzsOaSgAAAN2fzmJGRoYyMzOLjHl7e8vHx8fh137ppZeKfW5SUpK6dOlie%2Bzi4qJ69eopMTFR9erV0%2BXLl1W/fn3b8Tp16qh8%2BfJKSkqSr69vsd6DorK0WrjQ6AROKSMjQyu%2B/FJ9Bg8ukf/wePTZPjN9%2BvCZuZXVanQCp2T7zGzZwmfGydyPj%2ByXX67QrFmziowNHTpUw4YNK/k3u4vs7Gx5eHgUGfPw8FBWVpays7MlSZUrVy5yvHLlynatq6SoBG6SmZmpWbNmKSQkhC97FAufGdiLz0zp0qdPH4WEhBQZ8/b2LtZzY2JiNGbMmDsei4qKUnh4uF1ZrPeomu91/F4oKgEAAO4THx%2Bf3/3HQ1hYmMLCwkokx%2BOPP27rSP4qOztbTz31lDw9PW2P3d3dbcdzcnLk5eVV7Pdgow4AAMAjrkGDBkpKSrI9tlgsOnLkiIKCghQQECAPD48ix48dOyaz2awGDRoU%2Bz0oKgEAAB5BnTt3Vnx8vCSpb9%2B%2B%2Bvbbb3Xw4EFdvXpVX331lcqVK6fnnntOZcqUUe/evTV37lylpqYqKytL06ZNU8eOHVW1atVivx/T38BNvL29NXTo0GKvdwH4zMBefGZQUjp16qRz587JYrGosLBQDRs2lCRt2bJFfn5%2BOnnypO06lM8%2B%2B6wiIyM1cuRIXbhwQQ0bNtTXX3%2Bt8uXLS5KGDx%2BuK1euKCwsTAUFBWrfvr0mTZpkVx6T1dFVmQAAACj1mP4GAACAwygqAQAA4DCKSgAAADiMohIAAAAOo6gEAACAwygqAQAA4DCKSgAAADiMohIAAAAOo6gEAACAwygqAQAA4DCKSuB/srKyjI4AAMBDi6ISpdqVK1f0wQcfKDg4WG3btpUkZWdna9CgQbp48aLB6eCs9u7dK6vVanQMAHAqJivfjCjFxo4dq4yMDA0ZMkQDBgxQQkKCrdC0Wq2aNm2a0RHhhBo3bqyKFSuqa9eu6t69u%2BrXr290JDihV199VSaTqVjnLl269D6nAe4/V6MDAEaKjY3V5s2b5enpafvyd3d318SJE9WpUyeD08FZxcXFaffu3dq6dasGDBggLy8vde/eXd26dVNAQIDR8eAkgoODbb9fvXpVMTExatq0qWrXrq3CwkL98ssvSkhIUL9%2B/QxMCZQcikqUaiaTSRUrVrxt3GKxKD8/34BEeBi4ubkpNDRUoaGhKigo0P79%2B7V582aFh4erTp066t27t7p166Zy5coZHRUGGj16tO33yMhITZ06Vc8%2B%2B2yRc7Zt26aNGzc%2B6GjAfcGaSpRqjRs31ueff65r167Zxs6ePavx48erRYsWBibDwyIzM1NJSUlKSkqS2WyWr6%2Bv1q1bp86dOyspKcnoeHASsbGxat269W3j7dq1065duwxIBJQ8OpUo1SZMmKDBgwerWbNmKigoUNOmTZWXl6fg4GDWU%2BI35eTkaMuWLdqwYYMOHDigoKAg9enTR126dFGlSpUkSdHR0Ro3bpw2bNhgcFo4Ax8fH61YsUL9%2B/cvMr527Vp5e3sblAooWWzUASQlJCTozJkzcnNzU82aNfXUU08ZHQlOrEGDBqpevbp69OihP//5z7%2B5jjIoKEiHDh16wOngjHbs2KHIyEi5u7urevXqslgsSk9P1%2BXLlzVt2jR17NjR6IiAwygqUaqdO3fuN4%2B5uLioatWqcnWloY%2Bi4uPj1axZM6Nj4CFz%2BfJl7d69W%2Bnp6TKbzfLx8VHr1q3l6%2BtrdDSgRFBUolSrW7fuXS/54eLiotatW%2BuTTz7hix82zZo10969e9mIA7tduHBBqampatCggdFRgBJHUYlSbdeuXZo5c6ZefvllNWzYUCaTSYmJiVq9erXeeecdPfbYY1q8eLFcXV01a9Yso%2BPCSSxZskSnTp1Sv379VKNGDZUpU6bIcYpN3Co9PV3vv/%2B%2B9uzZI1dXVx0%2BfFgZGRkaOHCg5syZw6Wo8EigqESp1rNnT82YMUO1atUqMn7y5EmNHz9e0dHRunz5sp5//nnt27fPoJRwNo0bN1ZBQYEKCgrueDw5OfkBJ4KzGzJkiCpUqKDIyEh16tRJCQkJKigo0NSpU3XixAn9/e9/Nzoi4DAWi6FUO3HihDw9PW8b9/b21pEjR2yPCwsLH2QsODkKANgrLi5O//rXv%2BTu7m5bcuPq6qoRI0aoXbt2BqcDSgZFJUq14OBgRUREaMCAAapRo4bKli2rs2fPatGiRXryySdVUFCgYcOGqVWrVkZHhRO52zVMIyMjucYpbvPYY4/d8X7xOTk5slgsBiQCSh5FJUq1GTNm6P3339eIESN0/fp1SVKZMmXUvHlzffTRR3J1dZWfn5/GjBljcFI4E4vFouXLl%2Bvw4cMym8228YyMDB07dszAZHBWLVu21Pvvv69Ro0ZJki5duqSjR49qypQpeu6554wNB5QQ1lQCkqxWq7Kzs2W1WnXkyBGtXbtW27dv5xqDuKNJkyZp586datasmbZs2aKuXbsqOTlZ5cqV0/jx49WkSROjI8LJ5OTkaOzYsYqNjZV04xaxJpNJXbp00YQJE%2BTh4WFsQKAEUFQCunG9yrVr12rdunXKzMxUSEiIwsPDb7tPLyBJbdq00erVq1WtWjU1atRICQkJslqtmjJlivz9/dW3b1%2BjI8JJXbx4UadPn5abm5v8/f1VsWJFoyMBJYbpb5RaZrNZ27Zt06pVq7R//34FBQUpIyNDq1atUt26dY2OByeWn5%2BvatWqSbqxXMJsNqtcuXJ6%2B%2B231b17d4pK3NH27dvVoUMHeXp6KjExUTNmzFBgYKD69esnFxcXo%2BMBDuNTjFLp448/Vtu2bTVz5kw1bdpUW7ZsUXR0tFxdXeXu7m50PDi5P/zhD5o1a5auX7%2Bu2rVra9WqVZKk1NRU5eXlGZwOzmjKlCn67LPPJElpaWl6/fXXdeXKFW3atElffPGFwemAkkFRiVJp2bJlatOmjebNm6ehQ4dy4WHYZdy4cYqJidH169c1ePBgRUVFqUmTJurVq5fCw8ONjgcnFBMTo/nz50uS1q5dq%2BDgYEVFRWnWrFnavHmzwemAksH0N0ql%2BfPna/Xq1erevbvq1aunsLAwvfDCC0bHwkOiYcOG2rp1qyQpNDRUMTExOnr0qPz8/BQcHGxwOjij3Nxc1axZU5K0Z88ede3aVZLk5eWl7OxsI6MBJYaiEqVSmzZt1KZNG2VlZSkmJkbR0dGaPHmyCgsLFRcXp%2BrVq8vVlf8e%2BH83XzroVgEBAbZu96/rK4GbBQQEKC4uThUqVFBCQoKmT58uSUpMTJSXl5fB6YCSwe5v4H8OHjyoVatWafPmzSpfvrx69OihcePGGR0LTqJu3bq2O6HcC7dpxK1iY2M1atQomc1mRUREaOjQocrJydELL7ygwYMH65VXXjE6IuAwikrgFnl5edq0aZPWrFmj5cuXGx0HTmL//v3FPpc76uBOCgoKlJ%2BfX2Qz4MGDB%2BXm5qZ69eoZmAwoGRSVAFBCLBaL%2Bvfvzx8juCOr1apz584VWUqRlpamIUOG6OeffzYwGVAyWDQGAHbKzc3V7NmzdfjwYdvtPSXp/Pnzd117idIrPj5ew4cPV1ZW1m3HQkNDDUgElDwuKQQAdpo4caJ%2B/PFHNWnSRImJiWrVqpU8PDzk4eGhpUuXGh0PTuhvf/ub%2Bvfvr%2B%2B%2B%2B06urq765z//qWnTpik0NFQTJkwwOh5QIpj%2BBgA7tWzZUlu2bFGVKlVst2mUpCVLlujSpUsaNmyYwQnhbBo3bqyff/5ZJpOpyGfm4MGDmjlzphYtWmRwQsBxdCoBwE5Wq1WVKlWSJJUtW9Z2F53evXsrOjrayGhwUh4eHsrMzJQkVa5cWadPn5Yk1a9fXwcPHjQyGlBiKCoBwE4NGzbUxIkTZTab9fTTT2vu3LnKyspSXFycCgsLjY4HJ9StWzf16tVLubm5atu2rYYNG6aFCxdqzJgx8vf3NzoeUCKY/gYAO506dUoTJkzQvHnzlJCQoEGDBikvL08uLi6KjIzUwIEDjY4IJ/Ttt98qLCxMV65c0YcffqjExET5%2Bfnp3Xff5ZJCeCRQVAKAgy5duqQTJ06oevXq8vX1NToOABiCSwoBgB3y8vJksVhsayqvXr2qTZs26erVq2rXrh1FJe4oNzdXq1ev1smTJ%2B942amoqCgDUgElizWVAFBMx44dU2hoqHbu3ClJKiws1GuvvabPP/9c69atU3h4OBexxh1FRkbq66%2B/VmZmpvLz82/7AR4FdCoBoJimT5%2Buzp07q0uXLpJu3M85OTlZGzduVGBgoJYuXarZs2drwYIFBieFs9m3b5%2B2bNkiPz8/o6MA9w2dSgAopl/viuLqeuPv8djYWP3pT39SYGCgJCk8PFyJiYkGJoSzqlWrljw8PIyOAdxXFJUAUExms1lVqlSxPd6/f79atGhhe1yxYkWmMmFjNpttP%2BPHj9enn36qEydOFBn/9Qd4FDD9DQDFVLVqVZ05c0b%2B/v46ffq0UlJS1KpVK9vx1NRUulGwadSokUwmk%2B2x1WrVmjVr7nhucnLyg4oF3DcUlQBQTCEhIZo4caJeeuklffPNN3ryySf1xz/%2B0Xb8q6%2B%2BUvPmzQ1MCGfCfeBR2nCdSgAoptzcXL377rvau3evateurc8%2B%2B0x169aVJE2ePFkbNmxQdHS0nnjiCYOTwhldunRJFotFjz/%2BuCTpzJkzcnd3tz0GHnYUlQBQAv7zn//Iy8tLnp6eRkeBE4qLi9PQoUP10Ucf2a4esGzZMk2fPl2zZ8/WM888Y3BCwHEUlQAA3Gc9e/bUa6%2B9pp49exYZ37Rpk%2BbPn69169YZlAwoORSVAFAMdevWLbLp4m7YdIFbNW7cWPHx8SpTpkyR8evXr6tFixY6cOCAQcmAksNGHQAohnnz5tl%2BT0lJ0YoVKxQeHq7AwEAVFhbql19%2B0fr16/Xmm28amBLOqmbNmtq6das6d%2B5cZPzbb79VjRo1DEoFlCw6lQBgpz59%2BujTTz9V7dq1i4wfO3ZM48eP16pVqwxKBmf1ww8/aNiwYapVq5b8/f1VWFiokydPKjU1VfPnz1ezZs2Mjgg4jKISAOzUuHFjxcXFyc3Nrcj4tWvX1KpVK6YycUfp6enavHmzTp8%2BLZPJpICAAHXr1k1eXl5GRwNKBEUlANipb9%2B%2B8vf316BBg%2BTn5yeLxaLU1FQtXLhQx48f18qVK42OCCczb948vfXWW0bHAO4rikoAsFNKSorGjh2rgwcP2jbvWK1WPfnkk5o5c6bq1KljcEI4mzZt2mj9%2BvVccgqPNIpKAPidzp8/r/T0dJnNZvn4%2BMjPz8/oSHBSixcv1vbt29WlSxfVqFHjtl3gbdq0MSgZUHIoKgHgd7h27Zp27typtLQ0vfHGG5KktLQ0VatWzeBkcEa/3nnpTkwmE5ehwiOBohIA7PTzzz8rIiJClStXVmpqqg4fPqyzZ8%2BqW7dumjNnjlq1amV0RAB44FyMDgAAD5uoqCgNHz5cW7dulYvLja9RPz8/TZ48WVOmTDE4HQAYg04lANgpODhY8fHxcnV1VVBQkA4dOiRJKiwsVNOmTbmkEG5zrzsyMf2NRwF31AEAO3l7eys1NVUBAQFFxhMTE1WxYkWDUsGZ3XxHJunGHyApKSnauHEjd2HCI4OiEgDs1L17d7311lt64403VFhYqG3btuno0aNatmyZ%2BvXrZ3Q8OKG2bdvecbxdu3YaN26cnn/%2B%2BQecCCh5TH8DgJ2sVqsWL16sNWvW6NSpUypfvrwCAgL08ssv68UXX7zrNCdws/z8fLVs2ZIlE3gkUFQCgJ3OnDkjf3//28bNZrOOHDmi4OBgA1LBma1YseK2satXr2rXrl26ePGiYmJiDEgFlCyKSgCw082bc26Wk5Oj5557jq4TbhMSEnLbmJubm2rVqqWRI0fe9TqWwMOCNZUAUEyrVq3S6tWrdf36db388su3Hc/IyFCVKlUMSAZndubMGb355ptydXVVu3bt5Ovra3Qk4L6gUwkAxZSTk6N9%2B/Zp9OjRioiIuO24m5ubQkNDVbt2bQPSwRn99NNPevvtt%2BXj4yOLxaKsrCwtXrxYDRs2NDoaUOIoKgHATlu2bFHnzp3veCw6Opod4LB55ZVX1KFDB9utPBcsWKDdu3dr8eLFxgYD7gOKSgD4HY4dO6akpCSZzWbbWHp6uhYtWsSaStg0b95cP/zwg9zc3CRJeXl5at%2B%2BvX788UeDkwEljzWVAGCnf/zjH/r444/l5eWl8%2BfPy9fXVxkZGfLz89OIESOMjgcnYjabbQWlJFWoUEHXrl0zMBFw/3DvbwCw04IFC7Rw4ULt3r1bZcuWVWxsrHbt2qX69eurQYMGRscDAEPQqQQAO124cEEtW7aUJLm4uMhqtcrb21vvvfee3nnnHW3YsMHghHAWFotFK1eu1M0rze401qdPHyPiASWKohIA7FSjRg3FxcWpZcuW8vb2Vnx8vJo3b65KlSrpzJkzRseDE/Hx8dHcuXPvOmYymSgq8UigqAQAOw0aNEgDBw5UXFycevXqpYiICDVr1kwnTpxQ06ZNjY4HJ7Jjxw6jIwAPDLu/AeB3uPlWjatWrVJiYqL8/f3Vt29fVapUyeB0APDgUVQCAADAYUx/A4Cdjhw5oi%2B//FIpKSnKz8%2B/7fj27dsNSAUAxqKoBAA7jR49Wv7%2B/urTp0%2BRaxACQGlGUQkAdkpPT1dMTIzKlStndBQAcBpc/BwA7BQSEqJ///vfRscAAKfCRh0AsFNaWppeeeUVBQQEyNfXVyaTqcjxqKgog5IBgHGY/gYAO40aNUr5%2BfmqUKGCzGaz0XEAwClQVAKAnZKTk7Vjxw55enoaHQUAnAZrKgHATo0aNVJubq7RMQDAqbCmEgDstHz5ckVHR6t9%2B/aqVq2aXFyK/n3OfZwBlEYUlQBgp5CQkN88ZjKZuPg5gFKJohIAAAAOY6MOABRDSkqKatWqJUk6efLkXc%2BtXbv2g4gEAE6FTiUAFEOjRo2UkJAgSapbt65MJpPu9PVpMpmUnJz8oOMBgOEoKgGgGM6dO6caNWpIks6ePXvXc/38/B5EJABwKhSVAGCnN954Q4sWLbptPDc3V6%2B%2B%2BqrWrVtnQCoAMBZrKgGgmJKSkpSYmKiffvpJK1euvG36%2B9SpU/rvf/9rTDgAMBhFJQAU0%2BXLlxUbG6uCggLNnTv3tuPly5fXiBEjDEgGAMZj%2BhsA7BQREaGvvvrK6BgA4FQoKgHATlarVTt27FCHDh0kSYmJiYqJiVFgYKD69et32x12AKA04JsPAOw0depUffbZZ5KktLQ0vf7667py5Yo2bdqkL774wuB0AGAMOpUAYKe2bdtq2bJlqlmzpubMmaP4%2BHgtXLhQFy5cUK9evRQbG2t0RAB44OhUAoCdcnNzVbNmTUnSnj17FBoaKkny8vJSdna2kdEAwDAUlQBgp4CAAMXFxSkhIUEJCQm2ojIxMVFeXl4GpwMAY3BJIQCwU2RkpCIiImQ2mxURESEfHx/l5ORo0KBBGjx4sNHxAMAQrKkEgGL67rvv1KVLF0lSQUGB8vPz5e7ubjt%2B4MABrV69WpMnTzYqIgAYhqISAIopKChIhw4dsj1u1aqV9u3bd9dzAKC0YE0lABTTrX%2BDX7ly5Z7nAEBpQVEJAMVkMpnu%2Bvi3xgCgNKCoBAAAgMMoKgEAAOAwLikEAMVksVi0cuVK27rJWx//OgYApRG7vwGgmEJCQop13o4dO%2B5zEgBwPhSVAAAAcBhrKgEAAOAwikoAAAA4jKISAAAADqOoBAAAgMMoKgEAAOAwikoAAAA4jKISAAAADvs/J90JVSrPdkgAAAAASUVORK5CYII%3D\" class=\"center-img\">\n",
              "</div>\n",
              "    <div class=\"row headerrow highlight\">\n",
              "        <h1>Sample</h1>\n",
              "    </div>\n",
              "    <div class=\"row variablerow\">\n",
              "    <div class=\"col-md-12\" style=\"overflow:scroll; width: 100%%; overflow-y: hidden;\">\n",
              "        <table border=\"1\" class=\"dataframe sample\">\n",
              "  <thead>\n",
              "    <tr style=\"text-align: right;\">\n",
              "      <th></th>\n",
              "      <th>Gender</th>\n",
              "      <th>Age</th>\n",
              "      <th>EstimatedSalary</th>\n",
              "      <th>Purchased</th>\n",
              "    </tr>\n",
              "  </thead>\n",
              "  <tbody>\n",
              "    <tr>\n",
              "      <th>0</th>\n",
              "      <td>Male</td>\n",
              "      <td>19</td>\n",
              "      <td>19000</td>\n",
              "      <td>0</td>\n",
              "    </tr>\n",
              "    <tr>\n",
              "      <th>1</th>\n",
              "      <td>Male</td>\n",
              "      <td>35</td>\n",
              "      <td>20000</td>\n",
              "      <td>0</td>\n",
              "    </tr>\n",
              "    <tr>\n",
              "      <th>2</th>\n",
              "      <td>Female</td>\n",
              "      <td>26</td>\n",
              "      <td>43000</td>\n",
              "      <td>0</td>\n",
              "    </tr>\n",
              "    <tr>\n",
              "      <th>3</th>\n",
              "      <td>Female</td>\n",
              "      <td>27</td>\n",
              "      <td>57000</td>\n",
              "      <td>0</td>\n",
              "    </tr>\n",
              "    <tr>\n",
              "      <th>4</th>\n",
              "      <td>Male</td>\n",
              "      <td>19</td>\n",
              "      <td>76000</td>\n",
              "      <td>0</td>\n",
              "    </tr>\n",
              "  </tbody>\n",
              "</table>\n",
              "    </div>\n",
              "</div>\n",
              "</div>"
            ]
          },
          "metadata": {},
          "execution_count": 7
        }
      ]
    },
    {
      "cell_type": "code",
      "source": [
        "sns.countplot(x = \"Purchased\", data = insurance)"
      ],
      "metadata": {
        "colab": {
          "base_uri": "https://localhost:8080/",
          "height": 525
        },
        "id": "9IFZAm_ORf45",
        "outputId": "5aad5c53-3f7d-4262-8eb5-91f766ee91ca"
      },
      "execution_count": 8,
      "outputs": [
        {
          "output_type": "execute_result",
          "data": {
            "text/plain": [
              "<matplotlib.axes._subplots.AxesSubplot at 0x7f3cfb15b510>"
            ]
          },
          "metadata": {},
          "execution_count": 8
        },
        {
          "output_type": "display_data",
          "data": {
            "text/plain": [
              "<Figure size 800x550 with 1 Axes>"
            ],
            "image/png": "[encoded data removed]"
          },
          "metadata": {}
        }
      ]
    },
    {
      "cell_type": "markdown",
      "source": [
        "As you can see, the majority of those that visit the medical insurance company did not want to buy the insurance. This is an example of class imbalance. That is, there is no equal proportion of those that will buy or not."
      ],
      "metadata": {
        "id": "a8kAUi9IqM5A"
      }
    },
    {
      "cell_type": "code",
      "source": [
        "sns.countplot(x = \"Gender\", data = insurance)"
      ],
      "metadata": {
        "colab": {
          "base_uri": "https://localhost:8080/",
          "height": 525
        },
        "id": "J-MhptLZSGPn",
        "outputId": "fbf988a1-e6e9-4225-9b8b-605498f177b2"
      },
      "execution_count": 9,
      "outputs": [
        {
          "output_type": "execute_result",
          "data": {
            "text/plain": [
              "<matplotlib.axes._subplots.AxesSubplot at 0x7f3cf9395910>"
            ]
          },
          "metadata": {},
          "execution_count": 9
        },
        {
          "output_type": "display_data",
          "data": {
            "text/plain": [
              "<Figure size 800x550 with 1 Axes>"
            ],
            "image/png": "[encoded data removed]"
          },
          "metadata": {}
        }
      ]
    },
    {
      "cell_type": "markdown",
      "source": [
        "The proportion of males are almost the same as females"
      ],
      "metadata": {
        "id": "Ayp9QKerqOcm"
      }
    },
    {
      "cell_type": "code",
      "source": [
        "sns.countplot(x = \"Gender\", hue = \"Purchased\", data = insurance)"
      ],
      "metadata": {
        "colab": {
          "base_uri": "https://localhost:8080/",
          "height": 525
        },
        "id": "Gg9__i1pSSXa",
        "outputId": "bd8eb4de-e4bd-40f9-9169-26f40631831a"
      },
      "execution_count": 10,
      "outputs": [
        {
          "output_type": "execute_result",
          "data": {
            "text/plain": [
              "<matplotlib.axes._subplots.AxesSubplot at 0x7f3cf937cd50>"
            ]
          },
          "metadata": {},
          "execution_count": 10
        },
        {
          "output_type": "display_data",
          "data": {
            "text/plain": [
              "<Figure size 800x550 with 1 Axes>"
            ],
            "image/png": "[encoded data removed]"
          },
          "metadata": {}
        }
      ]
    },
    {
      "cell_type": "markdown",
      "source": [
        "It seems that females wanted to purchase the insurance when compared with males."
      ],
      "metadata": {
        "id": "X-_bbuLTqSPu"
      }
    },
    {
      "cell_type": "code",
      "source": [
        "sns.boxplot(x = 'Purchased', y = 'Age', data = insurance)"
      ],
      "metadata": {
        "colab": {
          "base_uri": "https://localhost:8080/",
          "height": 525
        },
        "id": "omYmOUsXSZ5L",
        "outputId": "c4074d90-9665-4514-cf50-8a106b0fd9b6"
      },
      "execution_count": 11,
      "outputs": [
        {
          "output_type": "execute_result",
          "data": {
            "text/plain": [
              "<matplotlib.axes._subplots.AxesSubplot at 0x7f3cf92f9150>"
            ]
          },
          "metadata": {},
          "execution_count": 11
        },
        {
          "output_type": "display_data",
          "data": {
            "text/plain": [
              "<Figure size 800x550 with 1 Axes>"
            ],
            "image/png": "[encoded data removed]"
          },
          "metadata": {}
        }
      ]
    },
    {
      "cell_type": "code",
      "source": [
        "sns.boxplot(x = 'Purchased', y = 'EstimatedSalary', data = insurance)"
      ],
      "metadata": {
        "colab": {
          "base_uri": "https://localhost:8080/",
          "height": 525
        },
        "id": "if7qyv0gSvmb",
        "outputId": "0c17dfd6-79fa-44a1-c29f-58e28217d287"
      },
      "execution_count": 12,
      "outputs": [
        {
          "output_type": "execute_result",
          "data": {
            "text/plain": [
              "<matplotlib.axes._subplots.AxesSubplot at 0x7f3cf927e7d0>"
            ]
          },
          "metadata": {},
          "execution_count": 12
        },
        {
          "output_type": "display_data",
          "data": {
            "text/plain": [
              "<Figure size 800x550 with 1 Axes>"
            ],
            "image/png": "[encoded data removed]"
          },
          "metadata": {}
        }
      ]
    },
    {
      "cell_type": "markdown",
      "source": [
        "People that earned higher salary purchased the insurance while those that earned low did not purchase the insurance. Of course, it is expected you purchase a medical insurance when you have money."
      ],
      "metadata": {
        "id": "8OFt5VZjqwzQ"
      }
    },
    {
      "cell_type": "markdown",
      "source": [
        "# Model building"
      ],
      "metadata": {
        "id": "Hyysz6efs5Wq"
      }
    },
    {
      "cell_type": "code",
      "source": [
        "from sklearn import metrics # Module For evaluation metrics\n",
        "from sklearn.model_selection import train_test_split # Module for splitting the data"
      ],
      "metadata": {
        "id": "b8Kxk8ijTTjR"
      },
      "execution_count": 13,
      "outputs": []
    },
    {
      "cell_type": "markdown",
      "source": [
        "Preparing the Data for modeling(Separating features and the label from the data)\n",
        "Now is the time to build machine learning models for the task of predicting whether the customers will buy medical insurance or not. Therefore, we shall separate the set of features (X) from the label (Y)."
      ],
      "metadata": {
        "id": "imdIQWUitAqN"
      }
    },
    {
      "cell_type": "code",
      "source": [
        "X = insurance.drop([\"Purchased\"], axis= \"columns\") # droping the label variable (Purchased) from the data\n",
        "y = insurance[\"Purchased\"]"
      ],
      "metadata": {
        "id": "jYG5aWK7TaUy"
      },
      "execution_count": 14,
      "outputs": []
    },
    {
      "cell_type": "code",
      "source": [
        "y.head()"
      ],
      "metadata": {
        "colab": {
          "base_uri": "https://localhost:8080/"
        },
        "id": "lahEUihwTf9C",
        "outputId": "939dcccf-cbcc-4cab-a54c-a07bfc08c8d5"
      },
      "execution_count": 15,
      "outputs": [
        {
          "output_type": "execute_result",
          "data": {
            "text/plain": [
              "0    0\n",
              "1    0\n",
              "2    0\n",
              "3    0\n",
              "4    0\n",
              "Name: Purchased, dtype: int64"
            ]
          },
          "metadata": {},
          "execution_count": 15
        }
      ]
    },
    {
      "cell_type": "code",
      "source": [
        "pd.get_dummies(insurance[ \"Gender\"])"
      ],
      "metadata": {
        "colab": {
          "base_uri": "https://localhost:8080/",
          "height": 424
        },
        "id": "HADA2YnBTidC",
        "outputId": "598d2d24-bf23-458f-f9c0-d1e594286f82"
      },
      "execution_count": 16,
      "outputs": [
        {
          "output_type": "execute_result",
          "data": {
            "text/plain": [
              "     Female  Male\n",
              "0         0     1\n",
              "1         0     1\n",
              "2         1     0\n",
              "3         1     0\n",
              "4         0     1\n",
              "..      ...   ...\n",
              "395       1     0\n",
              "396       0     1\n",
              "397       1     0\n",
              "398       0     1\n",
              "399       1     0\n",
              "\n",
              "[400 rows x 2 columns]"
            ],
            "text/html": [
              "\n",
              "  <div id=\"df-8562a62c-e1aa-40c9-842e-10a3b831d905\">\n",
              "    <div class=\"colab-df-container\">\n",
              "      <div>\n",
              "<style scoped>\n",
              "    .dataframe tbody tr th:only-of-type {\n",
              "        vertical-align: middle;\n",
              "    }\n",
              "\n",
              "    .dataframe tbody tr th {\n",
              "        vertical-align: top;\n",
              "    }\n",
              "\n",
              "    .dataframe thead th {\n",
              "        text-align: right;\n",
              "    }\n",
              "</style>\n",
              "<table border=\"1\" class=\"dataframe\">\n",
              "  <thead>\n",
              "    <tr style=\"text-align: right;\">\n",
              "      <th></th>\n",
              "      <th>Female</th>\n",
              "      <th>Male</th>\n",
              "    </tr>\n",
              "  </thead>\n",
              "  <tbody>\n",
              "    <tr>\n",
              "      <th>0</th>\n",
              "      <td>0</td>\n",
              "      <td>1</td>\n",
              "    </tr>\n",
              "    <tr>\n",
              "      <th>1</th>\n",
              "      <td>0</td>\n",
              "      <td>1</td>\n",
              "    </tr>\n",
              "    <tr>\n",
              "      <th>2</th>\n",
              "      <td>1</td>\n",
              "      <td>0</td>\n",
              "    </tr>\n",
              "    <tr>\n",
              "      <th>3</th>\n",
              "      <td>1</td>\n",
              "      <td>0</td>\n",
              "    </tr>\n",
              "    <tr>\n",
              "      <th>4</th>\n",
              "      <td>0</td>\n",
              "      <td>1</td>\n",
              "    </tr>\n",
              "    <tr>\n",
              "      <th>...</th>\n",
              "      <td>...</td>\n",
              "      <td>...</td>\n",
              "    </tr>\n",
              "    <tr>\n",
              "      <th>395</th>\n",
              "      <td>1</td>\n",
              "      <td>0</td>\n",
              "    </tr>\n",
              "    <tr>\n",
              "      <th>396</th>\n",
              "      <td>0</td>\n",
              "      <td>1</td>\n",
              "    </tr>\n",
              "    <tr>\n",
              "      <th>397</th>\n",
              "      <td>1</td>\n",
              "      <td>0</td>\n",
              "    </tr>\n",
              "    <tr>\n",
              "      <th>398</th>\n",
              "      <td>0</td>\n",
              "      <td>1</td>\n",
              "    </tr>\n",
              "    <tr>\n",
              "      <th>399</th>\n",
              "      <td>1</td>\n",
              "      <td>0</td>\n",
              "    </tr>\n",
              "  </tbody>\n",
              "</table>\n",
              "<p>400 rows × 2 columns</p>\n",
              "</div>\n",
              "      <button class=\"colab-df-convert\" onclick=\"convertToInteractive('df-8562a62c-e1aa-40c9-842e-10a3b831d905')\"\n",
              "              title=\"Convert this dataframe to an interactive table.\"\n",
              "              style=\"display:none;\">\n",
              "        \n",
              "  <svg xmlns=\"http://www.w3.org/2000/svg\" height=\"24px\"viewBox=\"0 0 24 24\"\n",
              "       width=\"24px\">\n",
              "    <path d=\"M0 0h24v24H0V0z\" fill=\"none\"/>\n",
              "    <path d=\"M18.56 5.44l.94 2.06.94-2.06 2.06-.94-2.06-.94-.94-2.06-.94 2.06-2.06.94zm-11 1L8.5 8.5l.94-2.06 2.06-.94-2.06-.94L8.5 2.5l-.94 2.06-2.06.94zm10 10l.94 2.06.94-2.06 2.06-.94-2.06-.94-.94-2.06-.94 2.06-2.06.94z\"/><path d=\"M17.41 7.96l-1.37-1.37c-.4-.4-.92-.59-1.43-.59-.52 0-1.04.2-1.43.59L10.3 9.45l-7.72 7.72c-.78.78-.78 2.05 0 2.83L4 21.41c.39.39.9.59 1.41.59.51 0 1.02-.2 1.41-.59l7.78-7.78 2.81-2.81c.8-.78.8-2.07 0-2.86zM5.41 20L4 18.59l7.72-7.72 1.47 1.35L5.41 20z\"/>\n",
              "  </svg>\n",
              "      </button>\n",
              "      \n",
              "  <style>\n",
              "    .colab-df-container {\n",
              "      display:flex;\n",
              "      flex-wrap:wrap;\n",
              "      gap: 12px;\n",
              "    }\n",
              "\n",
              "    .colab-df-convert {\n",
              "      background-color: #E8F0FE;\n",
              "      border: none;\n",
              "      border-radius: 50%;\n",
              "      cursor: pointer;\n",
              "      display: none;\n",
              "      fill: #1967D2;\n",
              "      height: 32px;\n",
              "      padding: 0 0 0 0;\n",
              "      width: 32px;\n",
              "    }\n",
              "\n",
              "    .colab-df-convert:hover {\n",
              "      background-color: #E2EBFA;\n",
              "      box-shadow: 0px 1px 2px rgba(60, 64, 67, 0.3), 0px 1px 3px 1px rgba(60, 64, 67, 0.15);\n",
              "      fill: #174EA6;\n",
              "    }\n",
              "\n",
              "    [theme=dark] .colab-df-convert {\n",
              "      background-color: #3B4455;\n",
              "      fill: #D2E3FC;\n",
              "    }\n",
              "\n",
              "    [theme=dark] .colab-df-convert:hover {\n",
              "      background-color: #434B5C;\n",
              "      box-shadow: 0px 1px 3px 1px rgba(0, 0, 0, 0.15);\n",
              "      filter: drop-shadow(0px 1px 2px rgba(0, 0, 0, 0.3));\n",
              "      fill: #FFFFFF;\n",
              "    }\n",
              "  </style>\n",
              "\n",
              "      <script>\n",
              "        const buttonEl =\n",
              "          document.querySelector('#df-8562a62c-e1aa-40c9-842e-10a3b831d905 button.colab-df-convert');\n",
              "        buttonEl.style.display =\n",
              "          google.colab.kernel.accessAllowed ? 'block' : 'none';\n",
              "\n",
              "        async function convertToInteractive(key) {\n",
              "          const element = document.querySelector('#df-8562a62c-e1aa-40c9-842e-10a3b831d905');\n",
              "          const dataTable =\n",
              "            await google.colab.kernel.invokeFunction('convertToInteractive',\n",
              "                                                     [key], {});\n",
              "          if (!dataTable) return;\n",
              "\n",
              "          const docLinkHtml = 'Like what you see? Visit the ' +\n",
              "            '<a target=\"_blank\" href=https://colab.research.google.com/notebooks/data_table.ipynb>data table notebook</a>'\n",
              "            + ' to learn more about interactive tables.';\n",
              "          element.innerHTML = '';\n",
              "          dataTable['output_type'] = 'display_data';\n",
              "          await google.colab.output.renderOutput(dataTable, element);\n",
              "          const docLink = document.createElement('div');\n",
              "          docLink.innerHTML = docLinkHtml;\n",
              "          element.appendChild(docLink);\n",
              "        }\n",
              "      </script>\n",
              "    </div>\n",
              "  </div>\n",
              "  "
            ]
          },
          "metadata": {},
          "execution_count": 16
        }
      ]
    },
    {
      "cell_type": "code",
      "source": [
        "X = pd.get_dummies(X)\n",
        "X.head()"
      ],
      "metadata": {
        "colab": {
          "base_uri": "https://localhost:8080/",
          "height": 206
        },
        "id": "B21b0UIhTlVL",
        "outputId": "b3cf786c-e479-4e32-ebbf-3ec787d0267f"
      },
      "execution_count": 17,
      "outputs": [
        {
          "output_type": "execute_result",
          "data": {
            "text/plain": [
              "   Age  EstimatedSalary  Gender_Female  Gender_Male\n",
              "0   19            19000              0            1\n",
              "1   35            20000              0            1\n",
              "2   26            43000              1            0\n",
              "3   27            57000              1            0\n",
              "4   19            76000              0            1"
            ],
            "text/html": [
              "\n",
              "  <div id=\"df-fcae898d-f52e-4259-90b0-e6ddaa14de4d\">\n",
              "    <div class=\"colab-df-container\">\n",
              "      <div>\n",
              "<style scoped>\n",
              "    .dataframe tbody tr th:only-of-type {\n",
              "        vertical-align: middle;\n",
              "    }\n",
              "\n",
              "    .dataframe tbody tr th {\n",
              "        vertical-align: top;\n",
              "    }\n",
              "\n",
              "    .dataframe thead th {\n",
              "        text-align: right;\n",
              "    }\n",
              "</style>\n",
              "<table border=\"1\" class=\"dataframe\">\n",
              "  <thead>\n",
              "    <tr style=\"text-align: right;\">\n",
              "      <th></th>\n",
              "      <th>Age</th>\n",
              "      <th>EstimatedSalary</th>\n",
              "      <th>Gender_Female</th>\n",
              "      <th>Gender_Male</th>\n",
              "    </tr>\n",
              "  </thead>\n",
              "  <tbody>\n",
              "    <tr>\n",
              "      <th>0</th>\n",
              "      <td>19</td>\n",
              "      <td>19000</td>\n",
              "      <td>0</td>\n",
              "      <td>1</td>\n",
              "    </tr>\n",
              "    <tr>\n",
              "      <th>1</th>\n",
              "      <td>35</td>\n",
              "      <td>20000</td>\n",
              "      <td>0</td>\n",
              "      <td>1</td>\n",
              "    </tr>\n",
              "    <tr>\n",
              "      <th>2</th>\n",
              "      <td>26</td>\n",
              "      <td>43000</td>\n",
              "      <td>1</td>\n",
              "      <td>0</td>\n",
              "    </tr>\n",
              "    <tr>\n",
              "      <th>3</th>\n",
              "      <td>27</td>\n",
              "      <td>57000</td>\n",
              "      <td>1</td>\n",
              "      <td>0</td>\n",
              "    </tr>\n",
              "    <tr>\n",
              "      <th>4</th>\n",
              "      <td>19</td>\n",
              "      <td>76000</td>\n",
              "      <td>0</td>\n",
              "      <td>1</td>\n",
              "    </tr>\n",
              "  </tbody>\n",
              "</table>\n",
              "</div>\n",
              "      <button class=\"colab-df-convert\" onclick=\"convertToInteractive('df-fcae898d-f52e-4259-90b0-e6ddaa14de4d')\"\n",
              "              title=\"Convert this dataframe to an interactive table.\"\n",
              "              style=\"display:none;\">\n",
              "        \n",
              "  <svg xmlns=\"http://www.w3.org/2000/svg\" height=\"24px\"viewBox=\"0 0 24 24\"\n",
              "       width=\"24px\">\n",
              "    <path d=\"M0 0h24v24H0V0z\" fill=\"none\"/>\n",
              "    <path d=\"M18.56 5.44l.94 2.06.94-2.06 2.06-.94-2.06-.94-.94-2.06-.94 2.06-2.06.94zm-11 1L8.5 8.5l.94-2.06 2.06-.94-2.06-.94L8.5 2.5l-.94 2.06-2.06.94zm10 10l.94 2.06.94-2.06 2.06-.94-2.06-.94-.94-2.06-.94 2.06-2.06.94z\"/><path d=\"M17.41 7.96l-1.37-1.37c-.4-.4-.92-.59-1.43-.59-.52 0-1.04.2-1.43.59L10.3 9.45l-7.72 7.72c-.78.78-.78 2.05 0 2.83L4 21.41c.39.39.9.59 1.41.59.51 0 1.02-.2 1.41-.59l7.78-7.78 2.81-2.81c.8-.78.8-2.07 0-2.86zM5.41 20L4 18.59l7.72-7.72 1.47 1.35L5.41 20z\"/>\n",
              "  </svg>\n",
              "      </button>\n",
              "      \n",
              "  <style>\n",
              "    .colab-df-container {\n",
              "      display:flex;\n",
              "      flex-wrap:wrap;\n",
              "      gap: 12px;\n",
              "    }\n",
              "\n",
              "    .colab-df-convert {\n",
              "      background-color: #E8F0FE;\n",
              "      border: none;\n",
              "      border-radius: 50%;\n",
              "      cursor: pointer;\n",
              "      display: none;\n",
              "      fill: #1967D2;\n",
              "      height: 32px;\n",
              "      padding: 0 0 0 0;\n",
              "      width: 32px;\n",
              "    }\n",
              "\n",
              "    .colab-df-convert:hover {\n",
              "      background-color: #E2EBFA;\n",
              "      box-shadow: 0px 1px 2px rgba(60, 64, 67, 0.3), 0px 1px 3px 1px rgba(60, 64, 67, 0.15);\n",
              "      fill: #174EA6;\n",
              "    }\n",
              "\n",
              "    [theme=dark] .colab-df-convert {\n",
              "      background-color: #3B4455;\n",
              "      fill: #D2E3FC;\n",
              "    }\n",
              "\n",
              "    [theme=dark] .colab-df-convert:hover {\n",
              "      background-color: #434B5C;\n",
              "      box-shadow: 0px 1px 3px 1px rgba(0, 0, 0, 0.15);\n",
              "      filter: drop-shadow(0px 1px 2px rgba(0, 0, 0, 0.3));\n",
              "      fill: #FFFFFF;\n",
              "    }\n",
              "  </style>\n",
              "\n",
              "      <script>\n",
              "        const buttonEl =\n",
              "          document.querySelector('#df-fcae898d-f52e-4259-90b0-e6ddaa14de4d button.colab-df-convert');\n",
              "        buttonEl.style.display =\n",
              "          google.colab.kernel.accessAllowed ? 'block' : 'none';\n",
              "\n",
              "        async function convertToInteractive(key) {\n",
              "          const element = document.querySelector('#df-fcae898d-f52e-4259-90b0-e6ddaa14de4d');\n",
              "          const dataTable =\n",
              "            await google.colab.kernel.invokeFunction('convertToInteractive',\n",
              "                                                     [key], {});\n",
              "          if (!dataTable) return;\n",
              "\n",
              "          const docLinkHtml = 'Like what you see? Visit the ' +\n",
              "            '<a target=\"_blank\" href=https://colab.research.google.com/notebooks/data_table.ipynb>data table notebook</a>'\n",
              "            + ' to learn more about interactive tables.';\n",
              "          element.innerHTML = '';\n",
              "          dataTable['output_type'] = 'display_data';\n",
              "          await google.colab.output.renderOutput(dataTable, element);\n",
              "          const docLink = document.createElement('div');\n",
              "          docLink.innerHTML = docLinkHtml;\n",
              "          element.appendChild(docLink);\n",
              "        }\n",
              "      </script>\n",
              "    </div>\n",
              "  </div>\n",
              "  "
            ]
          },
          "metadata": {},
          "execution_count": 17
        }
      ]
    },
    {
      "cell_type": "code",
      "source": [
        "X.info()"
      ],
      "metadata": {
        "colab": {
          "base_uri": "https://localhost:8080/"
        },
        "id": "q8TszsU6Tn7T",
        "outputId": "a7ed0459-edeb-4584-ecd2-10b2deec9149"
      },
      "execution_count": 18,
      "outputs": [
        {
          "output_type": "stream",
          "name": "stdout",
          "text": [
            "<class 'pandas.core.frame.DataFrame'>\n",
            "RangeIndex: 400 entries, 0 to 399\n",
            "Data columns (total 4 columns):\n",
            "Age                400 non-null int64\n",
            "EstimatedSalary    400 non-null int64\n",
            "Gender_Female      400 non-null uint8\n",
            "Gender_Male        400 non-null uint8\n",
            "dtypes: int64(2), uint8(2)\n",
            "memory usage: 7.2 KB\n"
          ]
        }
      ]
    },
    {
      "cell_type": "markdown",
      "source": [
        "Split the data into training and test set\n",
        "\n",
        "\n",
        "As discussed in A, We will split our dataset (Features (X) and Label (Y)) into training and test data by using train_test_split() function from the sklearn. The training set will be 80% while the test set will be 20%. The random_state that is set to 42 arbitrarily."
      ],
      "metadata": {
        "id": "GfFYUmJ4tThr"
      }
    },
    {
      "cell_type": "code",
      "source": [
        "X_train, X_test, y_train, y_test = train_test_split(X, y, test_size = 0.2, random_state= 42)"
      ],
      "metadata": {
        "id": "qq-oHbNCTsMH"
      },
      "execution_count": 19,
      "outputs": []
    },
    {
      "cell_type": "code",
      "source": [
        "from sklearn.linear_model import LogisticRegression\n",
        "\n",
        "logisticmodel = LogisticRegression()\n",
        "logisticmodel.fit(X_train, y_train)\n"
      ],
      "metadata": {
        "colab": {
          "base_uri": "https://localhost:8080/"
        },
        "id": "oHXU1lJLTwOp",
        "outputId": "e24654c9-436f-448d-99f6-d1b015a398fa"
      },
      "execution_count": 20,
      "outputs": [
        {
          "output_type": "execute_result",
          "data": {
            "text/plain": [
              "LogisticRegression()"
            ]
          },
          "metadata": {},
          "execution_count": 20
        }
      ]
    },
    {
      "cell_type": "code",
      "source": [
        "logistic_prediction = logisticmodel.predict(X_test)"
      ],
      "metadata": {
        "id": "PnV1PEqmT2kn"
      },
      "execution_count": 21,
      "outputs": []
    },
    {
      "cell_type": "markdown",
      "source": [
        "Model evaluation:\n",
        "\n",
        "Since we know the true label in the test set (i.e. y_test), we can compare this prediction with it, hence evaluate the logistic model. I have created a function that will help you visualize a confusion matrix for the logistic model and you can call on it henceforth to check the performance of any model."
      ],
      "metadata": {
        "id": "VlIgKM_ZtWAO"
      }
    },
    {
      "cell_type": "code",
      "source": [
        "def ConfusionMatrix (ytest, ypred, label = ['Negative', 'Positive']):\n",
        "  from sklearn.metrics import confusion_matrix\n",
        "  import seaborn as sns\n",
        "  cm = confusion_matrix(ytest, ypred)\n",
        "  plt.figure(figsize=(7, 5))\n",
        "  sns.heatmap(cm, annot = True, cbar = False, fmt = 'd', cmap = 'winter')\n",
        "  plt.xlabel('Predicted', fontsize = 13)\n",
        "  plt.xticks ( [0.5, 1.5], label)\n",
        "  plt.yticks ( [0.5, 1.5], label)\n",
        "  plt.ylabel('Truth', fontsize = 13)\n",
        "  plt.title('A confusion matrix');"
      ],
      "metadata": {
        "id": "yEwcVL2_T5YV"
      },
      "execution_count": 22,
      "outputs": []
    },
    {
      "cell_type": "code",
      "source": [
        "ConfusionMatrix(y_test, logistic_prediction, label= [\"not-purchaed\", \"purchased\"])"
      ],
      "metadata": {
        "colab": {
          "base_uri": "https://localhost:8080/",
          "height": 493
        },
        "id": "yYWC1kitUAY1",
        "outputId": "15623efe-03a4-4966-d258-9df5e56e1def"
      },
      "execution_count": 23,
      "outputs": [
        {
          "output_type": "display_data",
          "data": {
            "text/plain": [
              "<Figure size 700x500 with 1 Axes>"
            ],
            "image/png": "[encoded data removed]"
          },
          "metadata": {}
        }
      ]
    },
    {
      "cell_type": "markdown",
      "source": [
        "Interpretation of the Logistics Regression model evaluation performance\n",
        "\n",
        "\n",
        "There are 73 True Negatives (TN): predicting that the customer will not buy the insurance and truly the customer did not buy the insurance.\n",
        "There are 42 False Negative (FN): predicting that the customer will not buy the insurance and the customer actually bought the insurance.\n",
        "We can check the accuracy by using:"
      ],
      "metadata": {
        "id": "cmb8mGBNtb3U"
      }
    },
    {
      "cell_type": "code",
      "source": [
        "metrics.accuracy_score(y_test, logistic_prediction)"
      ],
      "metadata": {
        "colab": {
          "base_uri": "https://localhost:8080/"
        },
        "id": "6cTD5BsrUD9u",
        "outputId": "65256d2e-edfa-407a-bc6b-74a92ba63738"
      },
      "execution_count": 24,
      "outputs": [
        {
          "output_type": "execute_result",
          "data": {
            "text/plain": [
              "0.6083333333333333"
            ]
          },
          "metadata": {},
          "execution_count": 24
        }
      ]
    },
    {
      "cell_type": "code",
      "source": [
        "print(metrics.classification_report(y_test, logistic_prediction))"
      ],
      "metadata": {
        "colab": {
          "base_uri": "https://localhost:8080/"
        },
        "id": "I9UPKEaqUKsf",
        "outputId": "38c4b1cf-319b-4561-a582-b72f18162687"
      },
      "execution_count": 25,
      "outputs": [
        {
          "output_type": "stream",
          "name": "stdout",
          "text": [
            "              precision    recall  f1-score   support\n",
            "\n",
            "           0       0.61      1.00      0.76        73\n",
            "           1       0.00      0.00      0.00        47\n",
            "\n",
            "    accuracy                           0.61       120\n",
            "   macro avg       0.30      0.50      0.38       120\n",
            "weighted avg       0.37      0.61      0.46       120\n",
            "\n"
          ]
        },
        {
          "output_type": "stream",
          "name": "stderr",
          "text": [
            "/usr/local/lib/python3.7/dist-packages/sklearn/metrics/_classification.py:1318: UndefinedMetricWarning: Precision and F-score are ill-defined and being set to 0.0 in labels with no predicted samples. Use `zero_division` parameter to control this behavior.\n",
            "  _warn_prf(average, modifier, msg_start, len(result))\n",
            "/usr/local/lib/python3.7/dist-packages/sklearn/metrics/_classification.py:1318: UndefinedMetricWarning: Precision and F-score are ill-defined and being set to 0.0 in labels with no predicted samples. Use `zero_division` parameter to control this behavior.\n",
            "  _warn_prf(average, modifier, msg_start, len(result))\n",
            "/usr/local/lib/python3.7/dist-packages/sklearn/metrics/_classification.py:1318: UndefinedMetricWarning: Precision and F-score are ill-defined and being set to 0.0 in labels with no predicted samples. Use `zero_division` parameter to control this behavior.\n",
            "  _warn_prf(average, modifier, msg_start, len(result))\n"
          ]
        }
      ]
    },
    {
      "cell_type": "markdown",
      "source": [
        "There are four ways to check if the predictions are right or wrong:\n",
        "\n",
        "* TN / True Negative: the case was negative and predicted negative\n",
        "* TP / True Positive: the case was positive and predicted positive\n",
        "* FN / False Negative: the case was positive but predicted negative\n",
        "* FP / False Positive: the case was negative but predicted positive\n",
        "\n",
        "### Precision — What percent of your predictions were correct?\n",
        "\n",
        "Precision is the ability of a classifier not to label an instance positive that is actually negative. For each class, it is defined as the ratio of true positives to the sum of a true positive and false positive.\n",
        "Precision:- Accuracy of positive predictions.\n",
        "\n",
        "Precision = TP/(TP + FP)\n",
        "\n",
        "### Recall — What percent of the positive cases did you catch?\n",
        "\n",
        "Recall is the ability of a classifier to find all positive instances. For each class it is defined as the ratio of true positives to the sum of true positives and false negatives.\n",
        "\n",
        "Recall:- Fraction of positives that were correctly identified.\n",
        "\n",
        "Recall = TP/(TP+FN)\n",
        "\n",
        "### F1 score — What percent of positive predictions were correct?\n",
        "\n",
        "The F1 score is a weighted harmonic mean of precision and recall such that the best score is 1.0 and the worst is 0.0. F1 scores are lower than accuracy measures as they embed precision and recall into their computation. As a rule of thumb, the weighted average of F1 should be used to compare classifier models, not global accuracy.\n",
        "\n",
        "F1 Score = 2*(Recall * Precision) / (Recall + Precision)\n",
        "\n",
        "### Support\n",
        "\n",
        "Support is the number of actual occurrences of the class in the specified dataset. Imbalanced support in the training data may indicate structural weaknesses in the reported scores of the classifier and could indicate the need for stratified sampling or rebalancing. Support doesn’t change between models but instead diagnoses the evaluation process."
      ],
      "metadata": {
        "id": "M--Ruvo9trNv"
      }
    },
    {
      "cell_type": "code",
      "source": [
        "from sklearn.ensemble import RandomForestClassifier\n",
        "randomforestmodel = RandomForestClassifier()\n",
        "randomforestmodel.fit(X_train, y_train)"
      ],
      "metadata": {
        "colab": {
          "base_uri": "https://localhost:8080/"
        },
        "id": "AD1jC_mWUSko",
        "outputId": "d69ab6b5-b102-4faa-d9f9-ace86b69144d"
      },
      "execution_count": 26,
      "outputs": [
        {
          "output_type": "execute_result",
          "data": {
            "text/plain": [
              "RandomForestClassifier()"
            ]
          },
          "metadata": {},
          "execution_count": 26
        }
      ]
    },
    {
      "cell_type": "code",
      "source": [
        "rf_prediction = randomforestmodel.predict(X_test)"
      ],
      "metadata": {
        "id": "efXOcIyiUtSR"
      },
      "execution_count": 27,
      "outputs": []
    },
    {
      "cell_type": "code",
      "source": [
        "ConfusionMatrix(y_test, rf_prediction, label= [\"not-purchaed\", \"purchased\"])"
      ],
      "metadata": {
        "colab": {
          "base_uri": "https://localhost:8080/",
          "height": 0
        },
        "id": "tl3SahXeUxDN",
        "outputId": "67a56ed9-859d-4d71-e0a7-85bf72954a0a"
      },
      "execution_count": 28,
      "outputs": [
        {
          "output_type": "display_data",
          "data": {
            "text/plain": [
              "<Figure size 700x500 with 1 Axes>"
            ],
            "image/png": "[encoded data removed]"
          },
          "metadata": {}
        }
      ]
    },
    {
      "cell_type": "code",
      "source": [
        "metrics.accuracy_score(y_test, rf_prediction)"
      ],
      "metadata": {
        "colab": {
          "base_uri": "https://localhost:8080/"
        },
        "id": "5LgXXPvPU3oL",
        "outputId": "7bb25ca6-279a-4a89-8904-497720c3cc56"
      },
      "execution_count": 29,
      "outputs": [
        {
          "output_type": "execute_result",
          "data": {
            "text/plain": [
              "0.9"
            ]
          },
          "metadata": {},
          "execution_count": 29
        }
      ]
    },
    {
      "cell_type": "code",
      "source": [
        "print(metrics.classification_report(y_test, rf_prediction))"
      ],
      "metadata": {
        "colab": {
          "base_uri": "https://localhost:8080/"
        },
        "id": "sq8t76EHU9ZA",
        "outputId": "bb3ffc90-e884-41a5-9028-6ff3264ddedf"
      },
      "execution_count": 30,
      "outputs": [
        {
          "output_type": "stream",
          "name": "stdout",
          "text": [
            "              precision    recall  f1-score   support\n",
            "\n",
            "           0       0.92      0.92      0.92        73\n",
            "           1       0.87      0.87      0.87        47\n",
            "\n",
            "    accuracy                           0.90       120\n",
            "   macro avg       0.90      0.90      0.90       120\n",
            "weighted avg       0.90      0.90      0.90       120\n",
            "\n"
          ]
        }
      ]
    },
    {
      "cell_type": "markdown",
      "source": [
        "# Can we make this model better by tuning Hyper Parameters?"
      ],
      "metadata": {
        "id": "404WrzKNyYE5"
      }
    },
    {
      "cell_type": "code",
      "source": [
        "from sklearn.ensemble import RandomForestClassifier\n",
        "randomforestmodel = RandomForestClassifier(n_estimators= 50)\n",
        "randomforestmodel.fit(X_train, y_train)"
      ],
      "metadata": {
        "colab": {
          "base_uri": "https://localhost:8080/"
        },
        "id": "Ni15rX25U-AG",
        "outputId": "33144dc2-6ee9-473a-b975-ae68089f1c86"
      },
      "execution_count": 31,
      "outputs": [
        {
          "output_type": "execute_result",
          "data": {
            "text/plain": [
              "RandomForestClassifier(n_estimators=50)"
            ]
          },
          "metadata": {},
          "execution_count": 31
        }
      ]
    },
    {
      "cell_type": "code",
      "source": [
        "rf_prediction = randomforestmodel.predict(X_test)"
      ],
      "metadata": {
        "id": "BmpSmrKAVDZM"
      },
      "execution_count": 32,
      "outputs": []
    },
    {
      "cell_type": "code",
      "source": [
        "ConfusionMatrix(y_test, rf_prediction, label= [\"not-purchaed\", \"purchased\"])"
      ],
      "metadata": {
        "colab": {
          "base_uri": "https://localhost:8080/",
          "height": 0
        },
        "id": "S4OL_tV3VH2d",
        "outputId": "71da0c8f-b1eb-45a1-da72-5b01f44e1e3b"
      },
      "execution_count": 33,
      "outputs": [
        {
          "output_type": "display_data",
          "data": {
            "text/plain": [
              "<Figure size 700x500 with 1 Axes>"
            ],
            "image/png": "[encoded data removed]"
          },
          "metadata": {}
        }
      ]
    },
    {
      "cell_type": "code",
      "source": [
        "metrics.accuracy_score(y_test, rf_prediction)"
      ],
      "metadata": {
        "colab": {
          "base_uri": "https://localhost:8080/"
        },
        "id": "XXmTnYlLVIr9",
        "outputId": "d42807bf-9f41-4f72-f5c7-2636b07eaca4"
      },
      "execution_count": 34,
      "outputs": [
        {
          "output_type": "execute_result",
          "data": {
            "text/plain": [
              "0.9166666666666666"
            ]
          },
          "metadata": {},
          "execution_count": 34
        }
      ]
    },
    {
      "cell_type": "code",
      "source": [
        "print(metrics.classification_report(y_test, rf_prediction))"
      ],
      "metadata": {
        "colab": {
          "base_uri": "https://localhost:8080/"
        },
        "id": "x19Cvbm5VLBA",
        "outputId": "a8fe2bca-046e-458c-eebc-7e4a4b02ca18"
      },
      "execution_count": 35,
      "outputs": [
        {
          "output_type": "stream",
          "name": "stdout",
          "text": [
            "              precision    recall  f1-score   support\n",
            "\n",
            "           0       0.93      0.93      0.93        73\n",
            "           1       0.89      0.89      0.89        47\n",
            "\n",
            "    accuracy                           0.92       120\n",
            "   macro avg       0.91      0.91      0.91       120\n",
            "weighted avg       0.92      0.92      0.92       120\n",
            "\n"
          ]
        }
      ]
    },
    {
      "cell_type": "code",
      "source": [
        "print('Parameters currently in use:\\n')\n",
        "mod_details = randomforestmodel.get_params()\n",
        "for i in mod_details:\n",
        "  print(i,\" :\", mod_details[i])"
      ],
      "metadata": {
        "colab": {
          "base_uri": "https://localhost:8080/"
        },
        "id": "4bghgTs8VNCE",
        "outputId": "7a27d249-88fd-4c68-fd3f-b1a39eb5eda8"
      },
      "execution_count": 36,
      "outputs": [
        {
          "output_type": "stream",
          "name": "stdout",
          "text": [
            "Parameters currently in use:\n",
            "\n",
            "bootstrap  : True\n",
            "ccp_alpha  : 0.0\n",
            "class_weight  : None\n",
            "criterion  : gini\n",
            "max_depth  : None\n",
            "max_features  : auto\n",
            "max_leaf_nodes  : None\n",
            "max_samples  : None\n",
            "min_impurity_decrease  : 0.0\n",
            "min_samples_leaf  : 1\n",
            "min_samples_split  : 2\n",
            "min_weight_fraction_leaf  : 0.0\n",
            "n_estimators  : 50\n",
            "n_jobs  : None\n",
            "oob_score  : False\n",
            "random_state  : None\n",
            "verbose  : 0\n",
            "warm_start  : False\n"
          ]
        }
      ]
    },
    {
      "cell_type": "code",
      "source": [
        "from sklearn.model_selection import RandomizedSearchCV\n",
        "\n",
        "# Number of trees in random forest\n",
        "n_estimators = [int(x) for x in np.linspace(start = 20, stop = 250, num = 10)]\n",
        "# Number of features to consider at every split\n",
        "max_features = ['auto', 'sqrt']\n",
        "# Maximum number of levels in tree\n",
        "max_depth = [int(x) for x in np.linspace(5, 50, num = 10)]\n",
        "max_depth.append(None)\n",
        "# Minimum number of samples required to split a node\n",
        "min_samples_split = [2, 5, 10]\n",
        "# Minimum number of samples required at each leaf node\n",
        "min_samples_leaf = [1, 2, 4]\n",
        "# Method of selecting samples for training each tree\n",
        "bootstrap = [True, False]\n",
        "# Create the random grid\n",
        "random_grid = {'n_estimators': n_estimators,\n",
        "               'max_features': max_features,\n",
        "               'max_depth': max_depth,\n",
        "               'min_samples_split': min_samples_split,\n",
        "               'min_samples_leaf': min_samples_leaf,\n",
        "               'bootstrap': bootstrap}\n",
        "\n",
        "for i in random_grid:\n",
        "  print(i,\" :\", random_grid[i])"
      ],
      "metadata": {
        "colab": {
          "base_uri": "https://localhost:8080/"
        },
        "id": "CJHNS5BVVPWY",
        "outputId": "8b10b67a-a69e-4bdc-ed06-02d050774eac"
      },
      "execution_count": 37,
      "outputs": [
        {
          "output_type": "stream",
          "name": "stdout",
          "text": [
            "n_estimators  : [20, 45, 71, 96, 122, 147, 173, 198, 224, 250]\n",
            "max_features  : ['auto', 'sqrt']\n",
            "max_depth  : [5, 10, 15, 20, 25, 30, 35, 40, 45, 50, None]\n",
            "min_samples_split  : [2, 5, 10]\n",
            "min_samples_leaf  : [1, 2, 4]\n",
            "bootstrap  : [True, False]\n"
          ]
        }
      ]
    },
    {
      "cell_type": "code",
      "source": [
        "# Use the random grid to search for best hyperparameters\n",
        "# First create the base model to tune\n",
        "rf = RandomForestClassifier()\n",
        "# Random search of parameters, using 3 fold cross validation, \n",
        "# search across 100 different combinations, and use all available cores\n",
        "rf_random = RandomizedSearchCV(estimator = rf, param_distributions = random_grid, n_iter = 50, cv = 3, verbose=2, random_state=7, n_jobs = -1)\n",
        "# Fit the random search model\n",
        "rf_random.fit(X_train, y_train)"
      ],
      "metadata": {
        "colab": {
          "base_uri": "https://localhost:8080/"
        },
        "id": "GdXA4W4bVxql",
        "outputId": "b9a6083a-3e2c-4f86-8cf7-fc15d6bce125"
      },
      "execution_count": 38,
      "outputs": [
        {
          "output_type": "stream",
          "name": "stdout",
          "text": [
            "Fitting 3 folds for each of 50 candidates, totalling 150 fits\n"
          ]
        },
        {
          "output_type": "execute_result",
          "data": {
            "text/plain": [
              "RandomizedSearchCV(cv=3, estimator=RandomForestClassifier(), n_iter=50,\n",
              "                   n_jobs=-1,\n",
              "                   param_distributions={'bootstrap': [True, False],\n",
              "                                        'max_depth': [5, 10, 15, 20, 25, 30, 35,\n",
              "                                                      40, 45, 50, None],\n",
              "                                        'max_features': ['auto', 'sqrt'],\n",
              "                                        'min_samples_leaf': [1, 2, 4],\n",
              "                                        'min_samples_split': [2, 5, 10],\n",
              "                                        'n_estimators': [20, 45, 71, 96, 122,\n",
              "                                                         147, 173, 198, 224,\n",
              "                                                         250]},\n",
              "                   random_state=7, verbose=2)"
            ]
          },
          "metadata": {},
          "execution_count": 38
        }
      ]
    },
    {
      "cell_type": "code",
      "source": [
        "rf_random.best_params_"
      ],
      "metadata": {
        "colab": {
          "base_uri": "https://localhost:8080/"
        },
        "id": "nU6hwLDLV4vo",
        "outputId": "18de94ca-caad-4419-bb2e-fc6bbc31ee5c"
      },
      "execution_count": 39,
      "outputs": [
        {
          "output_type": "execute_result",
          "data": {
            "text/plain": [
              "{'bootstrap': False,\n",
              " 'max_depth': 30,\n",
              " 'max_features': 'sqrt',\n",
              " 'min_samples_leaf': 1,\n",
              " 'min_samples_split': 10,\n",
              " 'n_estimators': 96}"
            ]
          },
          "metadata": {},
          "execution_count": 39
        }
      ]
    },
    {
      "cell_type": "code",
      "source": [
        "from sklearn.metrics import accuracy_score\n",
        "\n",
        "base_model = RandomForestClassifier(random_state= 7)\n",
        "base_model.fit(X_train, y_train)\n",
        "bm_predictions = base_model.predict(X_test)\n",
        "base_accuracy = metrics.accuracy_score(y_test, bm_predictions)\n",
        "print(\"Base model Accuracy:\", base_accuracy)\n",
        "\n",
        "best_random = rf_random.best_estimator_\n",
        "best_random.fit(X_train, y_train)\n",
        "best_predictions = best_random.predict(X_test)\n",
        "best_accuracy = metrics.accuracy_score(y_test, best_predictions)\n",
        "print(\"Best model Accuracy:\", base_accuracy)\n",
        "\n",
        "print('Improvement of {:0.2f}%.'.format( 100 * (best_accuracy - base_accuracy) / base_accuracy))"
      ],
      "metadata": {
        "colab": {
          "base_uri": "https://localhost:8080/"
        },
        "id": "OXeqeskHV8s_",
        "outputId": "d513b06c-4901-45b5-e869-cb4a3217ba5e"
      },
      "execution_count": 40,
      "outputs": [
        {
          "output_type": "stream",
          "name": "stdout",
          "text": [
            "Base model Accuracy: 0.9166666666666666\n",
            "Best model Accuracy: 0.9166666666666666\n",
            "Improvement of 0.00%.\n"
          ]
        }
      ]
    },
    {
      "cell_type": "code",
      "source": [
        ""
      ],
      "metadata": {
        "id": "r2Vj3wc6pSkK"
      },
      "execution_count": 40,
      "outputs": []
    }
  ]
}